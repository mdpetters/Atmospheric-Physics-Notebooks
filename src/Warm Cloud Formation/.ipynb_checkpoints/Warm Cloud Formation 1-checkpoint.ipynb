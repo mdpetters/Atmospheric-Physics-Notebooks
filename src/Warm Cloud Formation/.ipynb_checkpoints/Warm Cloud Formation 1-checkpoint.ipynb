{
 "cells": [
  {
   "cell_type": "markdown",
   "metadata": {},
   "source": [
    " # <center> MEA 412: Warm Cloud Microphysics </center>\n",
    "\n",
    "## Background (Review from MEA 312): \n",
    "\n",
    "When parcels of air ascend adiabatically, both temperature and dew-point temperature decrease. As a result, relative humidity increases. When the relative humidity is 100%, the parcel has reached its <i> lifted condensation level </i> (LCL). Ascend beyond the LCL results in condensation and a cloud forms. The temperature profile above the LCL follows the <i> saturated adiabatic lapse rate </i> (SALR). The <i> adiabatic liquid water mixing ratio </i> is liquid water mixing ratio that condenses due to adiabatic lifting. The adiabatic liquid water mixing ratio is zero at cloud base and increases with height. \n",
    "    \n",
    "<img src=\"figures/cloud_formation.png\" width=\"500\"> \n",
    "\n",
    "<b> Figure 1.</b> Schematic diagram of the steps involved in cloud formation. </b> <br>\n",
    "\n",
    "- Adiabatic ascent leads to a decrease in temperature and dewpoint temperature and an increase in saturation ratio. \n",
    "\n",
    "- The lifting condensation level (LCL) is the thermodynamic cloud base and corresponds to the atmospheric pressure level where the saturation ratio $S$=1. \n",
    "\n",
    "- The height of the LCL is proportional to the dewpoint depression. \n",
    "\n",
    "- The saturated adiabatic lapse rate (SALR) is the change in temperature and dewpoint temperature with height for adiabatic expansion above the LCL. \n",
    "\n",
    "- Adiabatic cloud liquid water mixing ratio is zero at cloud base and increases with height above cloud base. \n",
    "\n",
    "\n",
    "<b> Questions to be answered in this Lecture</b>\n",
    "1. Clouds (and rain) are a dispersion of droplets. What is the number concentration of droplets inside the cloud?\n",
    "2. What is the average diameter of cloud droplets?\n",
    "\n",
    "<b> Motivation:</b>\n",
    "The number concentration and mean droplet size determines the albedo of the cloud, and how readily the cloud precipitates. We therefore seek to understand the mechanism that determines these quantities.\n",
    "\n",
    " <img src=\"figures/cloud12.png\" width=\"800\">  \n",
    "\n",
    "<b> Figure 2.</b> <i> Left: </i> Cumulus with low droplet number concentration and large drop diameter; fuzzy and precipitating. <i> Right: </i> Continental cumulus with high droplet number concentration and small drop diameter; sharp edges/no rain. Image credits. Left: Versageek/CC BY-SA 3.0 via Wikimedia Commons. Right: Ximonic, Simo Räsänen/GFDL, via Wikimedia Commons.</b> <br>\n",
    "\n",
    "- The smaller droplets in continental clouds results in the boundaries of these clouds being well-defined, because the droplets evaporate quickly in the non-saturated ambient air\n",
    "- The absence of droplets much beyond the main boundary of continental cumulus clouds gives them a harder appearance\n",
    "- The larger droplets in marine clouds lead to the release of precipitation in shallower clouds, and with smaller updrafts, than in continental clouds\n",
    "- The larger number of droplets makes continental clouds brighter than marine clouds, resulting in more reflection back to space. "
   ]
  },
  {
   "cell_type": "code",
   "execution_count": null,
   "metadata": {},
   "outputs": [],
   "source": [
    "@time include(\"scripts/Cloud Formation App.jl\")"
   ]
  },
  {
   "cell_type": "markdown",
   "metadata": {},
   "source": [
    "## <font color='red'> A. Exercises (use the slider to explore) </font>\n",
    "1. How does the difference between the surface temperature and dew-point temperature (a.k.a dew-point depression) influence the height of the LCL?\n",
    "2. How does the surface dew-point depression relate to the relative humidity at the surface?\n",
    "3. Why is the temperature and dew-point temperature identical above the LCL?\n",
    "4. Why does relative humidity increase with height below the LCL?\n",
    "5. Why is the relative humidity constant above the LCL?\n",
    "6. Why is the liquid water mixing ratio zero below the LCL?\n",
    "7. Why does the liquid water mixing ratio increase with height above the LCL?\n",
    "8. List the factors that go into the calculation of the liquid water mixing ratio. Then rank them by importance. "
   ]
  },
  {
   "cell_type": "markdown",
   "metadata": {},
   "source": [
    "## Cloud Condensation Nuclei (CCN)\n",
    "\n",
    "- Water condensation does not occur at 100% RH but at slightly larger values.\n",
    "- The water supersaturation in percent is defined as \n",
    "<center> $s = (\\frac{RH}{100\\%} - 1)\\times100\\%$ </center>\n",
    "- Cloud condensation nuclei are measured using a Cloud Condensation Nuclei counter \n",
    "\n",
    "<img src=\"figures/ccn_chamber.png\" width=\"500\"> \n",
    "<b> Figure 3.</b> Left: Vertical cross-section through a static CCN chamber. \n",
    "\n",
    "\n",
    "- Air is drawn into the chamber and the chamber is sealed. A temperature differential between the top and bottom plate is established. This results in a linear temperature and vapor pressure profile. A controlled supersaturation forms in the center of the chamber, with the maximum near the centerline. \n",
    "\n",
    "- The number of visible cloud droplets that form near the centerline is the CCN number concentration    \n"
   ]
  },
  {
   "cell_type": "code",
   "execution_count": null,
   "metadata": {},
   "outputs": [],
   "source": [
    "#include(\"scripts/CCN Instrument.jl\")"
   ]
  },
  {
   "cell_type": "markdown",
   "metadata": {},
   "source": [
    "## <font color='red'> B. Exercises (use the slider to explore) </font>\n",
    "1. How does the instrument supersaturation depend on the temperature difference between top and bottom plate? What is the range of supersaturations that is achievable with the given temperature range?\n",
    "2. Explain why the temperature profile is linear between the top and bottom plate.\n",
    "3. Explain how to calculate the vapor pressure at the top and bottom of the chamber.\n",
    "4. Explain why the vapor pressure profile is linear throughout the chamber.\n",
    "5. Explain why a supersaturation forms in the center of the instrument.\n",
    "6. Explain why the instrument is configured such that the temperature increases with height."
   ]
  },
  {
   "cell_type": "markdown",
   "metadata": {},
   "source": [
    "## Cumulative CCN Number Concentration"
   ]
  },
  {
   "cell_type": "code",
   "execution_count": null,
   "metadata": {},
   "outputs": [],
   "source": [
    "# include(\"scripts/CCN data.jl\")"
   ]
  },
  {
   "cell_type": "markdown",
   "metadata": {},
   "source": [
    "<b> Figure 4.</b> CCN instruments measure CCN concentration at different supersaturaturation. The higher the supersaturation, the higher the number of observed cloud drops. The data are usually viewed as the cumulative supersaturation spectrum, that graphs the number of CCN (or cloud drops formed in the chamber) versus supersaturation.\n",
    "\n",
    "The cumulative number concentration of cloud condensation nuclei (CCN) increases with the applied supersaturation. The relationship is often described via the equation\n",
    "\n",
    "<center> $N_{CCN} = Cs^k$ </center>\n",
    "\n",
    "where $s$ is the supersaturation in %, and $C$ and $k$ are fitted coefficients to match the data."
   ]
  },
  {
   "cell_type": "code",
   "execution_count": null,
   "metadata": {},
   "outputs": [],
   "source": [
    "@time include(\"scripts/CCN App.jl\")"
   ]
  },
  {
   "cell_type": "markdown",
   "metadata": {},
   "source": [
    "## <font color='red'> C. Exercises (use the slider to explore) </font>\n",
    "1. What effect has the \"C\" parameter on the relationship between supersaturation and CCN number?\n",
    "2. What effect has the \"k\" parameter on the relationship between supersaturation and CCN number?\n",
    "3. Explain why the relationship between supersaturation and CCN number is has concave curvature when graphed in linear-linear space (left) and is linear when graphed in log-log space (right)."
   ]
  },
  {
   "cell_type": "markdown",
   "metadata": {},
   "source": [
    "## Example Measurements\n",
    "\n",
    "<img src=\"figures/CCN Data Hudson.png\" width=\"800\"> \n",
    "\n",
    "<b> Figure 5. </b> Example direct CCN measurements obtained around the world  (Hudson and Yum, 2001). The data are graphed in log-log space and parameterized in terms of $C$ and $k$<br>\n"
   ]
  },
  {
   "cell_type": "markdown",
   "metadata": {},
   "source": [
    "## <font color='red'> D. Exercises</font>\n",
    "1. Estimate the C value for the maritime and continental CCN in Figure 5a above. \n",
    "2. Which environment (marine or continental) has more CCN available?\n",
    "3. What is the range of the slopes \"k\" parameter that is observed for the marine and continental case?\n",
    "4. Use the \"C\" value for the continental case and explore the effect of the slope using the sliders above. Visually estimate the range of CCN number concentration at $s$ = 0.1% based on difference in slope."
   ]
  },
  {
   "cell_type": "markdown",
   "metadata": {},
   "source": [
    "## Relationship between CCN and Cloud Droplets\n",
    "\n",
    "<img src=\"figures/parcel_theory.png\" width=\"900\"> \n",
    "\n",
    "<b> Figure 6. </b> The figure shows the conceptual ingredients of the link between CCN and cloud droplets. A population of CCN is present below cloud base and is characterized using the fit parameters $C$ and $k$. The CCN  are transported upward within an updraft. As the air expands, both temperature and dew point temperature (vapor pressure) decrease, having the net effect of raising the relative humidity. Once lifted above the lifted condensation level (LCL), a supersaturation forms and some particles activate and form cloud droplets. These cloud droplets grow by vapor deposition which will deplete the supersaturation. This process is described by a general\n",
    "supersaturation balance equation that contains the thermodynamic forcing and kinetic depletion terms.<br>\n",
    "\n",
    "<center> $\\frac{ds}{dt} = \\alpha_1 w - \\alpha_2 \\frac{dw_l}{dt}$ </center>\n",
    "\n",
    "Here the $\\alpha_1 w$ is the supersaturation generation rate from the updraft and $\\alpha_2 \\frac{dw_l}{dt}$ is the supersaturation depletion rate due to condensation on growing cloud drops. The supersaturation balance equation can be solved to find the  <i> cloud droplet number concentration </i> CDNC and the maximum supersaturation in the updraft of velocity $w$ and the parmeters $C$ and $k$:\n",
    "\n",
    "<center> $CDNC \\approx 0.88 C^{2/(k+2)} (7\\times10^{-2} w^{3/2})^{k/(k+2)}$ </center>\n",
    "\n",
    "<br>\n",
    "\n",
    "<center> $s_{max} \\approx 3.6 (\\frac{1.6\\times10^{-3} w^{3/2}}{C})^{1/(k+2)}$ </center>\n"
   ]
  },
  {
   "cell_type": "code",
   "execution_count": null,
   "metadata": {},
   "outputs": [],
   "source": [
    "# include(\"scripts/CDNC slider.jl\")"
   ]
  },
  {
   "cell_type": "markdown",
   "metadata": {},
   "source": [
    "## <font color='red'> E. Exercises (Use the slider)</font>\n",
    "1. Explain how the maximum supersaturation in the cloud relates to the total number of cloud droplets in the cloud.\n",
    "2. The relationship between updraft velocity and CDNC is linear on a log-log graph. What mathematical relationship is therefore implied (e.g. exponential, power law, logarithmic law, linear relationship?). Verify your answer with the equation linking the two.\n",
    "3. The $C$ value is a measure of the CCN concentration that is active at 1% supersaturation. Use the slider to explore the change in droplet number concentration if you change $C$. You can read the CDNC value from the legend. Fill the  following table\n",
    "\n",
    "<center>\n",
    "<table style=\"width:45%\">\n",
    "    <caption> <b> </b> Relationship between CCN and CDNC for k = 0.5. </caption>\n",
    "  <tr>\n",
    "    <th align=\"justify\">w m s<sup>-1</sup></th>\n",
    "    <th align=\"justify\">CDNC @ C <br> 1000 cm<sup>-3</sup></th> \n",
    "    <th align=\"justify\">CDNC @ C <br> 2000 cm<sup>-3</sup></th>\n",
    "    <th align=\"justify\">CDNC <br> change</th>  \n",
    "</tr>\n",
    "  <tr>\n",
    "    <td align=\"justify\">0.1 m s<sup>-1</sup></td>\n",
    "    <td align=\"justify\"></td>\n",
    "    <td align=\"justify\"></td> \n",
    "    <td align=\"justify\"></td> \n",
    "\n",
    "</tr>\n",
    "  <tr>\n",
    "    <td align=\"justify\">1 m s<sup>-1</sup></td> \n",
    "    <td align=\"justify\"></td>\n",
    "    <td align=\"justify\"></td> \n",
    "    <td align=\"justify\"></td>\n",
    "</tr>\n",
    "  <tr>\n",
    "    <td align=\"justify\">2 m s<sup>-1</sup></td>\n",
    "    <td align=\"justify\"></td>\n",
    "    <td align=\"justify\"></td> \n",
    "    <td align=\"justify\"></td>\n",
    "\n",
    "</tr>\n",
    "  <tr>\n",
    "    <td align=\"justify\">5 m s<sup>-1</sup></td>\n",
    "    <td align=\"justify\"></td>\n",
    "    <td align=\"justify\"></td> \n",
    "    <td align=\"justify\"></td>\n",
    "  </tr>\n",
    "  <tr>\n",
    "    <td align=\"justify\">10 m s<sup>-1</sup></td>\n",
    "    <td align=\"justify\"></td>\n",
    "    <td align=\"justify\"></td> \n",
    "    <td align=\"justify\"></td>\n",
    "\n",
    "  </tr>\n",
    "</table>\n",
    "</center>\n",
    "\n",
    "4. From the values in the table, if you double CCN number concentration, do you double CDNC? If not, how would you characterize the effect? Does the ratio of change in CDNC/original CDNC depend on the updraft?\n",
    "5. Use the slider to explore the sensitivity of CDNC to doubling of CCN for a different value of k. What is the influence of k on the sensitivity explored in 4.?\n"
   ]
  },
  {
   "cell_type": "markdown",
   "metadata": {},
   "source": [
    "## Experimental observation on the effect of CCN on CDNC\n",
    "\n",
    "The above theory implies that \n",
    "\n",
    "<center> $CDNC \\propto C^{\\beta}w^{\\gamma}$ </center>\n",
    "    \n",
    "where $\\beta$ is between 0.6 and 0.9 and $\\gamma$ is between 0.15 and 0.5. As a result the increase in CDNC due to the addition of CCN should follow a power law. This is confirmed by observations.\n",
    "\n",
    "<img src=\"figures/Ramanathan.png\" width=\"500\"> \n",
    "\n",
    "<b> Figure 7. </b> Relationship between aerosol concentration (CCN) and CDNC (Ramanathan et al., 2001). "
   ]
  },
  {
   "cell_type": "markdown",
   "metadata": {},
   "source": [
    "## <font color='red'> F. Discussion </font>\n",
    "\n",
    "1. Estimate the observed change in CDNC (y-axis) to change in CCN (x-axis) for the Arabian Sea points from 1000 cm<sup>-3</sup> to 2000 cm<sup>-3</sup>. Compare the answer with your results above.\n",
    "2. Which environments maritime or continentally influenced show a larger relative change in CDNC? Usnig the theory above, explain why this might be the case. "
   ]
  },
  {
   "cell_type": "code",
   "execution_count": null,
   "metadata": {},
   "outputs": [],
   "source": [
    "# include(\"scripts/Cloud formation slider II.jl\")"
   ]
  },
  {
   "cell_type": "markdown",
   "metadata": {},
   "source": [
    "## <font color='red'> G. Exercises (Use the slider)</font>\n",
    "1. Explain why the mean droplet radius increases with height.\n",
    "2. Explain what the autoconversion threshold means.\n",
    "3. Explain why the mean droplet radius depends on the CDNC\n",
    "4. The height (or the cloud thickness defined as height of rain onset - height of the LCL) required for warm rain onset depends on the thermodynamic state (T0,Tdew0), the updraft velocity (w) and the CCN spectrum (C,k). Use the slider to determine the cloud thickness required for rain onset. You can read the CDNC, LCL, and rain onset height values from the legend. Fill the  following table\n",
    "\n",
    "<center>\n",
    "<table style=\"width:45%\">\n",
    "    <caption> <b> </b> Relationship between thermodynamic conditions, updraft, CCN and onset of warm rain formation. Use the sliders to generate a range of conditions. </caption>\n",
    "  <tr>\n",
    "    <th align=\"justify\">Case</sup></th>\n",
    "    <th align=\"justify\">wl</th> \n",
    "    <th align=\"justify\">CDNC</sup></th>\n",
    "    <th align=\"justify\">Thickness</th>  \n",
    "</tr>\n",
    "  <tr>\n",
    "    <td align=\"justify\">Case 1</td>\n",
    "    <td align=\"justify\"></td>\n",
    "    <td align=\"justify\"></td> \n",
    "    <td align=\"justify\"></td>\n",
    "</tr>\n",
    "  <tr>\n",
    "    <td align=\"justify\">Case 2</td> \n",
    "    <td align=\"justify\"></td>\n",
    "    <td align=\"justify\"></td> \n",
    "    <td align=\"justify\"></td>\n",
    "</tr>\n",
    "  <tr>\n",
    "    <td align=\"justify\">Case 3</td>\n",
    "    <td align=\"justify\"></td>\n",
    "    <td align=\"justify\"></td> \n",
    "    <td align=\"justify\"></td>\n",
    "\n",
    "</tr>\n",
    "  <tr>\n",
    "    <td align=\"justify\">Case 4</sup></td>\n",
    "    <td align=\"justify\"></td>\n",
    "    <td align=\"justify\"></td> \n",
    "    <td align=\"justify\"></td>\n",
    "  </tr>\n",
    "  <tr>\n",
    "    <td align=\"justify\">Case 5</sup></td>\n",
    "    <td align=\"justify\"></td>\n",
    "    <td align=\"justify\"></td> \n",
    "    <td align=\"justify\"></td>\n",
    "\n",
    "  </tr>\n",
    "</table>\n",
    "</center>\n",
    "\n",
    "5. For your test-cases, complete the following sentence. Clouds with higher droplet number concentration require ____________________________________ to precipitate\n"
   ]
  },
  {
   "cell_type": "markdown",
   "metadata": {},
   "source": [
    "## Experimental observations\n",
    "\n",
    "Cloud observations have shown how CCN number concentration affect the droplet radius and warm rain initiation    \n",
    "\n",
    "<img src=\"figures/Andreae.png\" width=\"500\"> \n",
    "\n",
    "<b> Figure 8. </b> The dependence of drop diameter on the distance above cloud base (LCL) for four aerosl regimes. The vertical line denotes the onset of warm rain (Andreae et al., 2004). "
   ]
  },
  {
   "cell_type": "markdown",
   "metadata": {},
   "source": [
    "## <font color='red'> H. Discussion </font>\n",
    "1. The green and blue lines correspond to the green ocean (Amazon rainforest) and blue ocean (maritime environment). The black purple and red lines correspond continental conditions. \n",
    "(a) Which environment leads to more readily precipitating clouds?\n",
    "(b) Use the observations from Figure 5 and your findings from the model above to explain how differences in CCN number concentration explain the observed differences between maritime and continental cases.\n",
    "\n",
    "2. Observations in shallow stratus clouds have shown that the rain rate at cloud base is proportional to H^3/N, where H is the cloud thickness and N is the number of available CCN (see graph below). Use the theory above to explain that behavior.\n",
    "\n",
    "<img src=\"figures/OGeoffrey.png\" width=\"500\"> "
   ]
  },
  {
   "cell_type": "markdown",
   "metadata": {},
   "source": [
    "## <font color='red'> I. Reflection </font>\n",
    "\n",
    "Pollution from vehicles and industry stacks increase the number of available CCN over continental regions. Write a summary paragraph on the potential impacts of pollution on clouds and precipitation."
   ]
  }
 ],
 "metadata": {
  "@webio": {
   "lastCommId": null,
   "lastKernelId": null
  },
  "kernelspec": {
   "display_name": "Julia 1.0.5",
   "language": "julia",
   "name": "julia-1.0"
  },
  "language_info": {
   "file_extension": ".jl",
   "mimetype": "application/julia",
   "name": "julia",
   "version": "1.0.5"
  }
 },
 "nbformat": 4,
 "nbformat_minor": 2
}
