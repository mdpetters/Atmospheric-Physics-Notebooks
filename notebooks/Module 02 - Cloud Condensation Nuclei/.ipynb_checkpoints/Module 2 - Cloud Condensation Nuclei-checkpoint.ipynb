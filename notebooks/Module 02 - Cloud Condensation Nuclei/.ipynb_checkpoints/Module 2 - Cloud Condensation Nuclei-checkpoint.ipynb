{
 "cells": [
  {
   "cell_type": "markdown",
   "metadata": {},
   "source": [
    "# <center> Module 2: Cloud Condensation Nuclei </center>\n",
    " \n",
    "## 1. Learning Objectives\n",
    "<div class=\"alert alert-success\">\n",
    "    \n",
    "- Describe the effects of cloud droplet number concentration cloud microphysical properties\n",
    "- Define cloud condensation nuclei (CCN) \n",
    "- Relate supersaturation and relative humidity\n",
    "- Sketch the principle of operateration of a static diffusion cloud (SDC) chamber  \n",
    "- Explain how the SDC chamber measures CCN concentration and cumulative CCN activation spectra\n",
    "- Parameterize CCN activation spectra in terms of C and k\n",
    "- Relate C and k to the concentration and shape of the spectra in log-log and linear domain\n",
    "- Analyze CCN data from marine, coastal, and continental environments. Identify similarities and contrast differences\n",
    "- Compute the activation diameter from Köhler Theory\n",
    "- Apply Köhler Theory to find the cumulative CCN spectrum from size distribution data\n",
    "- Analyze single component CCN data to infer hygroscopicity from measurements\n",
    "- Categorize hygroscopicity according to compound classes\n",
    "- Analyze ambient data to identify hygroscopicity in marine, coastal, and continental environments\n",
    "- Relate modes of the multi-modal size distribution to the cumulative CCN spectrum\n",
    "\n",
    " </div>"
   ]
  },
  {
   "cell_type": "markdown",
   "metadata": {},
   "source": [
    "## 2. Motivation: Influence of Droplet Number and Size on Cloud Properties\n",
    "\n",
    "The number concentration and mean droplet size determines the albedo of the cloud, and how readily the cloud precipitates. The number concentration and droplet size depends on the concentration of cloud condensation nuclei (CCN) and updraft velocity (w). \n",
    "\n",
    " <img src=\"figures/cloud12.png\" width=\"800\">  \n",
    "\n",
    "<b> Figure 1.</b> <i> Left: </i> Cumulus with low droplet number concentration and large drop diameter; fuzzy and precipitating. <i> Right: </i> Continental cumulus with high droplet number concentration and small drop diameter; sharp edges/no rain. <b> Photo credits. </b> Left: Versageek/CC BY-SA 3.0 via Wikimedia Commons. Right: Ximonic, Simo Räsänen/GFDL, via Wikimedia Commons.</b> <br>\n",
    "\n",
    "<div class=\"alert alert-warning\">\n",
    "\n",
    "- The smaller droplets in continental clouds results in the boundaries of these clouds being well-defined, because the droplets evaporate quickly in the non-saturated ambient air\n",
    "- The absence of droplets much beyond the main boundary of continental cumulus clouds gives them a harder appearance\n",
    "- The larger droplets in marine clouds lead to the release of precipitation in shallower clouds, and with smaller updrafts, than in continental clouds\n",
    "- The larger number of droplets makes continental clouds brighter than marine clouds, resulting in more reflection back to space. \n",
    "\n",
    "</div>"
   ]
  },
  {
   "cell_type": "markdown",
   "metadata": {},
   "source": [
    "## 3. Cloud Condensation Nuclei (CCN)\n",
    "\n",
    "<div class=\"alert alert-warning\">\n",
    "\n",
    "<b> Definition (Americal Meteorologial Society):</b> Hygroscopic aerosol particles that can serve as nuclei of atmospheric cloud droplets, that is, particles on which water condenses (activates) at supersaturations typical of atmospheric cloud formation (fraction of one to a few percent, depending on cloud type). Concentrations of CCN need to be given in terms of a supersaturation spectrum covering the range of interest or at a specified supersaturation value.\n",
    "\n",
    "</div>\n",
    "\n",
    "- Water condensation does not occur at 100% RH but at slightly larger values.\n",
    "- The water supersaturation in percent is defined as \n",
    "<center> $s = (\\frac{RH}{100\\%} - 1)\\times100\\%$ </center>\n",
    "\n",
    "- When the air becomes supersaturated water condenses on on small suspended particles in the air. Only some of the suspended particles serve as condensation nuclei. Particles that serve as condensation nuclei under atmospheric supersaturations are termed \"cloud condensation nuclei\". \n",
    "\n",
    "### 3a. Measurement of Cloud Condensation Nuclei\n",
    "- Cloud condensation nuclei are measured using a Cloud Condensation Nuclei counter \n",
    "\n",
    "<img src=\"figures/ccn_chamber.png\" width=\"500\"> \n",
    "<b> Figure 2.</b> Left: Vertical cross-section through a static CCN chamber. \n",
    "\n",
    "- Air is drawn into the chamber and the chamber is sealed. A temperature differential between the top and bottom plate is established. This results in a linear temperature and vapor pressure profile. A controlled supersaturation forms in the center of the chamber, with the maximum near the centerline. \n",
    "\n",
    "- The number of visible cloud droplets that form near the centerline is the CCN number concentration    \n",
    "\n",
    "- The supersaturation profile in the chamber is controlled by the temperature diffuerence between the top and bottom plate."
   ]
  },
  {
   "cell_type": "code",
   "execution_count": null,
   "metadata": {},
   "outputs": [],
   "source": [
    "using WebIO; WebIO.setup(:ijulia);\n",
    "include(\"scripts/CCN Instrument.jl\")"
   ]
  },
  {
   "cell_type": "markdown",
   "metadata": {},
   "source": [
    "### <font color='red'> A. Exercises (use the slider to change the temperature gradient) </font>\n",
    "<div class=\"alert alert-info\">\n",
    "\n",
    "1. How does the instrument supersaturation depend on the temperature difference between top and bottom plate? What is the range of supersaturations that is achievable with the given temperature range?\n",
    "2. Explain why the temperature profile is linear between the top and bottom plate.\n",
    "3. Explain how to calculate the vapor pressure at the top and bottom of the chamber.\n",
    "4. Explain why the vapor pressure profile is linear throughout the chamber.\n",
    "5. Explain why a supersaturation forms near the center of the instrument.\n",
    "6. Explain why the instrument is configured such that the temperature increases with height.\n",
    "</div>"
   ]
  },
  {
   "cell_type": "markdown",
   "metadata": {},
   "source": [
    "### 3b. Cumulative CCN Number Concentration"
   ]
  },
  {
   "cell_type": "code",
   "execution_count": null,
   "metadata": {},
   "outputs": [],
   "source": [
    "include(\"scripts/CCN data.jl\")"
   ]
  },
  {
   "cell_type": "markdown",
   "metadata": {},
   "source": [
    "<b> Figure 3.</b> CCN instruments measure CCN concentration at 7 supersaturaturations (s = 0.1, 0.2, 0.4, 0.6, 0.8, 1.0, and 1.2%. The graphed shown above is the cumulative supersaturation spectrum, which is defined as the graph of the number of CCN active (or cloud drops formed in the chamber) versus the imposed supersaturation.\n",
    "\n",
    "The cumulative number concentration of cloud condensation nuclei (CCN) monotonically increases with the applied supersaturation. The relationship is often described via the equation\n",
    "\n",
    "<center> $N_{CCN} = Cs^k$ </center>\n",
    "\n",
    "where $s$ is the supersaturation in %, and $C$ and $k$ are fitted coefficients to match the data."
   ]
  },
  {
   "cell_type": "code",
   "execution_count": null,
   "metadata": {},
   "outputs": [],
   "source": [
    "include(\"scripts/CCN App 1.jl\")"
   ]
  },
  {
   "cell_type": "markdown",
   "metadata": {},
   "source": [
    "### <font color='red'> B. Exercises (use the toggle-buttons to explore) </font>\n",
    "<div class=\"alert alert-info\">\n",
    "\n",
    "1. What effect has the \"C\" parameter on the relationship between supersaturation and CCN number? How does \"C\" relate to the CCN number concentration at s=1%?\n",
    "2. What effect has the \"k\" parameter on the relationship between supersaturation and CCN number?\n",
    "3. Explain why the relationship between supersaturation and CCN number is has concave curvature when graphed in linear-linear space (left) and is linear when graphed in log-log space (right).\n",
    "</div>\n",
    "\n",
    "### 3c. Example Measurements"
   ]
  },
  {
   "cell_type": "code",
   "execution_count": null,
   "metadata": {},
   "outputs": [],
   "source": [
    "include(\"scripts/CCN Marine v Continental.jl\")"
   ]
  },
  {
   "cell_type": "markdown",
   "metadata": {},
   "source": [
    "<b> Figure 4. </b> Example CCN measurements obtained around the world. Data are taken from Hudson and Yum (2001).\n"
   ]
  },
  {
   "cell_type": "markdown",
   "metadata": {},
   "source": [
    "### <font color='red'> C. Exercises</font>\n",
    "\n",
    "<div class=\"alert alert-info\">\n",
    "\n",
    "1. Use the slider to find the $C$ and $k$ values for the different environments shown in Figure 5.  \n",
    "\n",
    "</div>\n",
    "\n",
    "<center>\n",
    "<table style=\"width:45%\">\n",
    "    <caption> <b> </b> CCN parameters in different environments. </caption>\n",
    "  <tr>\n",
    "    <th align=\"justify\">Region</th>\n",
    "    <th align=\"justify\">Airmass</th>\n",
    "    <th align=\"justify\">C (cm<sup>-3</sup>)</sup></th> \n",
    "    <th align=\"justify\">k (-) </th>\n",
    "\n",
    "</tr>\n",
    "  <tr>\n",
    "    <td align=\"justify\">Easter Pacific</td>\n",
    "    <td align=\"justify\">Marine         </td>\n",
    "    <td align=\"justify\"></td> \n",
    "    <td align=\"justify\"></td> \n",
    "\n",
    "</tr>\n",
    "  <tr>\n",
    "    <td align=\"justify\">Eastern Atlantic</td> \n",
    "    <td align=\"justify\">Marine                </td>\n",
    "    <td align=\"justify\"></td> \n",
    "    <td align=\"justify\"></td>\n",
    "</tr>\n",
    "  <tr>\n",
    "    <td align=\"justify\">Southern Ocean </td>\n",
    "    <td align=\"justify\">Marine</td>\n",
    "    <td align=\"justify\"></td> \n",
    "    <td align=\"justify\"></td>\n",
    "\n",
    "</tr>\n",
    "  <tr>\n",
    "    <td align=\"justify\">Florida</td>\n",
    "    <td align=\"justify\">Coastal</td>\n",
    "    <td align=\"justify\"></td> \n",
    "    <td align=\"justify\"></td>\n",
    "  </tr>\n",
    "  <tr>\n",
    "    <td align=\"justify\">Florida</td>\n",
    "    <td align=\"justify\">Continental</td>\n",
    "    <td align=\"justify\"></td> \n",
    "    <td align=\"justify\"></td>\n",
    "\n",
    "  </tr>\n",
    "  <tr>\n",
    "    <td align=\"justify\">Eastern Atlantic</td>\n",
    "    <td align=\"justify\">Continental</td>\n",
    "    <td align=\"justify\"></td> \n",
    "    <td align=\"justify\"></td>\n",
    "\n",
    "  </tr>\n",
    "</table>\n",
    "</center>\n",
    "<div class=\"alert alert-info\">\n",
    "\n",
    "2. Use the table to identify ranges for $C$ and $k$ values in marine, continental, and coastal airmasses.\n",
    "3. Which environment (marine or continental) has more CCN available?\n",
    "</div>"
   ]
  },
  {
   "cell_type": "markdown",
   "metadata": {},
   "source": [
    "## 4. Relationship between Aerosol Size and CCN\n",
    "\n",
    "### 4a. Köhler Theory\n",
    "\n",
    "Köhler theory relates predicts the supersaturation that must be exceed for a particle to activate as CCN. \n",
    "\n",
    "$s = \\sqrt{\\frac{4A^3}{27 \\kappa D_d^3}} \\times 100\\%$\n",
    "\n",
    "where $D_d$ is the dry particle diameter, $\\kappa$ is the hygroscopiciy, $A = \\frac{4\\sigma M_w}{RT\\rho_w}$, $\\sigma$ is the surface tension of water, $M_w$ is the molecular weight of water, $R$ is the universal gas constant, $T$ is temperature, $\\rho_w$ is the density of water, and $A \\approx 2.1\\times 10^9\\; m$.\n",
    "\n",
    "<div class=\"alert alert-warning\">\n",
    "Hygroscopicity is a unitless parameter that expresses the propensity of the particle to take up water at high relative humidity. The parameter varies between 0 for non-hygroscopic and 1.3 for very hygroscopic substances. Examples for non-hygroscopic partilces are soot, oils, and waxes. Examples for hygroscopic particles are inorganic salt particles such as sulfate and sea-spray derived particles. \n",
    "</div>\n",
    "    \n",
    "<div class=\"alert alert-danger\">\n",
    "The formula to compute $s$ provided is approximate and not valid for $\\kappa \\approxeq 0.2$. Note that $\\lim_{\\kappa \\to 0}\\;\\;s(\\kappa,D_d) = \\infty$, which is incorrect. The app below uses a formula that is valid for all $\\kappa \\ge 0$ (Petters and Kreidenweis, 2007).\n",
    "</div>"
   ]
  },
  {
   "cell_type": "code",
   "execution_count": null,
   "metadata": {},
   "outputs": [],
   "source": [
    "include(\"scripts/CCN App 2.jl\") "
   ]
  },
  {
   "cell_type": "markdown",
   "metadata": {},
   "source": [
    "<b> Figure 5. </b> Relationship between supersaturation and dry diameter predicted by Köhler theory. The black line identifies the smallest particle diameter that will activate into a cloud drop for a given environmental supersatuartion. \n",
    "\n",
    "### <font color='red'> D. Exercises</font>\n",
    "\n",
    "<div class=\"alert alert-info\">\n",
    "\n",
    "1. Assuming that the environmental supersaturation is 0.5%, determine the minimum activation diameter for a particle with κ = 1.0 and κ = 0. \n",
    "2. Assume that the environmental supersaturation is 0.3%. Will a particle with Dd = 90 nm and κ = 0.6 activate into a cloud drop?\n",
    "3. Assume that the environmental supersaturation is 0.8%. Will a particle with Dd = 30 nm and κ = 0.4 activate into a cloud drop?\n",
    "4. Complete the following sentence: A smaller particle requires a (higher/lower) ____________ supersaturation to serve as CCN\n",
    "5. Complete the following sentence: A more hygroscopic particle requires a (higher/lower) ____________ supersaturation to serve as CCN\n",
    "\n",
    "\n",
    "</div>"
   ]
  },
  {
   "cell_type": "markdown",
   "metadata": {},
   "source": [
    "### 4b. Prediction of CCN Activation Spectrum From Size Distribution and Köhler Theory\n",
    "\n",
    "Köhler theory predicts the smallest diameter that will activate for a given environmental supersaturation. For a fixed value of $s$, all particles larger than the activation diameter will serve as CCN. The number of CCN is thus obtained from integration over the particle size distribution\n",
    "\n",
    "$Nccn(s) = \\int_{D_{act}(s)}^\\infty \\frac{dN}{dlnD} dlnD$\n",
    "\n"
   ]
  },
  {
   "cell_type": "code",
   "execution_count": null,
   "metadata": {},
   "outputs": [],
   "source": [
    "include(\"scripts/CCN App 3.jl\") "
   ]
  },
  {
   "cell_type": "markdown",
   "metadata": {},
   "source": [
    "<b> Figure 5. </b> Left: same as Figure 4. Right: the shased area illustrates the portion of the size distribution that will active at environmental supersaturation $s$ and hygroscopicity $\\kappa$.\n",
    "\n",
    "### <font color='red'> E. Exercises</font>\n",
    "\n",
    "<div class=\"alert alert-info\">\n",
    "\n",
    "1. Assume {$N_t = 1000\\; cm^{-3}, D_g = 50\\;nm, \\sigma_g = 1.9$} and $\\kappa = 0.3$. Determine the number of CCN active at 0.2, 0.4, 0.6, 0.8,  and 1% supersaturation.\n",
    "2. Graph the result on a plot as shown in section 3b above.\n",
    "\n",
    "</div>"
   ]
  },
  {
   "cell_type": "code",
   "execution_count": null,
   "metadata": {},
   "outputs": [],
   "source": [
    "include(\"scripts/CCN App 4.jl\") "
   ]
  },
  {
   "cell_type": "markdown",
   "metadata": {},
   "source": [
    "### <font color='red'> F. Exercises</font>\n",
    "\n",
    "<div class=\"alert alert-info\">\n",
    "\n",
    "1. Turn on the toggle. Compare your graph to the output and verify that it is correct.\n",
    "2. Does the cumulative CCN spectrum follow a power law $N_{ccn} = Cs^k$? Use the widgets from the previous app to explore (this plot should auto-update). Explain why or why no power law is observed?  \n",
    "3. Vary the particle mode diameter and hygroscopicity. Observe changes in the supersaturation spectrum. Is the supersatuartion spectrum more sensitive to changes in $D_g$ or changes in $\\kappa$?\n",
    "4. The cumulative CCN spectrum can be described using $N_{ccn} = Cs^k$ or $Nccn(s) = \\int_{D_{act}(s)}^\\infty \\frac{dN}{dlnD} dlnD$. Contrast the two approaches and list advantages and disadvantages for either model. \n",
    "\n",
    "</div>"
   ]
  },
  {
   "cell_type": "markdown",
   "metadata": {},
   "source": [
    "### 4c. Influence of Composition on Hygroscopicity\n",
    "\n",
    "The CCN supersaturation spectrum depends in part on the hygroscopicty of the particle. Hygroscopicity is largely controlled by the entropy of mixing between solutes and water. Compounds that dissolve in water and dissociate have high hygroscopicity (e.g. NaCl). Compounds that are insoluble in water have low/zero hygroscopicity. "
   ]
  },
  {
   "cell_type": "code",
   "execution_count": null,
   "metadata": {},
   "outputs": [],
   "source": [
    "include(\"scripts/CCN App 5.jl\") "
   ]
  },
  {
   "cell_type": "markdown",
   "metadata": {},
   "source": [
    "<b> Figure 7. </b> Observations of particles with various compositions tested in the laboratory. Data sources: sea-salt (Nguyen et al., 2017), ammonium sulfate (King et al., 2007), secondary organic aerosol (Prenni et al., 2007), black carbon aerosol (Lammel and Novakov, 1995), Arizona Test Dust (Koehler et al., 2007).\n",
    "\n",
    "### <font color='red'> G. Exercises</font>\n",
    "\n",
    "<div class=\"alert alert-info\">\n",
    "\n",
    "1. Find a best-fit hygroscopicity value for each of the compound classes.\n",
    "2. Discuss how the general explanation of hygroscopicity aligns with the data. \n",
    "\n",
    "</div>"
   ]
  },
  {
   "cell_type": "code",
   "execution_count": null,
   "metadata": {},
   "outputs": [],
   "source": [
    "include(\"scripts/CCN App 6.jl\") "
   ]
  },
  {
   "cell_type": "markdown",
   "metadata": {},
   "source": [
    "<b> Figure 8. </b> Observations of CCN activity in marine and continental airmasses. Data sources: Amazon Rainforest (Gunthe et al., 2009), remaining data (Hudson et al., 2007).\n",
    "\n",
    "### <font color='red'> H. Exercises</font>\n",
    "\n",
    "<div class=\"alert alert-info\">\n",
    "\n",
    "1. Use the widget to find the hygroscopicity for continental and marine airmasses.\n",
    "2. Compare the ranges to those of the single component measurements shown in Figure 7. Are they wider or narrower? Hypothesize why this might be the case. \n",
    "\n",
    "</div>"
   ]
  },
  {
   "cell_type": "code",
   "execution_count": null,
   "metadata": {},
   "outputs": [],
   "source": [
    "include(\"scripts/CCN App 7.jl\") "
   ]
  },
  {
   "cell_type": "markdown",
   "metadata": {},
   "source": [
    "<b> Figure 9. </b> Observations size distribution in Raleigh, NC with 4 mode fit to the data. Right: predicted CCN spectrum based on assumed κ.\n",
    "\n",
    "### <font color='red'> I. Exercises</font>\n",
    "\n",
    "<div class=\"alert alert-info\">\n",
    "\n",
    "1. Adjust the hygroscopicity to reflect marine and continental hygroscopicity. Estimate the corresponding CCN concentration at  at s = 1% and s = 0.1%. Compute the relative change in CCN due to the change in assumed composition.\n",
    "2. Typical size distributions include a nucleation mode, Aitken mode, accumulation mode, and coarse mode.  Based on what you have learned in the module, rank these modes in importance to their contribution to the CCN spectrum. (You can change the sizes and numbers of the modes in the app to test your understanding how each mode contrinutes to the CCN spectrum)\n",
    "3. Discuss the potential influence of new particle formation (or nucleation mode aerosol) on CCN concentrations. \n",
    "\n",
    "</div>"
   ]
  },
  {
   "cell_type": "markdown",
   "metadata": {},
   "source": [
    "## References Cited\n",
    "\n",
    "Gunthe, S. S., King, S. M., Rose, D., Chen, Q., Roldin, P., Farmer, D. K., Jimenez, J. L., Artaxo, P., Andreae, M. O., Martin, S. T., and Pöschl, U.: Cloud condensation nuclei in pristine tropical rainforest air of Amazonia: size-resolved measurements and modeling of atmospheric aerosol composition and CCN activity, Atmos. Chem. Phys., 9, 7551–7575, https://doi.org/10.5194/acp-9-7551-2009, 2009.\n",
    "\n",
    "Hudson, J. G. (2007), Variability of the relationship between particle size and cloud‐nucleating ability, Geophys. Res. Lett., 34, L08801, doi:10.1029/2006GL028850.\n",
    "\n",
    "Hudson, J. G., and S. S. Yum, Maritime/continental drizzle contrasts in small cumuli, Journal Atmospheric Sciences, 58, 915–926, 2001.\n",
    "\n",
    "King, S. M., Rosenoern, T., Shilling, J. E., Chen, Q., and Martin, S. T. ( 2007), Cloud condensation nucleus activity of secondary organic aerosol particles mixed with sulfate, Geophys. Res. Lett., 34, L24806, doi:10.1029/2007GL030390.\n",
    "\n",
    "Koehler, K. A., Kreidenweis, S. M., DeMott, P. J., Petters, M. D., Prenni, A. J., and Carrico, C. M. ( 2009), Hygroscopicity and cloud droplet activation of mineral dust aerosol, Geophys. Res. Lett., 36, L08805, doi:10.1029/2009GL037348.\n",
    "\n",
    "Lammel, Gerhard,  Tihomir Novakov (1995), Water nucleation properties of carbon black and diesel soot particles, Atmospheric Environment, 29(7), 813-823, https://doi.org/10.1016/1352-2310(94)00308-8.\n",
    "\n",
    "Nguyen, Quynh T.,  Kristine H. Kjær, Kirsten I. Kling, Thomas Boesen & Merete Bilde (2017) Impact of fatty acid coating on the CCN activity of sea salt particles, Tellus B: Chemical and Physical Meteorology, 69:1, doi:10.1080/16000889.2017.1304064. \n",
    "\n",
    "Prenni, A. J., Petters, M. D., Kreidenweis, S. M., DeMott, P. J., and Ziemann, P. J. (2007), Cloud droplet activation of secondary organic aerosol, J. Geophys. Res., 112, D10223, doi:10.1029/2006JD007963.\n",
    "\n",
    "Petters, M. D. and Kreidenweis, S. M.: A single parameter representation of hygroscopic growth and cloud condensation nucleus activity, Atmos. Chem. Phys., 7, 1961–1971, https://doi.org/10.5194/acp-7-1961-2007, 2007.\n",
    "\n"
   ]
  },
  {
   "cell_type": "markdown",
   "metadata": {},
   "source": [
    "# Licenses\n",
    "\n",
    "<div class=\"alert alert-success\">\n",
    "    \n",
    "Author and Copyright: [Markus Petters](https://mdpetters.github.io/)\n",
    "\n",
    "The text of this notebook and images created by the author are licensed under the Creative Commons Attribution-NonCommercial-ShareAlike 4.0 International Public License [CC BY-NC-SA 4.0](https://creativecommons.org/licenses/by-nc-sa/4.0/). The scripts are licensed under the [GNU General Public License v3](https://www.gnu.org/licenses/gpl-3.0.en.html). \n",
    "\n",
    "Images and software from other sources are licensed as indicated.\n",
    "\n",
    "</div>"
   ]
  }
 ],
 "metadata": {
  "@webio": {
   "lastCommId": null,
   "lastKernelId": null
  },
  "kernelspec": {
   "display_name": "Julia 1.3.0",
   "language": "julia",
   "name": "julia-1.3"
  },
  "language_info": {
   "file_extension": ".jl",
   "mimetype": "application/julia",
   "name": "julia",
   "version": "1.3.0"
  }
 },
 "nbformat": 4,
 "nbformat_minor": 2
}
