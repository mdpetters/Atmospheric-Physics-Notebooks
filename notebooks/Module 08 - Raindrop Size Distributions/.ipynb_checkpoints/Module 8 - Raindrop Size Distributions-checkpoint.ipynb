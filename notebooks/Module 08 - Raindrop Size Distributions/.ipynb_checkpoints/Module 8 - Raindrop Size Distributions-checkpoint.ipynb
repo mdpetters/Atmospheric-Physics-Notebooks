{
 "cells": [
  {
   "cell_type": "markdown",
   "metadata": {},
   "source": [
    "# <center> Module 8: Raindrop Size Distributions </center>\n",
    " \n",
    "## 1. Learning Objectives\n",
    "<div class=\"alert alert-success\">\n",
    "    \n",
    "- Describe principles of operation for instruments measuring rainfall rate, raindrop size distribution, and radar reflectivity\n",
    "- Describe the raindrop size distribution mathematically\n",
    "- Apply semi-empirical equations to estimate distribution parameters as a function of rainfall rate\n",
    "- Compute integral rainfall parameters from data\n",
    "- Compute integral rainfall parameters from size distribution parameters\n",
    "- Analyze integral rainfall parameters for observed distributions from different rainfall rates\n",
    "- Visualize Z-R relationships in terms of the size distribution shape parameter and in terms of simple parmeterizations \n",
    "- Analyze observed Z-R relationships in the context of integral rainfall parameters \n",
    " </div>"
   ]
  },
  {
   "cell_type": "markdown",
   "metadata": {},
   "source": [
    "## 2. Background\n",
    "\n",
    "\n",
    "<img src=\"figures/Childe_Hassam_-_Rainy_Day.jpg\" width=\"600\">  \n",
    "\n",
    "<b> Figure 1.</b> Rainy day in Boston. Artist Childe Hassam. License: Public Domain via Wikimedia Commons.  \n",
    "\n",
    "Rainfall amounts are measured using rain gauges. The rainfall rate is given as amount of precipitation per unit time and expressed in units of mm hr<sup>-1</sup>. One mm of measured precipitation is equivalent to 1 L (water) m<sup>-2</sup>. The simplest rain gauges are non-recording and collect water in funnel. Recording rain gauges automatically record the amount of precipitation collected as a function of time. Recording rain guages use differnt operating principles, including the tipping-bucket, weighing of water, measuring capacitance, and measuring rainfall through optical sensors. \n",
    "\n",
    "<table> <tr>\n",
    "  <td> <img src=\"figures/Rain_recorded_in_a_rain_gauge.jpg\" alt=\"Drawing\" style=\"width: 400px;\"/> </td>\n",
    "  <td> <img src=\"figures/2012-06-26_Ruby_Lake_RAWS_rain_gauge.jpg\" alt=\"Drawing\" style=\"width: 225px;\"/> </td>\n",
    "</tr></table>\n",
    "<b> Figure 2. </b>  (Left) Rain in a non-recording rain gauge. Source: Bidgee [CC BY-SA 2.5 au (https://creativecommons.org/licenses/by-sa/2.5/au/deed.en)], via Wikimedia Commons. (Right) Modern recording rain gauge. Source: Famartin [CC BY-SA 3.0 (https://creativecommons.org/licenses/by-sa/3.0)], via Wikimedia Commons.\n",
    "\n",
    "The rainfall rate is used to classify rainfall intensities:\n",
    "* Light rain: R < 2.5 mm hr<sup>-1</sup>\n",
    "* Moderate rain: 2.5 mm hr<sup>-1</sup> < R <  10 mm hr<sup>-1</sup>\n",
    "* Heavy rain: 10 mm hr<sup>-1</sup> < R < 50 mm hr<sup>-1</sup> \n",
    "* Violent rain: R > 50 mm hr<sup>-1</sup> \n",
    "\n",
    "## 3. Raindrop size distribution\n",
    "\n",
    "The raindrop size distribution is a key quantity that relates the rain microphysical parameters to rain rate, rain water content, radar reflectivity, and attenuation of radiation through rain.\n",
    "\n",
    "<div class=\"alert alert-warning\">\n",
    "    \n",
    "<b> Definition (AMS Glossary). </b> The spread of sizes for raindrops falling at a given location; distributions change significantly with the process of formation (from melting snow or drop coalescence) and shear of horizontal and vertical wind, which locally sorts drops through their differential fall velocity.\n",
    "</div>\n",
    "\n",
    "Two important papers detailing the raindrop size distribution are Marshall-Palmer (1948) and Ulbrich (1983). \n",
    "\n",
    "\n",
    "### 3a. Spectral Density\n",
    "\n",
    "Raindrop size distributions are expressed as spectral density, i.e. number concentration normalized by the width of the size bin interval. \n",
    "\n",
    "$N(D) = \\frac{dN}{dD}=\\frac{N}{(D_{up}-D_{low})}=\\frac{N}{\\Delta D}$\n",
    "\n",
    "The typical unit for raindrop number concentration is [m<sup>-3</sup>]. The typical unit for raindrop diameter is [mm]. The spectral density for raindrop size distribution is thus often expressed in units of  [m<sup>-3</sup> mm<sup>-1</sup>]."
   ]
  },
  {
   "cell_type": "code",
   "execution_count": null,
   "metadata": {},
   "outputs": [],
   "source": [
    "using WebIO; WebIO.setup(:ijulia);\n",
    "include(\"scripts/Rain App 1.jl\")"
   ]
  },
  {
   "cell_type": "markdown",
   "metadata": {},
   "source": [
    "<b> Table 1. </b> Diameter is in [mm] and SpectralDensity in [m<sup>-3</sup> mm<sup>-1</sup>].\n",
    "\n",
    "### <font color='red'> A. Exercises</font>\n",
    "\n",
    "<div class=\"alert alert-info\">\n",
    "\n",
    "1. Fill in the table to determine N in each size bin.\n",
    "2. Compute the total raindrop number concentration.\n",
    "3. Compare the raindrop number concentration to (a) typical aerosol number concentration, (b) typical cloud drop number concentration.\n",
    "4. Explain why raindrop number concentration is so much smaller that cloud drop number concentration.\n",
    "</div>"
   ]
  },
  {
   "cell_type": "markdown",
   "metadata": {},
   "source": [
    "### 3a. Size distribution function\n",
    "\n",
    "The raindrop size distribution can be expressed via\n",
    "\n",
    "$N(D) = N_0 D^\\mu \\exp(-\\Lambda D)$, $0 \\le D \\le D_{max}$\n",
    "\n",
    "where $N_0$ [m<sup>-3</sup> mm<sup>-1-$\\mu$</sup>], $\\mu$, and $\\Lambda$ [mm<sup>-1</sup>] are parameters of the distribution, and $D_{max}$ is the maximum drop diameter. The distribution parameters have units to produce spectral density. A triplet of values for {$N_0$, $\\mu$, $\\Lambda$} can be fitted to describe measured raindrop size distributions."
   ]
  },
  {
   "cell_type": "code",
   "execution_count": null,
   "metadata": {},
   "outputs": [],
   "source": [
    "include(\"scripts/Rain App 2.jl\")"
   ]
  },
  {
   "cell_type": "markdown",
   "metadata": {},
   "source": [
    "<b> Figure 3. </b>  Possible shapes of the raindrop size distribution. Note that the parameters carry units associated with the units of number concentration and diameter used to express the size distribution.\n",
    "\n",
    "\n",
    "### <font color='red'> B. Exercises</font>\n",
    "\n",
    "<div class=\"alert alert-info\">\n",
    "\n",
    "1. Describe the influence of $N_0$ on the distribution.\n",
    "2. Describe the influence of $\\mu$ on the distribution.\n",
    "3. Describe the influence of $\\Lambda$ on the distribution.\n",
    "4. For $\\mu = 0$, $\\mu = 1$, $\\mu = 0.5$, $\\mu = -0.5$, show that the unit of $N_0$ shown in the plot title produces the correct unit of N(D) [m<sup>-3</sup> mm<sup>-1</sup>].\n",
    "5. Explain what processes control the size distribution in the 0-0.5 mm range, in the 0.5-4 mm range, and the 4-10 mm range.\n",
    "6. Propose physical mechanism that may give rise to the shape of the droplet size distribution shape parameter. Specifically propose an explanation for distribution with $\\mu > 0$ and distributions with $\\mu < 0$. In your explanation think about different types of precipitation (convective, stratiform, orographic) and what happens when the rain falls below cloud base.  \n",
    "</div>"
   ]
  },
  {
   "cell_type": "markdown",
   "metadata": {},
   "source": [
    "## 3b. Measurement of the raindrop size distribution\n",
    "\n",
    "The size distribution can be measured using a flower plate or dyed filter paper and set them outside  for a short amount of time during rain. The imprint is proportional to the raindrop diameter. The measurements by Marshall and Palmer (1948) shown later below were made using dyed paper. A modern disdrometer automatically measures the size and velocity of drop passing through it. Different designs exist. In the optical disdrometer, rhe transmitter generates a light sheet toward the receiver. When a drop falls through the device, the receiver gets shadowed and the drop sized and counted. \n",
    "\n",
    "<table> <tr>\n",
    "  <td> <img src=\"figures/disdrometer1.png\" alt=\"Drawing\" style=\"width: 288px;\"/> </td>\n",
    "  <td> <img src=\"figures/disdrometer2.png\" alt=\"Drawing\" style=\"width: 400px;\"/> </td>\n",
    "</tr></table>\n",
    "<b> Figure 4. </b>  (Left) Raindrop craters on a flour plate. (Right) An optical disdrometer.  Source: Gires (2018), Creative Commons, CC BY-4.0.\n"
   ]
  },
  {
   "cell_type": "markdown",
   "metadata": {},
   "source": [
    "### 3c. Dependence of the raindrop size distribution on rainfall rate\n",
    "\n",
    "Measurements have shown that the raindrop size distribution can be well approximated using the rain rate and the shape parameter $\\mu$. That means that the parameters $N_0$ and $\\Lambda$ in the distribution function can be approximated from the rain rate. The relationships look more complex than they actually are. Assuming the shape parameter $\\mu$ and rain rate $R$ are defined: \n",
    "\n",
    "$\\delta = \\frac{1}{4.67 + \\mu}$\n",
    "\n",
    "$\\epsilon = 10 \\times (3.67 + μ) \\times \\left [ 2\\times 10^6 \\times \\exp(3.2μ) \\times \\Gamma(4.67+μ) \\right]^{-δ}$\n",
    "\n",
    "$D_0 = \\epsilon R^\\delta$\n",
    "\n",
    "$N_0 = 6\\times 10^3 \\times 0.1^\\mu \\times \\exp(3.2 \\mu)$\n",
    "\n",
    "$\\Lambda = \\frac{3.67 + \\mu}{D_0}$\n",
    "\n",
    "where $\\Gamma(x)$ is the [complete gamma function](https://en.wikipedia.org/wiki/Gamma_function), $N_0$ is in [m<sup>-3</sup> mm<sup>-1-$\\mu$</sup>], $\\Lambda$ in [mm<sup>-1</sup>], and $R$ in [mm hr<sup>-1</sup>].   "
   ]
  },
  {
   "cell_type": "code",
   "execution_count": null,
   "metadata": {},
   "outputs": [],
   "source": [
    "include(\"scripts/Rain App 3.jl\")"
   ]
  },
  {
   "cell_type": "markdown",
   "metadata": {},
   "source": [
    "<b> Figure 5. </b>  Observed raindrop size distribution by Marshall and Palmer (1948) for different rainfall rates. The parameters $N_0$, $\\Lambda$, and $D_0$ are computed from the rainfall rate and the shape parameter using the equations shown above. Computed values are given in the title\n",
    "\n",
    "### <font color='red'> C. Exercises</font>\n",
    "\n",
    "<div class=\"alert alert-info\">\n",
    "\n",
    "1. Confirm that observed distributions for the three rainfall rates are approximately matched by the predicted distributions and the input rainfall rate.\n",
    "2. Set $R$ to the appropriate value and vary $\\mu$ to obtain a good fit to the data. Use $\\mu$ values that are different from zero. Fill in the table to record the values for $N_0$, $\\mu$, $\\Lambda$, and $D_0$.\n",
    "</div>\n",
    "\n",
    "<center>\n",
    "<table style=\"width:55%\">\n",
    "    <caption> <b> </b> Raindrop distribution parameters for different rainfall rates. </caption>\n",
    "  <tr>\n",
    "    <th align=\"justify\">Rainfall rate</th>\n",
    "    <th align=\"justify\">$N_0$</th> \n",
    "    <th align=\"justify\">$\\mu$</th>\n",
    "    <th align=\"justify\">$\\Lambda$</th>\n",
    "    <th align=\"justify\">$D_0$</th>\n",
    "</tr>\n",
    "  <tr>\n",
    "    <td align=\"justify\">R = 1 mm hr<sup>-1</sup></td>\n",
    "    <td align=\"justify\"></td>\n",
    "    <td align=\"justify\"></td> \n",
    "    <td align=\"justify\"></td> \n",
    "    <td align=\"justify\"></td> \n",
    "</tr>\n",
    "  <tr>\n",
    "    <td align=\"justify\">R = 5 mm hr<sup>-1</sup></td> \n",
    "    <td align=\"justify\"></td>\n",
    "    <td align=\"justify\"></td> \n",
    "    <td align=\"justify\"></td>           \n",
    "    <td align=\"justify\"></td> \n",
    "</tr>\n",
    "  <tr>\n",
    "    <td align=\"justify\">R = 25 mm hr<sup>-1</sup></td>\n",
    "    <td align=\"justify\"></td>\n",
    "    <td align=\"justify\"></td> \n",
    "    <td align=\"justify\"></td> \n",
    "    <td align=\"justify\"></td> \n",
    "</tr>\n",
    "</table>\n",
    "</center>\n",
    "\n",
    "<div class=\"alert alert-info\">\n",
    "\n",
    "3. List the advantages and disadvantages of the semi-empirical approach to find the raindrop size distribution parameters.\n",
    "</div>\n"
   ]
  },
  {
   "cell_type": "markdown",
   "metadata": {},
   "source": [
    "### 3d. Integral rainfall parameters\n",
    "\n",
    "The raindrop size distribution relates the rain microphysical parameters to rain rate, rain water content, radar reflectivity, and attenuation of radiation through rain. Each of these is determined by a statistical moment of the distribution. Analytical solutions exist for the mathematical form the raindrop size distribution and parameters used above.\n",
    "\n",
    "#### Raindrop number concentration\n",
    "\n",
    "Total raindrop number concentration is obtained from integration over the size distribution. Example integration was performed in Table 1/Exercises A.\n",
    "\n",
    "$N_t = \\int_{D=0}^\\infty N(D) dD$ \n",
    "\n",
    "The analytical solution from distribution parameters is:\n",
    "\n",
    "$N_t = \\frac{\\Gamma(1+\\mu)}{(3.67 + \\mu)^{1+\\mu}} N_0 D_0^{1+\\mu}$\n",
    "\n",
    "where $D_0$ is in [mm], and $N_t$ is in [m<sup>-3</sup>]\n",
    "\n",
    "#### Rain liquid water content\n",
    "The rain liquid water content RLWC is analogous to the liquid water content of a cloud. It is a measure how much liquid water has been converted to rain. \n",
    "\n",
    "$RLWC_t = \\int_{D=0}^\\infty N(D) \\frac{\\pi}{6} D^3 \\rho_l dD$ \n",
    "\n",
    "where $\\rho_l$ is the density of water. The analytical solution from distribution parameters is:\n",
    "\n",
    "$RLWC_t = 5.24\\times 10^{-4} \\frac{\\Gamma(4+\\mu)}{(3.67 + \\mu)^{4+\\mu}} N_0 D_0^{4+\\mu}$\n",
    "\n",
    "where $D_0$ is in [mm], and $RLWC_t$ is in [g m <sup>-3</sup>]\n",
    "\n",
    "\n",
    "#### Rainfall rate\n",
    "The rainfall rate is the convolution between liquid water content (volume/volume) and the fall velocity of the raindrops. For simplification, the fall velocity of raindrops can be estimated as $v_t = 3.778 D^{0.67}$, where $D$ is in [mm] and $v_t$ in [m s<sup>-1</sup>]. Note that the rainfall can be an \"input\" to the distribution, when it is used to estimate $N_0$ and $\\Lambda$. In this case, $R_t$ should exactly match the specified input. It is, however, an independent quantity if $N_0$ and $\\Lambda$ are obtained through a fit. The total rainfall rate is obtained from\n",
    "\n",
    "$R_t = \\int_{D=0}^\\infty N(D)  \\frac{\\pi}{6} D^3 3.778 D^{0.67} dD $ \n",
    "\n",
    "The analytical solution from distribution parameters is:\n",
    "\n",
    "$R_t = 7.1265 \\times 10^{-3} \\frac{\\Gamma(4.67+\\mu)}{(3.67 + \\mu)^{4.67+\\mu}} N_0 D_0^{4.67+\\mu}$\n",
    "\n",
    "where $D_0$ is in [mm], and $R_t$ is in [mm hr<sup>-1</sup>]\n",
    "\n",
    "\n",
    "#### Radar reflectivity\n",
    "\n",
    "<div class=\"alert alert-warning\">\n",
    "\n",
    "<b> Definition (AMS Glossary).</b> A quantity determined by the drop-size distribution of precipitation, which is proportional to the radar reflectivity if the precipitation particles are spheres small compared with the radar wavelength.\n",
    "\n",
    "Given the drop-size distribution of a sample of rain, the radar reflectivity factor may be computed by summing the sixth-powers of the diameters of all the drops contained in a unit volume of space. Or, regarding the drop-size distribution N(D) as a continuous function of drop size, the reflectivity factor Z may be written as \n",
    "\n",
    "$Z_t = \\int_0^{\\infty} N(D) D^6 dD$\n",
    "</div>\n",
    "\n",
    "\n",
    "The analytical solution from distribution parameters is:\n",
    "\n",
    "$Z_t = \\frac{\\Gamma(7+\\mu)}{(3.67 + \\mu)^{7+\\mu}} N_0 D_0^{7+\\mu}$\n",
    "\n",
    "where $D_0$ is in [mm], and $Z_t$ is in [mm<sup>6</sup> m<sup>-3</sup>]\n",
    "\n",
    "The radar reflectivity factor is often expressed in decibel\n",
    "\n",
    "$dBZ = 10\\log_{10} \\left(\\frac{Z}{Z_0}\\right)$\n",
    "\n",
    "where $Z_0 = 1$ [mm<sup>6</sup> m<sup>-3</sup>] to allow for taking the logarithm.\n",
    "\n",
    "<table> <tr>\n",
    "  <td> <img src=\"figures/radar1.png\" alt=\"Drawing\" style=\"width: 570px;\"/> </td>\n",
    "  <td> <img src=\"figures/radar2.png\" alt=\"Drawing\" style=\"width: 410px;\"/> </td>\n",
    "  <td> <img src=\"figures/radar3.png\" alt=\"Drawing\" style=\"width: 35px;\"/> </td>\n",
    "</tr></table>\n",
    "<b> Figure 6. </b>  (Left) Schematic depiction of the weather radar. The radar sends a wave. The return echo intensity, the radar reflectivity Z [mm<sup>6</sup> m<sup>-3</sup>], is recorded. Depending on the type of radar, it is possible to estimate rainfall up to 150–200 km from the radar equipment. Image source: Gires (2018), Creative Commons, CC BY-4.0. (Right) Screenshot of the National Weather Service Radar Mosaic from a storm in 2007. Colors are defined as dBZ units.\n"
   ]
  },
  {
   "cell_type": "code",
   "execution_count": null,
   "metadata": {},
   "outputs": [],
   "source": [
    "include(\"scripts/Rain App 4.jl\")"
   ]
  },
  {
   "cell_type": "markdown",
   "metadata": {},
   "source": [
    "<b> Table 2. </b> Tabular representation of the raindrop size distributions and some of its moments assuming a rainfall intensity of 3 mm hr<sup>-1</sup> and $\\mu$ = 0.5. Diameter is in [mm] and SpectralDensity $S$ in [m<sup>-3</sup> mm<sup>-1</sup>], number concentration $N$ in [m<sup>3</sup>], rainfall intensity $R$ in [mm hr<sup>-1</sup>], rain liquid water concentent $RLWC$ in [g m<sup>-3</sup>], radar reflectivity $Z$ in [mm<sup>6</sup> m<sup>-3</sup>] and radar reflectivity $dBZ$ in [-]. \n",
    "\n",
    "### <font color='red'> D. Exercises</font>\n",
    "\n",
    "<div class=\"alert alert-info\">\n",
    "\n",
    "1. Fill in the missing values in Table 2, based on the definitions of $N$, $R$, $RLWC$, $Z$, and $dBZ$.\n",
    "2. Sum up the columns to obtain total integral parameters.\n",
    "3. Use \"Rain App 3\" above to compute $N_0$, $\\Lambda$, $D_0$ for this distribution.\n",
    "4. Write a computer program in MATLAB to compute $N_t$, $R_t$, $RWC_t$, and $Z_t$ using the formulae provided.\n",
    "5. Compare your output with the summed quantities. (Note that the values in the table will not exactly match the analytical solution due to numerical errors).\n",
    "6. Run your MATLAB code with the parameters obtained from Exercises C for the three rainfall rates.\n",
    "7. List the ranges of $N_t$, $R_t$, $RWC_t$, $Z_t$, and $dBZ_t$ for the three distributions.\n",
    "</div>\n"
   ]
  },
  {
   "cell_type": "markdown",
   "metadata": {},
   "source": [
    "## 4. Z-R Relationships\n",
    "\n",
    "<div class=\"alert alert-warning\">\n",
    "    <b> Definition (AMS Gloassry).</b> A relationship between radar reflectivity factor Z (mm<sup>6</sup> m<sup>-3</sup>) and rain rate R (mm hr<sup>-1</sup>).\n",
    "\n",
    "Empirical relationships of the form\n",
    "\n",
    "$Z = aR^b$\n",
    "\n",
    "are often used, with a ≈ 200 to 600 and b ≈ 1.5 to 2.0. \n",
    "</div>\n",
    "\n",
    "As hopefully clear from the above, the integral rainfall parameters are interrelated through the size distribution."
   ]
  },
  {
   "cell_type": "code",
   "execution_count": null,
   "metadata": {},
   "outputs": [],
   "source": [
    "include(\"scripts/Rain App 5.jl\")"
   ]
  },
  {
   "cell_type": "markdown",
   "metadata": {},
   "source": [
    "<b> Figure 7.</b> Z-R relationship predicted (a) from size raindrop size distribution for different $\\mu$ values, (b) from the power-law relationship $Z=aR^b$, (c) from observations around the United States (Stout and Mueller, 1968).\n",
    "    \n",
    "    \n",
    "### <font color='red'> E. Exercises</font>\n",
    "\n",
    "<div class=\"alert alert-info\">\n",
    "    \n",
    "1. Find the $a$ and $b$ value that corresponds to $\\mu$ = 0.\n",
    "2. Can all $\\mu$ values be represented, in principle, using a power law parameterization? Why or why not?\n",
    "3. Find the $\\mu$ that fits the Z-R data for Florida, Alaska, and North Carolina.\n",
    "4. Find the $a$ and $b$ that fits the Z-R data for Florida, Alaska, and North Carolina.\n",
    "5. Reflect on advantages and disadvantage for using $\\mu$ or $a$ and $b$ to parameterize Z-R relationships. List at least 2 advantages and disadvantages for each.\n",
    "6. The main utility of Z-R relationships is to produce quantitative precipitation estimates from radar data. Based on the theory underlying the Z-R relationship, list potential sources of errors in the thus obtained rainfall estimates.\n",
    "</div>"
   ]
  },
  {
   "cell_type": "markdown",
   "metadata": {},
   "source": [
    "## References Cited\n",
    "\n",
    "Gires A (2018) How Do We Measure Rainfall?. Front. Young Minds. 6:38. doi: 10.3389/frym.2018.00038, https://kids.frontiersin.org/article/10.3389/frym.2018.00038.\n",
    "\n",
    "Marshall, J.S. and W.M. Palmer, 1948: The Distribution of Raindrops with Size. J. Meteor., 5, 165–166, doi:10.1175/1520-0469(1948)005<0165:TDORWS>2.0.CO;2.\n",
    "\n",
    "Ulbrich, C.W., 1983: Natural Variations in the Analytical Form of the Raindrop Size Distribution. J. Climate Appl. Meteor., 22, 1764–1775, doi:10.1175/1520-0450(1983)022<1764:NVITAF>2.0.CO;2.\n",
    "\n",
    "Stout, G.E. and E.A. Mueller, 1968: Survey of Relationships Between Rainfall Rate and Radar Reflectivity in the Measurement of Precipitation. J. Appl. Meteor., 7, 465–474, doi:10.1175/1520-0450(1968)007<0465:SORBRR>2.0.CO;2."
   ]
  },
  {
   "cell_type": "markdown",
   "metadata": {},
   "source": [
    "# Licenses\n",
    "\n",
    "<div class=\"alert alert-success\">\n",
    "\n",
    "Author and Copyright: [Markus Petters](https://mdpetters.github.io/)\n",
    "\n",
    "The text of this notebook and images created by the author are licensed under the Creative Commons Attribution-NonCommercial-ShareAlike 4.0 International Public License [CC BY-NC-SA 4.0](https://creativecommons.org/licenses/by-nc-sa/4.0/). The scripts are licensed under the [GNU General Public License v3](https://www.gnu.org/licenses/gpl-3.0.en.html). \n",
    "\n",
    "Images and software from other sources are licensed as indicated.\n",
    "\n",
    "</div>"
   ]
  }
 ],
 "metadata": {
  "@webio": {
   "lastCommId": null,
   "lastKernelId": null
  },
  "kernelspec": {
   "display_name": "Julia 1.4.0",
   "language": "julia",
   "name": "julia-1.4"
  },
  "language_info": {
   "file_extension": ".jl",
   "mimetype": "application/julia",
   "name": "julia",
   "version": "1.4.0"
  }
 },
 "nbformat": 4,
 "nbformat_minor": 2
}
