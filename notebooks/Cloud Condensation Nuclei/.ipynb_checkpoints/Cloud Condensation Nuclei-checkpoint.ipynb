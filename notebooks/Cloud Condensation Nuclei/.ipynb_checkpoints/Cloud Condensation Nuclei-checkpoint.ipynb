{
 "cells": [
  {
   "cell_type": "markdown",
   "metadata": {},
   "source": [
    " # <center> Module: Cloud Condensation Nuclei </center>\n",
    " \n",
    "## 1. Learning Objectives\n",
    "- Describe the effects of cloud droplet number concentration cloud microphysical properties\n",
    "- Define cloud condensation nuclei (CCN) \n",
    "- Relate supersaturation and relative humidity\n",
    "- Sketch the principle of operateration of a static diffusion cloud (SDC) chamber  \n",
    "- Explain how the SDC chamber measures CCN concentration and cumulative CCN activation spectra\n",
    "- Parameterize CCN activation spectra in terms of C and k\n",
    "- Relate C and k to the concentration and shape of the spectra in log-log and linear domain\n",
    "- Analyze CCN data from marine, coastal, and continental environments. Identify similarities and contrast differences"
   ]
  },
  {
   "cell_type": "markdown",
   "metadata": {},
   "source": [
    "## 2. Motivation: Influence of Droplet Number and Size on Cloud Properties\n",
    "\n",
    "The number concentration and mean droplet size determines the albedo of the cloud, and how readily the cloud precipitates. The number concentration and droplet size depends on the concentration of cloud condensation nuclei (CCN) and updraft velocity (w). \n",
    "\n",
    " <img src=\"figures/cloud12.png\" width=\"800\">  \n",
    "\n",
    "<b> Figure 1.</b> <i> Left: </i> Cumulus with low droplet number concentration and large drop diameter; fuzzy and precipitating. <i> Right: </i> Continental cumulus with high droplet number concentration and small drop diameter; sharp edges/no rain. <b> Photo credits. </b> Left: Versageek/CC BY-SA 3.0 via Wikimedia Commons. Right: Ximonic, Simo Räsänen/GFDL, via Wikimedia Commons.</b> <br>\n",
    "\n",
    "- The smaller droplets in continental clouds results in the boundaries of these clouds being well-defined, because the droplets evaporate quickly in the non-saturated ambient air\n",
    "- The absence of droplets much beyond the main boundary of continental cumulus clouds gives them a harder appearance\n",
    "- The larger droplets in marine clouds lead to the release of precipitation in shallower clouds, and with smaller updrafts, than in continental clouds\n",
    "- The larger number of droplets makes continental clouds brighter than marine clouds, resulting in more reflection back to space. "
   ]
  },
  {
   "cell_type": "markdown",
   "metadata": {},
   "source": [
    "## 3. Cloud Condensation Nuclei (CCN)\n",
    "\n",
    "<b> Definition (Americal Meteorologial Society):</b> Hygroscopic aerosol particles that can serve as nuclei of atmospheric cloud droplets, that is, particles on which water condenses (activates) at supersaturations typical of atmospheric cloud formation (fraction of one to a few percent, depending on cloud type).\n",
    "\n",
    "Concentrations of CCN need to be given in terms of a supersaturation spectrum covering the range of interest or at a specified supersaturation value.\n",
    "\n",
    "***\n",
    "\n",
    "- Water condensation does not occur at 100% RH but at slightly larger values.\n",
    "- The water supersaturation in percent is defined as \n",
    "<center> $s = (\\frac{RH}{100\\%} - 1)\\times100\\%$ </center>\n",
    "\n",
    "- When the air becomes supersaturated water condenses on on small suspended particles in the air. Only some of the suspended particles serve as condensation nuclei. Particles that serve as condensation nuclei under atmospheric supersaturations are termed \"cloud condensation nuclei\". \n",
    "\n",
    "### 3a. Measurement of Cloud Condensation Nuclei\n",
    "- Cloud condensation nuclei are measured using a Cloud Condensation Nuclei counter \n",
    "\n",
    "<img src=\"figures/ccn_chamber.png\" width=\"500\"> \n",
    "<b> Figure 2.</b> Left: Vertical cross-section through a static CCN chamber. \n",
    "\n",
    "- Air is drawn into the chamber and the chamber is sealed. A temperature differential between the top and bottom plate is established. This results in a linear temperature and vapor pressure profile. A controlled supersaturation forms in the center of the chamber, with the maximum near the centerline. \n",
    "\n",
    "- The number of visible cloud droplets that form near the centerline is the CCN number concentration    \n",
    "\n",
    "- The supersaturation profile in the chamber is controlled by the temperature diffuerence between the top and bottom plate."
   ]
  },
  {
   "cell_type": "code",
   "execution_count": null,
   "metadata": {},
   "outputs": [],
   "source": [
    "@time include(\"scripts/CCN Instrument.jl\")"
   ]
  },
  {
   "cell_type": "markdown",
   "metadata": {},
   "source": [
    "### <font color='red'> A. Exercises (use the slider to change the temperature gradient) </font>\n",
    "1. How does the instrument supersaturation depend on the temperature difference between top and bottom plate? What is the range of supersaturations that is achievable with the given temperature range?\n",
    "2. Explain why the temperature profile is linear between the top and bottom plate.\n",
    "3. Explain how to calculate the vapor pressure at the top and bottom of the chamber.\n",
    "4. Explain why the vapor pressure profile is linear throughout the chamber.\n",
    "5. Explain why a supersaturation forms near the center of the instrument.\n",
    "6. Explain why the instrument is configured such that the temperature increases with height."
   ]
  },
  {
   "cell_type": "markdown",
   "metadata": {},
   "source": [
    "### 3b. Cumulative CCN Number Concentration"
   ]
  },
  {
   "cell_type": "code",
   "execution_count": null,
   "metadata": {},
   "outputs": [],
   "source": [
    "@time include(\"scripts/CCN data.jl\")"
   ]
  },
  {
   "cell_type": "markdown",
   "metadata": {},
   "source": [
    "<b> Figure 3.</b> CCN instruments measure CCN concentration at 7 supersaturaturations (s = 0.1, 0.2, 0.4, 0.6, 0.8, 1.0, and 1.2%. The graphed shown above is the cumulative supersaturation spectrum, which is defined as the graph of the number of CCN active (or cloud drops formed in the chamber) versus the imposed supersaturation.\n",
    "\n",
    "The cumulative number concentration of cloud condensation nuclei (CCN) monotonically increases with the applied supersaturation. The relationship is often described via the equation\n",
    "\n",
    "<center> $N_{CCN} = Cs^k$ </center>\n",
    "\n",
    "where $s$ is the supersaturation in %, and $C$ and $k$ are fitted coefficients to match the data."
   ]
  },
  {
   "cell_type": "code",
   "execution_count": null,
   "metadata": {},
   "outputs": [],
   "source": [
    "@time include(\"scripts/CCN App.jl\")"
   ]
  },
  {
   "cell_type": "markdown",
   "metadata": {},
   "source": [
    "### <font color='red'> B. Exercises (use the toggle-buttons to explore) </font>\n",
    "1. What effect has the \"C\" parameter on the relationship between supersaturation and CCN number? How does \"C\" relate to the CCN number concentration at s=1%?\n",
    "2. What effect has the \"k\" parameter on the relationship between supersaturation and CCN number?\n",
    "3. Explain why the relationship between supersaturation and CCN number is has concave curvature when graphed in linear-linear space (left) and is linear when graphed in log-log space (right).\n",
    "\n",
    "### 3c. Example Measurements"
   ]
  },
  {
   "cell_type": "code",
   "execution_count": null,
   "metadata": {},
   "outputs": [],
   "source": [
    "@time include(\"scripts/CCN Marine v Continental.jl\")"
   ]
  },
  {
   "cell_type": "markdown",
   "metadata": {},
   "source": [
    "<b> Figure 4. </b> Example CCN measurements obtained around the world. Data are taken from Hudson and Yum (2001).\n"
   ]
  },
  {
   "cell_type": "markdown",
   "metadata": {},
   "source": [
    "### <font color='red'> C. Exercises</font>\n",
    "\n",
    "1. Use the slider to find the $C$ and $k$ values for the different environments shown in Figure 5.  \n",
    "\n",
    "<center>\n",
    "<table style=\"width:45%\">\n",
    "    <caption> <b> </b> CCN parameters in different environments. </caption>\n",
    "  <tr>\n",
    "    <th align=\"justify\">Region</th>\n",
    "    <th align=\"justify\">Airmass</th>\n",
    "    <th align=\"justify\">C (cm<sup>-3</sup>)</sup></th> \n",
    "    <th align=\"justify\">k (-) </th>\n",
    "\n",
    "</tr>\n",
    "  <tr>\n",
    "    <td align=\"justify\">Easter Pacific</td>\n",
    "    <td align=\"justify\">Marine         </td>\n",
    "    <td align=\"justify\"></td> \n",
    "    <td align=\"justify\"></td> \n",
    "\n",
    "</tr>\n",
    "  <tr>\n",
    "    <td align=\"justify\">Eastern Atlantic</td> \n",
    "    <td align=\"justify\">Marine                </td>\n",
    "    <td align=\"justify\"></td> \n",
    "    <td align=\"justify\"></td>\n",
    "</tr>\n",
    "  <tr>\n",
    "    <td align=\"justify\">Southern Ocean </td>\n",
    "    <td align=\"justify\">Marine</td>\n",
    "    <td align=\"justify\"></td> \n",
    "    <td align=\"justify\"></td>\n",
    "\n",
    "</tr>\n",
    "  <tr>\n",
    "    <td align=\"justify\">Florida</td>\n",
    "    <td align=\"justify\">Coastal</td>\n",
    "    <td align=\"justify\"></td> \n",
    "    <td align=\"justify\"></td>\n",
    "  </tr>\n",
    "  <tr>\n",
    "    <td align=\"justify\">Florida</td>\n",
    "    <td align=\"justify\">Continental</td>\n",
    "    <td align=\"justify\"></td> \n",
    "    <td align=\"justify\"></td>\n",
    "\n",
    "  </tr>\n",
    "  <tr>\n",
    "    <td align=\"justify\">Eastern Atlantic</td>\n",
    "    <td align=\"justify\">Continental</td>\n",
    "    <td align=\"justify\"></td> \n",
    "    <td align=\"justify\"></td>\n",
    "\n",
    "  </tr>\n",
    "</table>\n",
    "</center>\n",
    "\n",
    "2. Use the table to identify ranges for $C$ and $k$ values in marine, continental, and coastal airmasses.\n",
    "3. Which environment (marine or continental) has more CCN available?"
   ]
  },
  {
   "cell_type": "markdown",
   "metadata": {},
   "source": [
    "## References Cited\n",
    "\n",
    "Hudson, J. G., and S. S. Yum, Maritime/continental drizzle contrasts in small cumuli, Journal Atmospheric Sciences,58, 915–926, 2001."
   ]
  },
  {
   "cell_type": "markdown",
   "metadata": {},
   "source": [
    "# Licenses\n",
    "\n",
    "Author and Copyright: [Markus Petters](https://mdpetters.github.io/)\n",
    "\n",
    "The text of this notebook and images created by the author are licensed under the Creative Commons Attribution-NonCommercial-ShareAlike 4.0 International Public License [CC BY-NC-SA 4.0](https://creativecommons.org/licenses/by-nc-sa/4.0/). The scripts are licensed under the [GNU General Public License v3](https://www.gnu.org/licenses/gpl-3.0.en.html). \n",
    "\n",
    "Images and software from other sources are licensed as indicated."
   ]
  }
 ],
 "metadata": {
  "@webio": {
   "lastCommId": null,
   "lastKernelId": null
  },
  "kernelspec": {
   "display_name": "Julia 1.0.5",
   "language": "julia",
   "name": "julia-1.0"
  },
  "language_info": {
   "file_extension": ".jl",
   "mimetype": "application/julia",
   "name": "julia",
   "version": "1.0.5"
  }
 },
 "nbformat": 4,
 "nbformat_minor": 2
}
