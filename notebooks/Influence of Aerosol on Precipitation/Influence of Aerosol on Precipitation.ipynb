{
 "cells": [
  {
   "cell_type": "markdown",
   "metadata": {},
   "source": [
    " # <center> Module: Influence of Aerosol on Precipitation </center>\n",
    "\n",
    "## 1. Learning Objectives\n",
    "- Define autoconversion and warm rain\n",
    "- Explain how mean droplet diameter depends on height above the LCL and CDNC \n",
    "- Analyze how CCN spectra parameterized in terms of C and k influence mean droplet radius\n",
    "- Analyze data of the vertical profile of mean droplet radius in cumuli for clean and polluted airmasses \n",
    "- Analyze data relating aerosol number concentration to rain rates in stratus clouds"
   ]
  },
  {
   "cell_type": "markdown",
   "metadata": {},
   "source": [
    "## 2. Influence of CCN and CDNC on Precipitation Initation \n",
    "\n",
    "### 2a. Autoconversion\n",
    "\n",
    "<b> Definition (American Meteorological Society) </b> The initial stage of the collision–coalescence process whereby cloud droplets collide and coalesce to form drizzle drops.\n",
    "\n",
    "Originally a term for the rate equation to approximate the transfer of cloud drops to drizzle. Because of the low collection efficiencies among cloud drops, autoconversion can be the limiting factor in the formation of drizzle\n",
    "\n",
    "***\n",
    "\n",
    "In the absence of ice, formation of drizzle and rain occurs only when the mean droplet diameter exceeds a certain threshold value. Andreae et al. (2004) observed the onset of precipitation, defined asvaircraft-radar rain echo and visible drops on the windshield when the modal droplet diameter exceeded 24 μm. The onset value is sometimes referred to as the autoconversion threshold. \n",
    "\n",
    "Without taking into account the distribution of droplet sizes, the droplet diameter is controlled by the number of available cloud droplets (i.e. CDNC) and the available liquid water content (i.e. w<sub>l</sub>). CDNC thus influences the thickness a cloud must reach before rain can form."
   ]
  },
  {
   "cell_type": "code",
   "execution_count": null,
   "metadata": {},
   "outputs": [],
   "source": [
    "@time include(\"scripts/Cloud Formation App 4.jl\" )"
   ]
  },
  {
   "cell_type": "markdown",
   "metadata": {},
   "source": [
    "### <font color='red'> A. Exercises</font>\n",
    "1. Explain why the mean droplet radius increases with height.\n",
    "2. Explain what the autoconversion threshold means.\n",
    "3. Explain why the mean droplet radius depends on the CDNC\n",
    "4. The height (or the cloud thickness defined as height of warm rain onset - height of the LCL) required for warm rain onset depends on the thermodynamic state (Temperature,Dew-point), the updraft velocity (w) and the CCN spectrum (C,k). Use the widgets to determine the Δz required for rain onset. You can read the CDNC, LCL, and Δz onset height values from the legends. Fill the  following table\n",
    "\n",
    "<center>\n",
    "<table style=\"width:45%\">\n",
    "    <caption> <b> </b> Relationship between thermodynamic conditions, updraft, CCN and onset of warm rain formation. Use the sliders to generate a range of conditions. </caption>\n",
    "  <tr>\n",
    "    <th align=\"justify\">Case</sup></th>\n",
    "    <th align=\"justify\">wl</th> \n",
    "    <th align=\"justify\">CDNC</sup></th>\n",
    "    <th align=\"justify\">Δz</th>  \n",
    "</tr>\n",
    "  <tr>\n",
    "    <td align=\"justify\">Case 1</td>\n",
    "    <td align=\"justify\"></td>\n",
    "    <td align=\"justify\"></td> \n",
    "    <td align=\"justify\"></td>\n",
    "</tr>\n",
    "  <tr>\n",
    "    <td align=\"justify\">Case 2</td> \n",
    "    <td align=\"justify\"></td>\n",
    "    <td align=\"justify\"></td> \n",
    "    <td align=\"justify\"></td>\n",
    "</tr>\n",
    "  <tr>\n",
    "    <td align=\"justify\">Case 3</td>\n",
    "    <td align=\"justify\"></td>\n",
    "    <td align=\"justify\"></td> \n",
    "    <td align=\"justify\"></td>\n",
    "\n",
    "</tr>\n",
    "  <tr>\n",
    "    <td align=\"justify\">Case 4</sup></td>\n",
    "    <td align=\"justify\"></td>\n",
    "    <td align=\"justify\"></td> \n",
    "    <td align=\"justify\"></td>\n",
    "  </tr>\n",
    "  <tr>\n",
    "    <td align=\"justify\">Case 5</sup></td>\n",
    "    <td align=\"justify\"></td>\n",
    "    <td align=\"justify\"></td> \n",
    "    <td align=\"justify\"></td>\n",
    "\n",
    "  </tr>\n",
    "</table>\n",
    "</center>\n",
    "\n",
    "5. For your test-cases, complete the following sentence. Clouds with higher droplet number concentration require ____________________________________ to precipitate\n"
   ]
  },
  {
   "cell_type": "markdown",
   "metadata": {},
   "source": [
    "### 2b. Observations\n",
    "\n",
    "Cloud observations have shown how CCN number concentration affect the droplet radius and warm rain initiation    \n",
    "\n",
    "<img src=\"figures/Andreae.png\" width=\"500\"> \n",
    "\n",
    "<b> Figure 1. </b> The dependence of drop diameter on the distance above cloud base (LCL) for four aerosl regimes. The vertical line denotes the onset of warm rain (Andreae et al., 2004). "
   ]
  },
  {
   "cell_type": "markdown",
   "metadata": {},
   "source": [
    "## <font color='red'> H. Discussion </font>\n",
    "1. The green and blue lines correspond to the green ocean (Amazon rainforest) and blue ocean (maritime environment). The black purple and red lines correspond continental conditions. \n",
    "(a) Which environment leads to more readily precipitating clouds?\n",
    "(b) Use the observations from Figure 5 and your findings from the model above to explain how differences in CCN number concentration explain the observed differences between maritime and continental cases.\n",
    "\n",
    "2. Observations in shallow stratus clouds have shown that the rain rate at cloud base is proportional to H^3/N, where H is the cloud thickness and N is the number of available CCN (see graph below). Use the theory above to explain that behavior.\n",
    "\n",
    "<img src=\"figures/OGeoffrey.png\" width=\"500\"> "
   ]
  },
  {
   "cell_type": "markdown",
   "metadata": {},
   "source": [
    "## <font color='red'> I. Reflection </font>\n",
    "\n",
    "Pollution from vehicles and industry stacks increase the number of available CCN over continental regions. Write a summary paragraph on the potential impacts of pollution on clouds and precipitation."
   ]
  },
  {
   "cell_type": "markdown",
   "metadata": {},
   "source": [
    "## References Cited\n",
    "\n",
    "Andreae, M. O., D. Rosenfeld, P. Artaxo, A. A. Costa, G. P. Frank, K. M. Longo, and M. A. F. Silvia-Dias (2004), Smoking rain clouds over the Amazon, Science, 303, 1337–1342, doi:10.1126/science.1092779"
   ]
  },
  {
   "cell_type": "markdown",
   "metadata": {},
   "source": [
    "# Licenses\n",
    "\n",
    "Author and Copyright: [Markus Petters](https://mdpetters.github.io/)\n",
    "\n",
    "The text of this notebook and images created by the author are licensed under the Creative Commons Attribution-NonCommercial-ShareAlike 4.0 International Public License [CC BY-NC-SA 4.0](https://creativecommons.org/licenses/by-nc-sa/4.0/). The scripts are licensed under the [GNU General Public License v3](https://www.gnu.org/licenses/gpl-3.0.en.html). \n",
    "\n",
    "Images and software from other sources are licensed as indicated."
   ]
  }
 ],
 "metadata": {
  "@webio": {
   "lastCommId": null,
   "lastKernelId": null
  },
  "kernelspec": {
   "display_name": "Julia 1.0.5",
   "language": "julia",
   "name": "julia-1.0"
  },
  "language_info": {
   "file_extension": ".jl",
   "mimetype": "application/julia",
   "name": "julia",
   "version": "1.0.5"
  }
 },
 "nbformat": 4,
 "nbformat_minor": 2
}
