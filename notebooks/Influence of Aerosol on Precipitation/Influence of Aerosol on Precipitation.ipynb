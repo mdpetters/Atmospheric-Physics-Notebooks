{
 "cells": [
  {
   "cell_type": "markdown",
   "metadata": {},
   "source": [
    " # <center> Module: Influence of Aerosol on Warm Rain </center>\n",
    "\n",
    "## 1. Learning Objectives\n",
    "- Define autoconversion and warm rain\n",
    "- Explain vertical profiles of cloud liquid water content in g/m3\n",
    "- Explain how mean droplet diameter depends on height above the LCL and CDNC \n",
    "- Analyze how CCN spectra parameterized in terms of C and k influence mean droplet radius\n",
    "- Analyze data of the vertical profile of mean droplet radius in cumuli for clean and polluted airmasses \n",
    "- Analyze data relating aerosol number concentration to rain rates in stratus clouds"
   ]
  },
  {
   "cell_type": "markdown",
   "metadata": {},
   "source": [
    "## 2. Influence of CCN and CDNC on Precipitation Initation \n",
    "\n",
    "### 2a. Autoconversion\n",
    "\n",
    "<b> Definition (American Meteorological Society) </b> The initial stage of the collision–coalescence process whereby cloud droplets collide and coalesce to form drizzle drops.\n",
    "\n",
    "Originally a term for the rate equation to approximate the transfer of cloud drops to drizzle. Because of the low collection efficiencies among cloud drops, autoconversion can be the limiting factor in the formation of drizzle\n",
    "\n",
    "***\n",
    "\n",
    "In the absence of ice, formation of drizzle and rain occurs only when the mean droplet diameter exceeds a certain threshold value. Andreae et al. (2004) observed the onset of precipitation, defined asvaircraft-radar rain echo and visible drops on the windshield when the modal droplet diameter exceeded 24 μm. The onset value is sometimes referred to as the autoconversion threshold. \n",
    "\n",
    "Without taking into account the distribution of droplet sizes, the droplet diameter is controlled by the number of available cloud droplets (i.e. CDNC) and the available liquid water content (i.e. w<sub>l</sub>). CDNC thus influences the thickness a cloud must reach before rain can form."
   ]
  },
  {
   "cell_type": "code",
   "execution_count": null,
   "metadata": {},
   "outputs": [],
   "source": [
    "@time include(\"scripts/Cloud Formation App 4.jl\" )"
   ]
  },
  {
   "cell_type": "markdown",
   "metadata": {},
   "source": [
    "### <font color='red'> A. Exercises</font>\n",
    "1. Explain why liquid water content (g/m3) first increases with height above cloud base and then decreases with height.\n",
    "2. Use the widgets to create clouds with the same dew-point depression but warmer cloud base temperature. How does the maximum cloud liquid water content relate to the temperature at cloud base? Explain the origin of this trend.\n",
    "3. Explain why the mean droplet radius first increases with height, then decreases with height.\n",
    "4. Explain what the autoconversion threshold means.\n",
    "5. Explain why the mean droplet radius depends on the CDNC\n",
    "6. The height (or the cloud thickness defined as height of warm rain onset - height of the LCL) required for warm rain onset depends on the thermodynamic state (Temperature,Dew-point), the updraft velocity (w) and the CCN spectrum (C,k). Use the widgets to determine the Δz required for rain onset. You can read the CDNC, LCL, and Δz onset height values from the legends. Fill the  following table\n",
    "\n",
    "<center>\n",
    "<table style=\"width:45%\">\n",
    "    <caption> <b> </b> Relationship between thermodynamic conditions, updraft, CCN and onset of warm rain formation. Use the sliders to generate a range of conditions. </caption>\n",
    "  <tr>\n",
    "    <th align=\"justify\">Case</sup></th>\n",
    "    <th align=\"justify\">wl</th> \n",
    "    <th align=\"justify\">CDNC</sup></th>\n",
    "    <th align=\"justify\">Δz</th>  \n",
    "</tr>\n",
    "  <tr>\n",
    "    <td align=\"justify\">Case 1</td>\n",
    "    <td align=\"justify\"></td>\n",
    "    <td align=\"justify\"></td> \n",
    "    <td align=\"justify\"></td>\n",
    "</tr>\n",
    "  <tr>\n",
    "    <td align=\"justify\">Case 2</td> \n",
    "    <td align=\"justify\"></td>\n",
    "    <td align=\"justify\"></td> \n",
    "    <td align=\"justify\"></td>\n",
    "</tr>\n",
    "  <tr>\n",
    "    <td align=\"justify\">Case 3</td>\n",
    "    <td align=\"justify\"></td>\n",
    "    <td align=\"justify\"></td> \n",
    "    <td align=\"justify\"></td>\n",
    "\n",
    "</tr>\n",
    "  <tr>\n",
    "    <td align=\"justify\">Case 4</sup></td>\n",
    "    <td align=\"justify\"></td>\n",
    "    <td align=\"justify\"></td> \n",
    "    <td align=\"justify\"></td>\n",
    "  </tr>\n",
    "  <tr>\n",
    "    <td align=\"justify\">Case 5</sup></td>\n",
    "    <td align=\"justify\"></td>\n",
    "    <td align=\"justify\"></td> \n",
    "    <td align=\"justify\"></td>\n",
    "\n",
    "  </tr>\n",
    "</table>\n",
    "</center>\n",
    "\n",
    "7. Complete the following sentence. Clouds with higher droplet number concentration require ____________________________________ to precipitate.\n",
    "8. Complete the following sentence. Clouds with colder cloud-base temperature higher are ____________________________________ likely to precipitate.\n"
   ]
  },
  {
   "cell_type": "markdown",
   "metadata": {},
   "source": [
    "### 2b. Analyzing Observations\n",
    "\n",
    "Aircraft observations of droplet size distributions in clouds demonstrate that the Δz required to reach the autoconversion threshold varies significantly between environments. The figure below shows the dependence of drop diameter on the height above cloud base (LCL) for four clouds. \"Blue ocean\" refers to marine clouds, \"green ocean\" to remote clean clouds forming over the Amazon rainforest, and \"Thailand\" to clouds over a polluted region. The vertical line denotes the onset of warm rain. Data is from Andreae et al. (2004). "
   ]
  },
  {
   "cell_type": "code",
   "execution_count": null,
   "metadata": {},
   "outputs": [],
   "source": [
    "@time include(\"scripts/Cloud Formation App 5.jl\" )"
   ]
  },
  {
   "cell_type": "markdown",
   "metadata": {},
   "source": [
    "## <font color='red'> B. Exercises </font>\n",
    "1. Explain why the height of the LCL influences the modal drop diameter.\n",
    "2. Explain why the temperature at the LCL influences the modal drop diameter.\n",
    "3. Explain why C influences the modal drop diameter.\n",
    "4. Explain why w influences the modal drop diameter.\n",
    "5. Use the widget to find conditions that approximately match the \"blue ocean\", \"green ocean\", and \"Thailand\" cases. (Perform these exercises individually). Record values for C, k, w, TLCL, an zLCL that match the observations.\n",
    "6. Compare the values to those of your group. Are they unique? If not, provide an explanation why.\n",
    "7. Contrast your C values with typical C values for clean marine and continental polluted conditions. Are they within your expectations?\n",
    "8. Which of the environments leads to more readily precipitating clouds?\n",
    "9. Does the shape of the model match the observations? If not, propose explanations why the model may not represent the data. "
   ]
  },
  {
   "cell_type": "markdown",
   "metadata": {},
   "source": [
    "## <font color='red'> C. Reflection </font>\n",
    "\n",
    "Pollution from vehicles and industry stacks increase the number of available CCN over continental regions. Write a summary paragraph on the potential impacts of pollution on clouds and precipitation."
   ]
  },
  {
   "cell_type": "markdown",
   "metadata": {},
   "source": [
    "## References Cited\n",
    "\n",
    "Andreae, M. O., D. Rosenfeld, P. Artaxo, A. A. Costa, G. P. Frank, K. M. Longo, and M. A. F. Silvia-Dias (2004), Smoking rain clouds over the Amazon, Science, 303, 1337–1342, doi:10.1126/science.1092779"
   ]
  },
  {
   "cell_type": "markdown",
   "metadata": {},
   "source": [
    "# Licenses\n",
    "\n",
    "Author and Copyright: [Markus Petters](https://mdpetters.github.io/)\n",
    "\n",
    "The text of this notebook and images created by the author are licensed under the Creative Commons Attribution-NonCommercial-ShareAlike 4.0 International Public License [CC BY-NC-SA 4.0](https://creativecommons.org/licenses/by-nc-sa/4.0/). The scripts are licensed under the [GNU General Public License v3](https://www.gnu.org/licenses/gpl-3.0.en.html). \n",
    "\n",
    "Images and software from other sources are licensed as indicated."
   ]
  }
 ],
 "metadata": {
  "@webio": {
   "lastCommId": null,
   "lastKernelId": null
  },
  "kernelspec": {
   "display_name": "Julia 1.3.0-rc5",
   "language": "julia",
   "name": "julia-1.3"
  },
  "language_info": {
   "file_extension": ".jl",
   "mimetype": "application/julia",
   "name": "julia",
   "version": "1.3.0"
  }
 },
 "nbformat": 4,
 "nbformat_minor": 2
}
