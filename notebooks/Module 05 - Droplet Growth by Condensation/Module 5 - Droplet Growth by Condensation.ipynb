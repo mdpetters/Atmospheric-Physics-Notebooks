{
 "cells": [
  {
   "cell_type": "markdown",
   "metadata": {},
   "source": [
    "# <center> Module 5: Droplet Growth by Condensation </center>\n",
    "\n",
    "## 1. Learning Objectives\n",
    "\n",
    "<div class=\"alert alert-success\">\n",
    "\n",
    "- Explain the physical principles that drive and limit condensation growth of cloud droplets\n",
    "- Describe the terms comprising the kinetic condensational growth equation\n",
    "- Write software to compute the growth parameter\n",
    "- Explain the temperature and pressure dependence of the growth parameter\n",
    "- Apply the condensation growth equation to model the evolution of the droplet size distribution for constant conditions\n",
    "- Predict the changes in number and dispersion of droplet size distributions undergoing condensational growth or evaporation\n",
    "- Analyze measured droplet size distributions in the context of condensational growth theory and measured liquid water contents\n",
    "- Relate the condensation growth equation to the supersaturation balance equation\n",
    "- Explain the evolution of the droplet size distribution in adiabatic cloud parcel model simulations\n",
    "- Explain how the value of the growth parameter relates to predicted CDNC \n",
    "\n",
    "</div>"
   ]
  },
  {
   "cell_type": "markdown",
   "metadata": {},
   "source": [
    "## 2. Droplet Growth by Condensation\n",
    "\n",
    "### 2a. Overview\n",
    "\n",
    "Fick’s law of diffusion is solved to compute the mass rate of transport to the droplet via diffusion and\n",
    "the transport of latent heat away from the droplet via Fourier’s law of heat conduction. Transport to the droplet occurs when the saturation ratio of the environment is larger than that of the droplet. Heat transport comes into play because the latent heat of condensation raises the temperature of the droplet. This  increases the saturation vapor pressure at the surface of the droplet, thereby weakening the vapor gradient and thus slowing down the growth. The rate is therefore limited by the rate the heat can be rejected to the\n",
    "environment, which then affects the saturated adiabatic lapse rate. "
   ]
  },
  {
   "cell_type": "code",
   "execution_count": null,
   "metadata": {},
   "outputs": [],
   "source": [
    "using WebIO; WebIO.setup(:ijulia);\n",
    "include(\"scripts/Condensation Growth Illustration 1.jl\" ) "
   ]
  },
  {
   "cell_type": "markdown",
   "metadata": {},
   "source": [
    "<b> Figure 1. </b> Radial geometry of droplet growth problem. The radius of the drop is denoted by $r$. Vapor density far from the droplet is higher than near the drop surface. The vapor diffuses to the droplet at flux\n",
    "$J_v$. The drop heats due to latent release from condensation. The excess heat (enthalpy) diffuses away from the droplet at flux $J_h$. At steady state the flux of molecules and flux of heat across an imaginary spherical surface of radius $R$ is constant. The vapor and temperature fields are described by the difference ($T_\\infty-T_r$) and ($S_\\infty-S_r$).  The supersaturation over the drop is $s = (S_\\infty-S_r)\\times 100\\%$. For $s > 0$, the drop is growing, $s < 0$ the drop is evaporating.\n",
    "\n",
    "The mass growth and enthalpy growth rate in spherical coordinates are governed by the coupled differential equations:\n",
    "\n",
    "$J_v$ = $\\frac{dm}{dt} = 4\\pi r D_v (\\rho_{v,\\infty} - \\rho_{v,r})$\n",
    " \n",
    "$J_h$ = $\\frac{dh}{dt} = 4\\pi r K (T_{\\infty} - T_{r})$\n",
    "\n",
    "where where $m$ is the water mass in the droplet, $h$ is the enthalpy, $D_v$ is the diffusivity of water vapor, $K$ is the thermal conductivity of air and $\\rho_v$ is the vapor density. \n",
    "\n",
    "### 2b. Maxwell-Mason Equation\n",
    "\n",
    "The differential equations above can be approximated via\n",
    "\n",
    "<center> $ r\\frac{dr}{dt} = Gs $ </center>\n",
    "\n",
    "where $s$ is the supersaturation of water and $G$ is the growth parameter. After integration the growth law is:\n",
    "\n",
    "<br>\n",
    "\n",
    "<center> $ r = \\sqrt{r(t_0)^2 + 2Gst} $ </center>\n",
    "\n",
    "\n",
    "<img src=\"figures/Growth Rate.png\" width=\"400\">  \n",
    "\n",
    "<b> Figure 2. </b> Diffusional growth rate of droplets as a function of time at 1%\n",
    "supersaturation. The simulation starts at time $t_0$ with initial droplet radii between 1 and 10 μm. It is assumed that the growth parameter $G$ is constant and $s$ is constant with time. The figure illustrates that the small droplets grow faster than large droplets, resulting in a narrowing of of the droplet size distribution."
   ]
  },
  {
   "cell_type": "markdown",
   "metadata": {},
   "source": [
    "### <font color='red'> A. Exercises </font>\n",
    "\n",
    "<div class=\"alert alert-info\">\n",
    "\n",
    "1. Use the equation $ r\\frac{dr}{dt} = Gs$ to explain why smaller droplets grow faster than larger droplets. \n",
    "2. You have a size distribution parameterized via the Gamma PDF with parameters Dn, Nt, and v. The droplet distribution is placed in a subsaturated environment with $s$ = -5% (RH = 95%). How would you expect that Nt and v change after 5 min? Explain why.\n",
    "\n",
    "</div>"
   ]
  },
  {
   "cell_type": "markdown",
   "metadata": {},
   "source": [
    "The model below assumes that the growth parameter $G$ is constant, $s$ is constant with time, and that $r(t_0)$ is given by droplet size distribution described using a Gamma PDF. The model is then run for some time 0 < $t$ < 120 min."
   ]
  },
  {
   "cell_type": "code",
   "execution_count": null,
   "metadata": {},
   "outputs": [],
   "source": [
    "include(\"scripts/Condensation Growth App 1.jl\" ) "
   ]
  },
  {
   "cell_type": "markdown",
   "metadata": {},
   "source": [
    "### <font color='red'> B. Exercises </font>\n",
    "\n",
    "<div class=\"alert alert-info\">\n",
    "\n",
    "1. The growth rate of the size distribution depends on the time (tmin) in minutes, the supersaturation (s) in % and the total number of droplets. \n",
    "    1. Changing number concentration \n",
    "        1. What is the effect of changing Nt from 50 to 200 to 1000 cm<sup>-3</sup> on the mode diameter of the distribution after 10 min of growth?  \n",
    "        2. What is the effect of changing Nt from 50 to 200 to 1000 cm<sup>-3</sup> on the dispersion of the distribution after 10 min of growth?  \n",
    "        3. What is the effect of changing Nt from 50 to 200 to 1000 cm<sup>-3</sup> on the liquid water content after 10 min of growth?  \n",
    "        4. Explain the results in terms of condensational growth theory (Maxwell-Mason equation).\n",
    "    2. Changing supersaturation\n",
    "        1. What is the effect of changing supersaturation from 0.1 to 0.5 to 1.0 % on the mode diameter of the distribution after 10 min of growth?\n",
    "        2. What is the effect of changing supersaturation from 0.1 to 0.5 to 1.0 % on the dispersion of the distribution after 10 min of growth?\n",
    "        3. What is the effect of changing supersaturation from 0.1 to 0.5 to 1.0 % on the liquid water content of the distribution after 10 min of growth?\n",
    "        4. Explain the results in terms of condensational growth theory (Maxwell-Mason equation).  \n",
    "    3. Changing growth time\n",
    "         1. What is the effect of changing growth time from 1 min to 120 min at Nt = 200 cm<sup>-3</sup> and s = 0.1% on the mode diameter of the distribution? \n",
    "         2. What is the effect of changing growth time from 1 min to 120 min at Nt = 200 cm<sup>-3</sup> and s = 0.1% on the dispersion of the distribution? \n",
    "         3. What is the effect of changing growth time from 1 min to 120 min at Nt = 200 cm<sup>-3</sup> and s = 0.1% on the liquid water content of the distribution? \n",
    "         4. Explain the results in terms of condensational growth theory (Maxwell-Mason equation).\n",
    "\n",
    "</div>"
   ]
  },
  {
   "cell_type": "code",
   "execution_count": null,
   "metadata": {},
   "outputs": [],
   "source": [
    "include(\"scripts/Droplet Size Distribution App 2.jl\" ) "
   ]
  },
  {
   "cell_type": "markdown",
   "metadata": {},
   "source": [
    "<div class=\"alert alert-info\">\n",
    "\n",
    "2. Starting with N = 700 cm<sup>-3</sup> and and s = 0.1 % supersaturation:\n",
    "    1. Find the time it would take to grow to the size of the \"Industrial Polluted Cloud\" spectrum.\n",
    "    2. Compare the dispersion between the modeled spectrum and observed spectrum. How well do they compare? Which one is broader?\n",
    "    \n",
    "</div>"
   ]
  },
  {
   "cell_type": "code",
   "execution_count": null,
   "metadata": {},
   "outputs": [],
   "source": [
    "include(\"scripts/Condensation Growth App 2.jl\" ) "
   ]
  },
  {
   "cell_type": "markdown",
   "metadata": {},
   "source": [
    "<b> Figure 3. </b> Climatology of cloud liquid water content for precipitating and non-precipitating clouds. The line shows the mean and the shade the range of observed liquid water contents for each cloud type. Data from Yin et al. (2015).\n",
    "\n",
    "<div class=\"alert alert-info\">\n",
    "\n",
    "3. Growth to drizzle/rain size via condensation.\n",
    "    1. Find the largest mode diameter of the grown distribution you can generate using the app above. What is the corresponding liquid water content?\n",
    "    2. Based on Figure 3, what are typical liquid water contents in precipitating and non-precipitating clouds?\n",
    "    3. Compare your simulated liquid water content to actual liquid water content in clouds. Is the liquid water content realistic? Propose potential implications of this finding?\n",
    "    \n",
    "</div>"
   ]
  },
  {
   "cell_type": "markdown",
   "metadata": {},
   "source": [
    "## 3. Application of Growth by Condensation: Parcel Theory\n",
    "\n",
    "The supersaturation balance equation is\n",
    "\n",
    "<center> $\\frac{ds}{dt} = \\alpha_1 w - \\alpha_2 \\frac{LWC}{dt}$ </center>\n",
    "\n",
    "Here $s$ is the supersaturation, $t$ is time, $\\alpha_1 w$ is the supersaturation generation rate from the updraft and $\\alpha_2 \\frac{LWC}{dt}$ is the supersaturation depletion rate due to condensation on growing cloud drops. \n",
    "\n",
    "The rate $\\frac{dLWC}{dt}$ is obtained from the condensation growth equation. It is the sum increase in water volume due to all growing drops, each of which grows according to \n",
    "\n",
    "<center> $ r\\frac{dr}{dt} = Gs $ </center>\n",
    "\n",
    "The general supersaturation balance equation is an ordinary differential equation that can be solved numerically. Example results from such a model are presented below. The calculations are performed using the [pyrcel model](https://pyrcel.readthedocs.io/en/latest/index.html) (Rothenberg and Wang, 2016). \n",
    "\n",
    "The version below shows the generation of liquid water content and increase of the mode diameter with height. The distribution shows the (aerosol) size distribution below cloud base, and the droplet size distribution at height $z$ above the LCL. The slider can be used to visualize the size distribution at different levels. It is essentially the same as ```Condensation Growth App 3.jl```. The main difference between the two apps is that the supersaturation is not constant. It is depleted by condensation and regenerated by the updraft. The example used a constant aerosol number concentration and constant updraft velocity. "
   ]
  },
  {
   "cell_type": "code",
   "execution_count": null,
   "metadata": {},
   "outputs": [],
   "source": [
    "include(\"scripts/Condensation Growth App 3.jl\" ) "
   ]
  },
  {
   "cell_type": "markdown",
   "metadata": {},
   "source": [
    "### <font color='red'> C. Exercises </font>\n",
    "\n",
    "<div class=\"alert alert-info\">\n",
    "\n",
    "1. Find the height above the LCL where the liquid water content is ~0.5 g/m3 (typical liquid water content in a precipitating cloud).\n",
    "    1. What is the mode diameter of the droplet size distribution?\n",
    "    2. Compare the distribution to observed droplet size distributions above. What are similarities and differences?\n",
    "2. If you were to change updraft velocity or aerosol number concentration (not possible in this app), would you expect the liquid water profile to change? Why or why not?\n",
    "3. If you were to change updraft velocity or aerosol number concentration (not possible in this app), would you expect the mode diameter of the droplet size distribution expect to change? Why or why not?\n",
    "4. The updraft velocity in this example is $w$ = 3 m s<sup>-1</sup>. Use the slider to estimate the time it takes for droplets to grow to a mean diameter of 10 μm, 12 μm and 18 μm.\n",
    "\n",
    "</div>"
   ]
  },
  {
   "cell_type": "markdown",
   "metadata": {},
   "source": [
    "### 4. The Growth Parameter $G$\n",
    "\n",
    "The Maxwell-Mason droplet growth equation is given by\n",
    "\n",
    "$r \\frac{dr}{dt} = Gs $\n",
    "\n",
    "$G$ is called the growth parameter and has units of m<sup>2</sup> s<sup>-1</sup> %<sup>-1</sup> and $s$ is in %. The value of the growth parameter determines the rate of growth. This in turn is governed by the restance of air to heat and vapor flux (see Figure 1). It can be computed via \n",
    "\n",
    "$ G = \\frac{1}{F_D+F_H} $\n",
    "\n",
    "$ F_D=\\frac{ρ_w RT_∞}{e_s (T_∞ ) D_v M_w } $ and $F_H=\\frac{l_v ρ_w}{KT_∞ } (\\frac{l_v M_w}{T_∞ R}-1) $ are the resistances due to diffusion and heat conduction, $ \\rho_w $ is the density of water, $ R $ is the universal gas constant, $ M_v $ is the molecular weight of water, $ D_v $ is the diffusion coefficient of water vapor in air, $ K $ is the thermal conductivity of air,  $ e_s (T_\\infty) $ is the saturation vapor pressure far from the drop, and $ l_v $ is the latent heat of vaporization.\n",
    "\n",
    "Note how $F_D$ and $F_H$ subsume the vapor diffusivity and thermal conductivity which are the physical parameters that govern the growth rate.\n",
    "\n",
    "<div class=\"alert alert-warning\">\n",
    "\n",
    "The growth rate is a function of pressure and temperature because saturation vapor pressure is a function of temperature, thermal conductivity is a function of temperature, and because diffusivity is a function of temperature and pressure.\n",
    "</div>"
   ]
  },
  {
   "cell_type": "code",
   "execution_count": null,
   "metadata": {},
   "outputs": [],
   "source": [
    "include(\"scripts/Condensation Growth App 4.jl\" ) "
   ]
  },
  {
   "cell_type": "markdown",
   "metadata": {},
   "source": [
    "### <font color='red'> D. Exercises </font>\n",
    "\n",
    "<div class=\"alert alert-info\">\n",
    "\n",
    "1. Search through the textbooks, and/or google to find appropriate values for each constant. \n",
    "2. Write out the units for all of the constants. \n",
    "3. Perform unit analysis to confirm that $ F_D $ and $ F_H $ are in units of [s m<sup>-2</sup>]. \n",
    "4. Write a computer function called growthparameter that takes $T$ and $p$ as input and returns the values of $ F_D $ and $ F_H $ in units of [s m<sup>-2</sup>] and $ G $ in units of [m<sup>2</sup> s<sup>-1</sup>].\n",
    "5. Plot $G(T)$ for $p$ = 1000 hPa and for $p$ = 500 hPa. Compare with the app above.\n",
    "6. Use physical reasoning to explain why $G$ decreases with decreasing temperature and increases with decreasing pressure.\n",
    "7. Compare two clouds: cloud 1 has TLCL = 0°C and cloud 2 has TLCL = -40°C. Both clouds have the same CCN spectra (i.e. the same C,k) and the same updraft velocity. Based on your understanding of $G$, which cloud will have the higher supersaturation and the lower CDNC? Explain why.\n",
    "\n",
    "</div>"
   ]
  },
  {
   "cell_type": "markdown",
   "metadata": {},
   "source": [
    "## References Cited\n",
    "Rothenberg, D. and Wang, C. (2016), Metamodeling of Droplet Activation for Global Climate Models. J. Atmos. Sci., 73, 1255–1272, doi: http://dx.doi.org/10.1175/JAS-D-15-0223.1.\n",
    "\n",
    "Yin, J., Wang, D. & Zhai, G. J Meteorol Res (2015) 29: 82. https://doi.org/10.1007/s13351-015-4091-1"
   ]
  },
  {
   "cell_type": "markdown",
   "metadata": {},
   "source": [
    "# Licenses\n",
    "\n",
    "<div class=\"alert alert-success\">\n",
    "\n",
    "Author and Copyright: [Markus Petters](https://mdpetters.github.io/)\n",
    "\n",
    "The text of this notebook and images created by the author are licensed under the Creative Commons Attribution-NonCommercial-ShareAlike 4.0 International Public License [CC BY-NC-SA 4.0](https://creativecommons.org/licenses/by-nc-sa/4.0/). The scripts are licensed under the [GNU General Public License v3](https://www.gnu.org/licenses/gpl-3.0.en.html). \n",
    "\n",
    "The [pyrcel model](https://pyrcel.readthedocs.io/en/latest/index.html) is written by Daniel Rothenberg and distributed under the [BSD 3-Clause license](https://github.com/darothen/pyrcel/blob/master/LICENSE.md). \n",
    "\n",
    "Images and software from other sources are licensed as indicated.\n",
    "\n",
    "</div>"
   ]
  }
 ],
 "metadata": {
  "@webio": {
   "lastCommId": null,
   "lastKernelId": null
  },
  "kernelspec": {
   "display_name": "Julia 1.4.0",
   "language": "julia",
   "name": "julia-1.4"
  },
  "language_info": {
   "file_extension": ".jl",
   "mimetype": "application/julia",
   "name": "julia",
   "version": "1.4.0"
  }
 },
 "nbformat": 4,
 "nbformat_minor": 2
}
