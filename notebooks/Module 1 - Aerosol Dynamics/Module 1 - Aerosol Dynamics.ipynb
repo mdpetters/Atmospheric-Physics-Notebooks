{
 "cells": [
  {
   "cell_type": "markdown",
   "metadata": {},
   "source": [
    "# <center> Module 1: Aerosol Dynamics </center>\n",
    " \n",
    "## 1. Learning Objectives\n",
    "\n",
    "<div class=\"alert alert-success\">\n",
    "\n",
    "- Interpret aerosol size distributions graphed in various domains (dN/dlnD and heatmaps)\n",
    "- Apply the lognormal aerosol size distribution function to represent aerosol size distributions\n",
    "- Describe the principle of operation for scanning mobility particle sizers and optical particle counters\n",
    "- Name the dominant modes of the atmospheric size distribution. \n",
    "- Know particle sources and processes associated with each mode\n",
    "- Analyze ambient size distribution data and fit multi-modal lognormal parameters\n",
    "- Identify features of Atmospheric size distributions in different environments\n",
    "- Track condensational modal growth of atmospheric aerosols\n",
    "- Analyze time series of urban and rural size distributions\n",
    "\n",
    "</div>"
   ]
  },
  {
   "cell_type": "markdown",
   "metadata": {},
   "source": [
    "## 2. Background\n",
    "\n",
    "<div class=\"alert alert-warning\">\n",
    "    \n",
    "<b> Definition: </b> Aerosol are a collection of airborne solid or liquid particles, with a typical size between 10 and 1000 nm. Aerosols may be of either natural or anthropogenic origin. \n",
    "\n",
    "</div>\n",
    "\n",
    "<img src=\"figures/Los_Angeles_Pollution.jpg\" width=\"1100\"> \n",
    "<b> Figure 1. </b> Smog over Los Angeles. Photo by David Iliff. License: CC BY-SA 3.0.\n",
    "\n",
    "Aerosols have acute and chronic negative impacts on human health and the environment. Aerosols scatter (redirect) light, which reduces visibility. The particles serve as condensation sites for water, thereby influencing the properties of clouds. \n",
    "\n",
    "Particle number concentration and particle size are the most critical properties determining how aerosol interacts with the body, the atmosphere, and light. These two properties are described by the particle size distribution. In addition to help assessing aerosol impacts, particle size distributions also provide information about the sources and age of particles. "
   ]
  },
  {
   "cell_type": "markdown",
   "metadata": {},
   "source": [
    "## 3. The Aerosol Size Distribution\n",
    "\n",
    "### 3a. Tabular Representation Size Distribution\n",
    "\n",
    "A size distribution measurement counts the number of particles within a size interval $D_{low}$ to $D_{up}$ over some period time and some of air. From this the number concentration of particles $N\\;(\\#\\;cm^{-3})$ is obtained. The most basic representation of the size distribution is in the form of a table: "
   ]
  },
  {
   "cell_type": "code",
   "execution_count": null,
   "metadata": {},
   "outputs": [],
   "source": [
    "include(\"scripts/Aerosol Dynamics Table 1.jl\")"
   ]
  },
  {
   "cell_type": "code",
   "execution_count": null,
   "metadata": {
    "scrolled": true
   },
   "outputs": [],
   "source": [
    "include(\"scripts/Aerosol Dynamics Figure 1.jl\")"
   ]
  },
  {
   "cell_type": "markdown",
   "metadata": {},
   "source": [
    "<b> Figure 2. </b> The same size distribution as in the table plotted as a histogram.\n",
    "\n",
    "### <font color='red'> A. Exercises  </font>\n",
    "\n",
    "<div class=\"alert alert-info\">\n",
    "\n",
    "1. Calculate the total particle number concentration from the table above.\n",
    "2. Is the bin-width constant in the table and figure?\n",
    "3. Identify strength and weaknesses of this representation of the size distribution.\n",
    "\n",
    "</div>\n"
   ]
  },
  {
   "cell_type": "code",
   "execution_count": null,
   "metadata": {},
   "outputs": [],
   "source": [
    "include(\"scripts/Aerosol Dynamics Figure 2.jl\")"
   ]
  },
  {
   "cell_type": "markdown",
   "metadata": {},
   "source": [
    "<b> Figure 3. </b> The same size distribution as in Figure 2 but varying the number of bins. Left measured using 10 bins and right measured using 40 bins\n",
    "\n",
    "### <font color='red'> B. Exercises  </font>\n",
    "<div class=\"alert alert-info\">\n",
    "\n",
    "1. Explain why the left and right y-axis are different.\n",
    "2. What would happen to the number observed in a size bin if the number of bins were to be increased to a very large number (e.g. 10000)?\n",
    "</div>"
   ]
  },
  {
   "cell_type": "markdown",
   "metadata": {},
   "source": [
    "### 3b. Spectral Density\n",
    "\n",
    "A better way to represent the size distribution is to normalize the number concentration by the width of the size bin interval. The resulting quantity is referred to as the spectral density\n",
    "\n",
    "$\\frac{dN}{dlnD}=\\frac{N}{ln(D_{up}-D_{low})}=\\frac{N}{ln(D_{up}/D_{low})}$"
   ]
  },
  {
   "cell_type": "code",
   "execution_count": null,
   "metadata": {},
   "outputs": [],
   "source": [
    "include(\"scripts/Aerosol Dynamics Table 2.jl\")"
   ]
  },
  {
   "cell_type": "markdown",
   "metadata": {},
   "source": [
    "### <font color='red'> C. Exercises  </font>\n",
    "<div class=\"alert alert-info\">\n",
    "\n",
    "1. Determine the unit of spectral density\n",
    "2. Calculate the spectral density for the size distribution table above\n",
    "\n",
    "</div>"
   ]
  },
  {
   "cell_type": "code",
   "execution_count": null,
   "metadata": {},
   "outputs": [],
   "source": [
    "include(\"scripts/Aerosol Dynamics Figure 3.jl\")"
   ]
  },
  {
   "cell_type": "markdown",
   "metadata": {},
   "source": [
    "<b> Figure 4. </b> The same size distribution in the tables but plotted agains spectral density. Left measured using 10 bins and right measured using 40 bins\n",
    "\n",
    "### <font color='red'> D. Exercises  </font>\n",
    "<div class=\"alert alert-info\">\n",
    "\n",
    "1. Sum up the dN/dlnD values in the table. Do they correspond the the total number concentration?\n",
    "2. Based on figure, identify strength and weaknesses of this representation of the size distribution.\n",
    "</div>"
   ]
  },
  {
   "cell_type": "markdown",
   "metadata": {},
   "source": [
    "### 3c. Log-scale Representation\n",
    "\n",
    "One important weakness of the linear x-axis is that the small diameters are squished and it is impossible to identify features at small sizes. Using a logarithmic diameter scale adresses this. "
   ]
  },
  {
   "cell_type": "code",
   "execution_count": null,
   "metadata": {},
   "outputs": [],
   "source": [
    "include(\"scripts/Aerosol Dynamics Figure 4.jl\")"
   ]
  },
  {
   "cell_type": "markdown",
   "metadata": {},
   "source": [
    "<b> Figure 5. </b> The same size distribution as in the tables, plotted on a log-diameter axis.\n",
    "\n",
    "### <font color='red'> E. Exercise  </font>\n",
    "<div class=\"alert alert-info\">\n",
    "Are the bins spaced regularly? If so, why?\n",
    "</div>"
   ]
  },
  {
   "cell_type": "markdown",
   "metadata": {},
   "source": [
    "### 3d. The Lognormal Size Distribution Function\n",
    "\n",
    "Note that the size distribution appears like bell-shaped curve when plotted in logarithmic-diameter space. Such distributions are represented using the lognormal size distribution function\n",
    "\n",
    "The lognormal size distribution function is \n",
    "<center> $\\frac{dN}{d\\ln D_p} = \\frac{N_{t,i}}{\\sqrt{2\\pi}\\ln\\sigma_{g}} \\exp \\left(- \\frac{\\left[\\ln D_p-\\ln D_{pg}\\right]^2}{2\\ln \\sigma_{g}^2}\\right) $  </center>\n",
    "where $\\frac{dN}{d\\ln D_p}$ is the spectral number density, $N_{t}$ is the total number concentration, $\\sigma_{g}$ is the geometric standard deviation, and $D_{pg}$ is the mode diameter. The size distribution is then described by the triplet $\\{N_{t},D_{pg},\\sigma_{g}\\}$ that best describes the data. <br> \n",
    "\n",
    "<div class=\"alert alert-warning\">\n",
    "    \n",
    "The mode diameter represents the most frequent observation, or highest spectral density. The geometric standard deviation varies between 1 for an infinitely narrow distribution and values exceeding 1. For a normal distribution, 68.21% of particle countes fall between $\\pm$ one standard deviation. For the lognormal distribution 68.21% of particle counts are within the interval ${D_g}/{\\sigma_g} < D < D_g\\sigma_g$.\n",
    "\n",
    "</div>"
   ]
  },
  {
   "cell_type": "code",
   "execution_count": null,
   "metadata": {},
   "outputs": [],
   "source": [
    "include(\"scripts/Aerosol Dynamics Figure 5.jl\")"
   ]
  },
  {
   "cell_type": "markdown",
   "metadata": {},
   "source": [
    "<b> Figure 6. </b> Representation of the same size distribution as histogram sampled with 10 bins (left) and 40 bins (right), plotted against spectral density and using a logarithmic x-axis, and with the best fit size-distribution function overlaid. The parameters are ${N_t = 200\\;cm^{−3} , D_{pg} = 80\\; nm, \\sigma_g = 1.2}$.\n",
    "\n",
    "### <font color='red'> F. Exercise  </font>\n",
    "<div class=\"alert alert-info\">\n",
    "What does $N_{t}$ represent? How does it compare to your answer from A. Exercises?\n",
    "</div>"
   ]
  },
  {
   "cell_type": "code",
   "execution_count": null,
   "metadata": {},
   "outputs": [],
   "source": [
    "include(\"scripts/Aerosol Dynamics Figure 6.jl\")"
   ]
  },
  {
   "cell_type": "markdown",
   "metadata": {},
   "source": [
    "<b> Figure 7. </b> Properties of the lognormal distribution function.\n",
    "\n",
    "### <font color='red'> G. Exercises  </font>\n",
    "Use the widget to explore how the parameters of the lognormal function influence the distribution\n",
    "<div class=\"alert alert-info\">\n",
    "\n",
    "1. What does $D_{pg}$ represent? How would you identify it from the chart?\n",
    "\n",
    "2. What does $\\sigma_{g}$ represent?\n",
    "\n",
    "3. Use the slider and the legend to verify that 68.21% of particles fall within the shaded area defined by ${D_{pg}}/{\\sigma_g} < D_p < D_{pg}\\sigma_g$. Verify for at least three combinations of $\\{N_t, D_{pg},\\sigma_g\\}$\n",
    "</div>"
   ]
  },
  {
   "cell_type": "markdown",
   "metadata": {},
   "source": [
    "### 3e. Observations of Size Distributions\n",
    "\n",
    "Many techniques to measure size distributions exist. Two common instrument are the Scanning Mobility Particle Sizer (SMPS) and the Optical Particle Counter (OPC) and are introduced here.\n",
    "\n",
    "#### Scanning Mobility Particle Sizer (SMPS)\n",
    "\n",
    "Aerosol flows through an annulus gap. An electric potential is applied between the inner and outer column. The electric potential drags charged particles through a sheath flow. Charged particles within a narrow electrical mobility band are steered to a sample slit. The electric potential selects a narrow size range. Particles within this size range are counted using a condensation particle counter. Scanning the electric potential with time, usually over a 1-5 min period produces a particle size distribution. \n",
    "\n",
    "The SMPS technique can used to measure particles between 1-1000 nm. However, a single instrument us limited to a narrower range which is determined by the length of the column and the flow rate through the instrument.\n",
    "\n",
    "<table> <tr>\n",
    "  <td> <img src=\"figures/smps_schematic.png\" alt=\"Drawing\" style=\"width: 395px;\"/> </td>\n",
    "  <td> <img src=\"figures/smps.jpg\" alt=\"Drawing\" style=\"width: 300px;\"/> </td>\n",
    "</tr></table>\n",
    "<b> Figure 8. </b> (Left) Schematic of the SMPS. <i> Image Source:</i> Petters (2018), License CC BY-NC-ND 4.0. (Right) Commercial SMPS instrument. <i> Image Source: </i> manufacturer brochure.\n",
    "  \n",
    "\n",
    "\n",
    "#### Optical Particle Counter (OPC)\n",
    "\n",
    "Aerosol flow is directed through a laser beam. Particles scatter (redirect) light in the beam to photodetector. The intensity of the scattered light is related to the particle size. Concentration is obtained from the number of particles crossing the laser beam per unit time and the flow rate through the instrument. Particles are binned into size bins based on scattered light intensity. \n",
    "\n",
    "The OPC technique can be used to measure particles > 60 nm. However, most OPCs only detect particles > 400 nm. At large sizes concentrations become small and detection is limited by counting statistics. Thus the size range depends on the specific OPC model. The POPS particles 150 nm - 3000 nm. \n",
    "\n",
    "<table> <tr>\n",
    "  <td> <img src=\"figures/pops_schematic.png\" alt=\"Drawing\" style=\"width: 500px;\"/> </td>\n",
    "  <td> <img src=\"figures/pops.png\" alt=\"Drawing\" style=\"width: 300px;\"/> </td>\n",
    "</tr></table>\n",
    "<b> Figure 9. </b> (Left) Top and side view of an optical particle counter. The collimating lens (CL) is shown in green, the cylindrical lenses (CyLs) are shown in blue,the diode laser, DL, is in solid dark blue. (Right) A complete and functional instrument. Bottom panel: The optics box with the scattering signal digitizer board (shielded by a grounded brass EMI cover). <i> Image Source </i> Gao et al. (2018), License: Non-commercial re-use, distribution, and reproduction in any medium, provided the original work is properly attributed, cited, and is not altered, transformed, or built upon in any way, is permitted. \n"
   ]
  },
  {
   "cell_type": "code",
   "execution_count": null,
   "metadata": {},
   "outputs": [],
   "source": [
    "include(\"scripts/Aerosol Dynamics Figure 7.jl\")"
   ]
  },
  {
   "cell_type": "markdown",
   "metadata": {},
   "source": [
    "<b> Figure 10. </b> One day of aerosol size distribution data collected in Raleigh, NC, November 2019. The observations are using two SMPS instruments and one POPS optical particle counter. The distributions are a 30 min time average. The composite size distribution is obtained by stiching the three instruments together. Shaded areas show the 5% to 95% interquartile range of the observations.\n",
    "\n",
    "### <font color='red'> H. Exercise  </font>\n",
    "<div class=\"alert alert-info\">\n",
    "Use the widget to explore how the size distribution changes during the one day period. Analyze the output and write down at minimum three conclusions you can make based the data.\n",
    "<div>"
   ]
  },
  {
   "cell_type": "markdown",
   "metadata": {},
   "source": [
    "### 3f. Multimodal  Size Distributions\n",
    "\n",
    "The data show that that aerosol size distribution typically consists of 2-4 modes. Each mode is approximately lognormaldistributed. The total size distribution is discribed by the sum of the modes:\n",
    "\n",
    "<center> $\\frac{dN}{d\\ln D_p} = \\sum_{i=1}^n \\frac{N_{t,i}}{\\sqrt{2\\pi}\\ln\\sigma_{g,i}} \\exp \\left(- \\frac{\\left[\\ln D_p-\\ln D_{pg,i}\\right]^2}{2\\ln \\sigma_{g,i}^2}\\right) $  </center>\n",
    "where $\\frac{dN}{d\\ln D_p}$ is the spectral number density, $N_{t,i}$ is the total number concentration, $\\sigma_{g,i}$ is the geometric standard deviation, and $D_{pg,i}$ is the geometric mean diameter of the $i^{th}$ mode, and $n$ is the number of modes. <br> \n",
    "\n",
    "#### Names and Sources of Modes\n",
    "\n",
    "<b>  1. Nucleation Mode: </b> Particles below 10 nm. These articles have been newly formed either by\n",
    "homogeneous nucleation in the atmosphere or by nucleation processes that occur within the emissions from high temperature sources and lead to the emission of primary nucleation mode particles. Homogenous nucleation is the processes by which low volatility gas-phase compounds form spontaneously new solid or liquid particles. For example, sulfuring acid (H2SO4) is formed from the atmospheric oxidation of SO2. This H2SO4 can nucleate and form sulfate aerosol.\n",
    "\n",
    "<b>  2. Aitken Mode: </b> Particles beween 10-80 nm. Names after the meteorologist John Aitken (1839 – 14 November 1919) who discovered these particles. Sources of Aitken mode particles include direct emissions, e.g. from vehicle exhaust, and growth of nucleation mode particles by condensation of vapors.\n",
    "\n",
    "<b>  3. Accumulation Mode: </b> Particles between 80-1000 nm. Named for their long lifetime in the atmosphere (7-30 days). Brownian motion and settling velocity of these particles is small. Therefore these particle accumulate in the atmosphere. Accumulation mode particles form from the growth of Aitken mode particles by condensation and by coagulation.  Further growth is inhibited because they do not coagulate as rapidly as fine particles and do not settle like coarse particles. Accumulation particles can be efficiently removed by rain.\n",
    "\n",
    "<b>  4. Coarse Mode: </b> Particles > 1000 nm in diameter. Coarse mode particles are generated mechanically. Sources include wind-blown soil/desert dusts, industrial emissions, biological particles (bacteria, viruses) and sea-spray aerosol. Gravitational settling is fast, reducing the atmospheric lifetime relative to the accumulation mode. \n",
    "\n",
    "The exact size ranges for the modes may differ beween different authors. "
   ]
  },
  {
   "cell_type": "code",
   "execution_count": null,
   "metadata": {},
   "outputs": [],
   "source": [
    "include(\"scripts/Aerosol Dynamics Figure 8.jl\")"
   ]
  },
  {
   "cell_type": "markdown",
   "metadata": {},
   "source": [
    "### <font color='red'> I. Exercises  </font>\n",
    "<div class=\"alert alert-info\">\n",
    "\n",
    "1. Use the widget to fit a multimodal size distribution to the distribution in time index 20, 23,and 48. To fit the data, first try to manually change the numbers in the spin boxes. When you are close to the solution, push the button to fit either one, two three or four modes. Test your solution by entering the proposed solution into the spin box. Group the fitting parameters into modes, i.e. Mode 1:  $\\{N_t, D_{pg},\\sigma_g\\}$, Mode 2:  $\\{N_t, D_{pg},\\sigma_g\\}$, Mode 3: $\\{N_t, D_{pg},\\sigma_g\\}$, and Mode 4: $\\{N_t, D_{pg},\\sigma_g\\}$. Record the values for the three cases.\n",
    "2. Identify the total particle number concentration for the three distributions. \n",
    "3. Categorize the modes into nucleation, Aitken, accumulation, and coarse mode. Estimate the fraction of number concentration to the total number in each of the modes. \n",
    "4. Write down least three conclusions obtained from this exercise.\n",
    "</div>"
   ]
  },
  {
   "cell_type": "markdown",
   "metadata": {},
   "source": [
    "### 3g. Surface Area, Volume, Mass Distributions\n",
    "\n",
    "Aerosol concentration can be characterized in terms of numer concentration, surface area concentration, volume concentration, and mass concentration. As a rule of thumb:\n",
    "\n",
    "- Number concentration is important to assess aerosol impacts on clouds and climate\n",
    "- Surface area concentration is important to assess aerosol impacts on light scattering and surface mediated processes such as condensation, chemical reaction on particle surfaces, and ice nucleation\n",
    "- Volume/Mass concentration is important to assess aerosol impacts on human health and the environment (e.g. nutrient cycling).\n",
    "\n",
    "Surface area, volume, and mass concentration can be derived from the size distribution\n",
    "\n",
    "$S=\\pi D_{p}^{2}N$\n",
    "\n",
    "$V=\\frac{\\pi}{6}D_{p}^{3}N$\n",
    "\n",
    "$M=\\frac{\\pi}{6}D_{p}^{3}N\\rho_{p}$\n",
    "\n",
    "where $\\rho_{p}$ is the particle density. The midpoint diameter of the bin, $D_{p}=(D_{low}+D_{up})/2$, should be used in the calculation.\n",
    "\n",
    "Here are example calculation:\n",
    "\n",
    "$S=\\pi D_{p}^{2}N=3.1415\\times(54\\times10^{-3}\\;\\mu m)^{2}\\times9\\;cm^{-3}=0.082\\;\\mu m^{2}\\;cm^{-3}$\n",
    "\n",
    "$V=\\pi/6D_{p}^{3}N=3.1415\\times(54\\times10^{-3}\\;\\mu m)^{3}\\times9\\;cm^{-3}=0.00073\\;\\mu m^{3}\\;cm^{-3}$\n",
    "\n",
    "$M=\\pi/6D_{p}^{3}N=3.1415\\times(54\\times10^{-3}\\;\\mu m)^{3}\\times9\\;cm^{-3}\\times2\\;g\\;cm^{-3}\\times10^{6}\\;\\mu g\\;g^{-1}\\times10^{-18}\\;m^{3}\\;\\mu m^{3}\\times10^{12}\\;m^{-6}\\;cm^{-6}=0.0015\\;\\mu g\\;m^{-3}$\n",
    "\n",
    "<div class=\"alert alert-warning\">\n",
    "Note that for mass calculations, if the density is $1000\\; kg\\;m^{-3} = 1\\; g\\; cm^{-3}$, the volume concentration in $\\mu m^{3}\\;cm^{-3}$ equals to the mass concentration in $\\mu g\\;m^{-3}$. This is an important conversion and explains why $\\mu m^{3}\\;cm^{-3}$ is the preferred unit for volume concentration.\n",
    "</div>\n",
    "\n",
    "\n",
    "Important mass fractions of the aerosol are PM1, PM2.5 and PM10, denoting  particulate matters with D < 1 μm, 2.5 μm, and 10 μm, respectively. PM concentrations can be obtained by integration over the size distribution.\n",
    "\n"
   ]
  },
  {
   "cell_type": "code",
   "execution_count": null,
   "metadata": {},
   "outputs": [],
   "source": [
    "include(\"scripts/Aerosol Dynamics Table 3.jl\") "
   ]
  },
  {
   "cell_type": "markdown",
   "metadata": {},
   "source": [
    "### <font color='red'> J. Exercises  </font>\n",
    "\n",
    "<div class=\"alert alert-info\">\n",
    "\n",
    "1. Compute the surface area, volume, and mass distribution in the table, assuming $\\rho_{p}=2000\\;kg\\;m^{-3}$ For the calculation of $S$ and $V$, use $D_{p}$ in units of $\\mu m$. \n",
    "\n",
    "2. Compute the total surface area, volume, and mass concentration from the distribution.\n",
    "\n",
    "</div>\n",
    "\n"
   ]
  },
  {
   "cell_type": "markdown",
   "metadata": {},
   "source": [
    "#### Spectral Density\n",
    "\n",
    "As with number concentration, the surface area and mass distributions are usually written as spectral densities and plotted in logarithmic diameter space. \n",
    "\n",
    "$\\frac{dS}{dlnD}=\\pi D_{p}^{2}\\frac{dN}{dlnD}$\n",
    "\n",
    "$\\frac{dV}{dlnD}=\\frac{\\pi}{6}D_{p}^{3}\\frac{dN}{dlnD}$\n",
    "\n",
    "$\\frac{dM}{dlnD}=\\frac{\\pi}{6}D_{p}^{3}\\frac{dN}{dlnD}\\rho_{p}$"
   ]
  },
  {
   "cell_type": "code",
   "execution_count": null,
   "metadata": {},
   "outputs": [],
   "source": [
    "include(\"scripts/Aerosol Dynamics Figure 9.jl\")"
   ]
  },
  {
   "cell_type": "markdown",
   "metadata": {},
   "source": [
    "<b> Figure 11. </b> Representation of the same size distribution as in the table represented as a histogram sampled with 10 bins plotted against spectral density of the number surface area and mass distribution, using a logarithmic x-axis, and with the best fit size-distribution function overlaid. A particle density of 2000 kg m-3 is assumed. The parameters are $\\{ N_{t}=200\\;cm^{-3},D_{pg}=80\\;nm,\\sigma_{g}=1.2\\}$.\n",
    "\n",
    "### <font color='red'> K. Exercises  </font>\n",
    "<div class=\"alert alert-info\">\n",
    "\n",
    "1. Is the mode diameter the same for the four different distributions? Why or why not?\n",
    "2. Perform unit analysis to show that the units on the y-axes are correct.\n",
    "</div>"
   ]
  },
  {
   "cell_type": "code",
   "execution_count": null,
   "metadata": {},
   "outputs": [],
   "source": [
    "include(\"scripts/Aerosol Dynamics Figure 10.jl\")"
   ]
  },
  {
   "cell_type": "markdown",
   "metadata": {},
   "source": [
    "### <font color='red'> L. Exercises  </font>\n",
    "<div class=\"alert alert-info\">\n",
    "\n",
    "1. Enter the 3-mode fit for time-index 49 into the cells\n",
    "2. Manually add mode 4 to fit the coarse-mode in the volume distribution.\n",
    "3. Explain why only three modes are visible in each graph, even though it is a four mode size distribution.\n",
    "4. Estimate the contribution of the nucleation mode, Aitken mode, accumulation mode, and coarse mode to PM2.5\n",
    "</div>"
   ]
  },
  {
   "cell_type": "markdown",
   "metadata": {},
   "source": [
    "####  PM2.5 and Mortality Risk\n",
    "\n",
    "Relative mortality compares the mortality of the cohort to the mortality of the general population. A relative mortality of 1.3 means that the observed mortality in the cohort is 30% larger than expected in a similar subgroup of the general population. All-cause mortality is correlated with PM2.5 exposure. The relative mortality risk ratio increases by ~16% for each 10 μg m-3 in PM2.5 concentration. Total, cardiovascular, and lung cancer mortality are  positively associated with ambient PM2.5 concentrations. Reduced PM2.5 concentrations are associated with reduced mortality risk (Laden et al., 2006)."
   ]
  },
  {
   "cell_type": "markdown",
   "metadata": {},
   "source": [
    "## 4. New Particle Formation\n",
    "\n",
    "Sometimes nucleation mode particles are. The particles burst into existence through new particle formation events. After such events, the mode diameter is often seen to steadily increase with time due to condensation of sulfuric acid and other species present in the atmosphere. \n",
    "\n",
    "<img src=\"figures/nucleation_event.png\" width=\"1100\"> \n",
    "<b> Figure 12. </b> Nucleation and growth event observed outside of Jordan Hall, Raleigh, NC.\n",
    "\n",
    "### <font color='red'> M. Exercises  </font>\n",
    "<div class=\"alert alert-info\">\n",
    "\n",
    "1. On a piece of paper, sketch the aerosol size distribution at 10:00 and 12:00 hr.\n",
    "2. Use the widget in the cell above and compare your sketch with actual size distribution at those times. \n",
    "3. Estimate the mode diameter at 10:00 and 12:00 hr. Use these values to compute the modal growth rate in $nm\\;hr^{-1}$.\n",
    "</div>"
   ]
  },
  {
   "cell_type": "code",
   "execution_count": null,
   "metadata": {},
   "outputs": [],
   "source": [
    "include(\"scripts/Aerosol Dynamics Figure 11.jl\")"
   ]
  },
  {
   "cell_type": "markdown",
   "metadata": {},
   "source": [
    "<b> Figure 12. </b> Measured modal growth rates of nucleation mode particles during regional nucleation events versus measured sulfuric acid vapor concentrations from various locations. The theory shows calculated contributions of sulfuric acid condensation to growth. Data from Stolzenburg et al. (2005).\n",
    "\n",
    "### <font color='red'> N. Exercises  </font>\n",
    "<div class=\"alert alert-info\">\n",
    "\n",
    "1. Compare the measured growth rate in Figure 12 to those collected around the world. What region are they most comparable to? \n",
    "2. Use the observed growth rate outside Jordan Hall to estimate the sulfuric acic concentration in the air.\n",
    "3. Stolzenburg et al. (2005) note that “measured growth rates are almost always greater than can be explained by sulfuric acid condensation”. Propose an explanation why this might be the case.\n",
    "</div>"
   ]
  },
  {
   "cell_type": "markdown",
   "metadata": {},
   "source": [
    "## 5. Analysis of Urban and Rural Size Distributions\n",
    "\n",
    "Contrast the following size distributions collected in rural and urban locations.\n",
    "\n",
    "<img src=\"figures/map.png\" width=\"600\"> \n",
    "<b> Figure 14. </b> Sampling locations Maggie Valley (red marker) and Jordan Hall (Raleigh). Map generated via google maps.\n",
    "\n",
    "<img src=\"figures/MaggieValley.png\" width=\"1000\"> \n",
    "<b> Figure 15. </b> Evolution of size distribution over rural NC (Maggie Valley), in 2014.\n",
    "\n",
    "<img src=\"figures/Raleigh.png\" width=\"1000\"> \n",
    "<b> Figure 16. </b> Evolution of size distribution outside Jordan Hall, NC, in 2017.\n",
    "\n",
    "### <font color='red'> O. Exercises  </font>\n",
    "<div class=\"alert alert-info\">\n",
    "\n",
    "<div class=\"alert alert-info\">\n",
    "\n",
    "1. What is the range of number concentrations in the two settings?\n",
    "2. What is the range of mode diameters in the two settings?\n",
    "3. What is the range of volume concentrations in the two settings?\n",
    "4. Estimate the range of mass concentration in Raleigh based on an assumed density of $\\rho=1500\\;kg\\;m^{-3}$. How does this compare to the 24 hr and annual EPA standard for PM2.5? ($12\\; \\mu g\\; m^{-3}$ and $35\\; \\mu g\\; m^{-3}$, respectively). Would you expect the actual PM2.5 to be higher or lower than those estimated from the measurements?\n",
    "5. Which of the two locations has more nucleation/growth events?\n",
    "6. Propose at least three explanations for the rapid fluctuations in number, volume (and size distribution) with time for the Raleigh location.\n",
    "7. How would you expect that local meteorology influences observed aerosol properties? Provide at least two examples.\n",
    "</div>"
   ]
  },
  {
   "cell_type": "markdown",
   "metadata": {},
   "source": [
    "## References Cited\n",
    "\n",
    "Gao, R. S., H. Telg, R. J. McLaughlin, S. J. Ciciora, L. A. Watts, M. S. Richardson, J. P. Schwarz, A. E. Perring, T. D. Thornberry, A. W. Rollins, M. Z. Markovic, T. S. Bates, J. E. Johnson & D. W. Fahey (2016) A light-weight, high-sensitivity particle spectrometer for PM2.5 aerosol measurements, Aerosol Science and Technology, 50:1, 88-99, doi:10.1080/02786826.2015.1131809. \n",
    "\n",
    "Laden F, Schwartz J, Speizer FE, Dockery DW. Reduction in fine particulate air pollution and mortality: Extended follow-up of the Harvard Six Cities study. Am J Respir Crit Care Med. 2006;173(6):667–672. doi:10.1164/rccm.200503-443OC.\n",
    "\n",
    "Petters, M. D. (2018) A language to simplify computation of differential mobility analyzer response functions, Aerosol Science and Technology, 52:12, 1437-1451, doi:10.1080/02786826.2018.1530724.\n",
    "\n",
    "Stolzenburg, M. R., McMurry, P. H., Sakurai, H., Smith, J. N., Mauldin III, R. L., Eisele, F. L., and Clement, C. F. ( 2005), Growth rates of freshly nucleated atmospheric particles in Atlanta, J. Geophys. Res., 110, D22S05, doi:10.1029/2005JD005935.\n"
   ]
  },
  {
   "cell_type": "markdown",
   "metadata": {},
   "source": [
    "# Licenses\n",
    "\n",
    "<div class=\"alert alert-success\">\n",
    "    \n",
    "Author and Copyright: [Markus Petters](https://mdpetters.github.io/)\n",
    "\n",
    "The text of this notebook and images created by the author are licensed under the Creative Commons Attribution-NonCommercial-ShareAlike 4.0 International Public License [CC BY-NC-SA 4.0](https://creativecommons.org/licenses/by-nc-sa/4.0/). The scripts are licensed under the [GNU General Public License v3](https://www.gnu.org/licenses/gpl-3.0.en.html). \n",
    "\n",
    "Images and software from other sources are licensed as indicated.\n",
    "\n",
    "</div>"
   ]
  }
 ],
 "metadata": {
  "@webio": {
   "lastCommId": null,
   "lastKernelId": null
  },
  "kernelspec": {
   "display_name": "Julia 1.3.0",
   "language": "julia",
   "name": "julia-1.3"
  },
  "language_info": {
   "file_extension": ".jl",
   "mimetype": "application/julia",
   "name": "julia",
   "version": "1.3.0"
  }
 },
 "nbformat": 4,
 "nbformat_minor": 2
}
