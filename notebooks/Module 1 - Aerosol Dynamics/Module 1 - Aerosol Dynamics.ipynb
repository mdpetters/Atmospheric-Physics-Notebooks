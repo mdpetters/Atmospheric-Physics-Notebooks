{
 "cells": [
  {
   "cell_type": "markdown",
   "metadata": {},
   "source": [
    "# <center> Module 1: Aerosol Dynamics </center>\n",
    " \n",
    "## 1. Learning Objectives\n",
    "- Interpret erosol size distributions graphed in various domains (dN/dlnD and heatmaps)\n",
    "- Apply the lognormal aerosol size distribution function to represent aerosol size distributions\n",
    "- Identify features of Atmospheric size distributions in different environments\n",
    "- Track condensational modal growth of atmospheric aerosols\n",
    "- Analyze time series of urban and rural size distributions in North Carolina"
   ]
  },
  {
   "cell_type": "markdown",
   "metadata": {},
   "source": [
    "## 2. Background\n",
    "\n",
    "<i> Definition: </i> Aerosol are a collection of airborne solid or liquid particles, with a typical size between 10 and 1000 nm. Aerosols may be of either natural or anthropogenic origin. \n",
    "\n",
    "<img src=\"figures/Los_Angeles_Pollution.jpg\" width=\"1100\"> \n",
    "<b> Figure 1. </b> Smog over Los Angeles. Photo by David Iliff. License: CC BY-SA 3.0\n",
    "\n",
    "Aerosols have acute and chronic negative impacts on human health and the environment. Aerosols scatter (redirect) light, which reduces visibility. The particles serve as condensation sites for water, thereby influencing the properties of clouds. \n",
    "\n",
    "Particle number concentration and particle size are the most critical properties determining how aerosol interacts with the body, the atmosphere, and light. These two properties are described by the particle size distribution. In addition to help assessing aerosol impacts, particle size distributions also provide information about the sources and age of particles. "
   ]
  },
  {
   "cell_type": "markdown",
   "metadata": {},
   "source": [
    "## 3. The Aerosol Size Distribution\n",
    "\n",
    "### 3a. Tabular Representation Size Distribution\n",
    "\n",
    "A size distribution measurement counts the number of particles within a size interval $D_{low}$ to $D_{up}$ over some period time and some of air. From this the number concentration of particles $N\\;(\\#\\;cm^{-3})$ is obtained. The most basic representation of the size distribution is in the form of a table: "
   ]
  },
  {
   "cell_type": "code",
   "execution_count": null,
   "metadata": {},
   "outputs": [],
   "source": [
    "include(\"scripts/Aerosol Dynamics Table 1.jl\")"
   ]
  },
  {
   "cell_type": "code",
   "execution_count": null,
   "metadata": {
    "scrolled": true
   },
   "outputs": [],
   "source": [
    "include(\"scripts/Aerosol Dynamics Figure 1.jl\")"
   ]
  },
  {
   "cell_type": "markdown",
   "metadata": {},
   "source": [
    "<b> Figure 2. </b> The same size distribution as in the table plotted as a histogram.\n",
    "\n",
    "### <font color='red'> A. Exercises  </font>\n",
    "1. Calculate the total particle number concentration from the Table above.\n",
    "2. Is the bin-width constant in the Table and Figure?\n",
    "3. Identify strength and weaknesses of this representation of the size distribution."
   ]
  },
  {
   "cell_type": "code",
   "execution_count": null,
   "metadata": {},
   "outputs": [],
   "source": [
    "include(\"scripts/Aerosol Dynamics Figure 2.jl\")"
   ]
  },
  {
   "cell_type": "markdown",
   "metadata": {},
   "source": [
    "<b> Figure 3. </b> The same size distribution as in Figure 2 but varying the number of bins. Left measured using 10 bins and right measured using 40 bins\n",
    "\n",
    "### <font color='red'> B. Exercises  </font>\n",
    "1. Explain why the left and right y-axis are different.\n",
    "2. What would happen to the number observed in a size bin if the number of bins were to be increased to a very large number (e.g. 10000)?"
   ]
  },
  {
   "cell_type": "markdown",
   "metadata": {},
   "source": [
    "### 3b. Spectral Density\n",
    "\n",
    "A better way to represent the size distribution is to normalize the number concentration by the width of the size bin interval. The resulting quantity is referred to as the spectral density\n",
    "\n",
    "$\\frac{dN}{dlnD}=\\frac{N}{ln(D_{up}-D_{low})}=\\frac{N}{ln(D_{up}/D_{low})}$"
   ]
  },
  {
   "cell_type": "code",
   "execution_count": null,
   "metadata": {},
   "outputs": [],
   "source": [
    "include(\"scripts/Aerosol Dynamics Table 2.jl\")"
   ]
  },
  {
   "cell_type": "markdown",
   "metadata": {},
   "source": [
    "### <font color='red'> C. Exercises  </font>\n",
    "1. Determine the unit of spectral density\n",
    "2. Calculate the spectral density for the size distribution table above"
   ]
  },
  {
   "cell_type": "code",
   "execution_count": null,
   "metadata": {},
   "outputs": [],
   "source": [
    "include(\"scripts/Aerosol Dynamics Figure 3.jl\")"
   ]
  },
  {
   "cell_type": "markdown",
   "metadata": {},
   "source": [
    "<b> Figure 4. </b> The same size distribution in the tables but plotted agains spectral density. Left measured using 10 bins and right measured using 40 bins\n",
    "\n",
    "### <font color='red'> D. Exercises  </font>\n",
    "1. Sum up the dN/dlnD values in the table. Do they correspond the the total number concentration?\n",
    "2. Based on figure, odentify strength and weaknesses of this representation of the size distribution."
   ]
  },
  {
   "cell_type": "markdown",
   "metadata": {},
   "source": [
    "### 3c. Log-scale Representation\n",
    "\n",
    "One important weakness of the linear x-axis is that the small diameters are squished and it is impossible to identify features at small sizes. Using a logarithmic diameter scale adresses this. "
   ]
  },
  {
   "cell_type": "code",
   "execution_count": null,
   "metadata": {},
   "outputs": [],
   "source": [
    "include(\"scripts/Aerosol Dynamics Figure 4.jl\")"
   ]
  },
  {
   "cell_type": "markdown",
   "metadata": {},
   "source": [
    "<b> Figure 5. </b> The same size distribution as in the tables, plotted on a log-diameter axis.\n",
    "\n",
    "### <font color='red'> E. Exercise  </font>\n",
    "\n",
    "1. Are the bins spaced regularly? If so, why?"
   ]
  },
  {
   "cell_type": "markdown",
   "metadata": {},
   "source": [
    "### 3d. The Lognormal Size Distribution Function\n",
    "\n",
    "Note that the size distribution appears like bell-shaped curve when plotted in logarithmic-diameter space. Such distributions are represented using the lognormal size distribution function\n",
    "\n",
    "The lognormal size distribution function is \n",
    "<center> $\\frac{dN}{d\\ln D_p} = \\frac{N_{t,i}}{\\sqrt{2\\pi}\\ln\\sigma_{g}} \\exp \\left(- \\frac{\\left[\\ln D_p-\\ln D_{pg}\\right]^2}{2\\ln \\sigma_{g}^2}\\right) $  </center>\n",
    "where $\\frac{dN}{d\\ln D_p}$ is the spectral number density, $N_{t}$ is the total number concentration, $\\sigma_{g}$ is the geometric standard deviation, and $D_{pg}$ is the mode diameter. The size distribution is then described by the triplet $\\{N_{t},D_{pg},\\sigma_{g}\\}$ that best describes the data. <br> \n",
    "\n",
    "The mode diameter represents the most frequent observation, or highest spectral density. The geometric standard deviation varies between 1 for an infinitely narrow distribution and values exceeding 1. For a normal distribution, 68.21% of particle countes fall between $\\pm$ one standard deviation. For the lognormal distribution 68.21% of particle counts are within the interval ${D_g}/{\\sigma_g} < D < D_g\\sigma_g$."
   ]
  },
  {
   "cell_type": "code",
   "execution_count": null,
   "metadata": {},
   "outputs": [],
   "source": [
    "include(\"scripts/Aerosol Dynamics Figure 5.jl\")"
   ]
  },
  {
   "cell_type": "markdown",
   "metadata": {},
   "source": [
    "<b> Figure 6. </b> Representation of the same size distribution as histogram sampled with 10 bins (left) and 40 bins (right), plotted against spectral density and using a logarithmic x-axis, and with the best fit size-distribution function overlaid. The parameters are ${N_t = 200\\;cm^{−3} , D_{pg} = 80\\; nm, \\sigma_g = 1.2}$.\n",
    "\n",
    "### <font color='red'> F. Exercise  </font>\n",
    "1. What does $N_{t}$ represent? How does it compare to your answer from A. Exercises?"
   ]
  },
  {
   "cell_type": "code",
   "execution_count": null,
   "metadata": {},
   "outputs": [],
   "source": [
    "include(\"scripts/Aerosol Dynamics Figure 6.jl\")"
   ]
  },
  {
   "cell_type": "markdown",
   "metadata": {},
   "source": [
    "<b> Figure 7. </b> Properties of the lognormal distribution function.\n",
    "\n",
    "### <font color='red'> G. Exercises  </font>\n",
    "Use the widget to explore how the parameters of the lognormal function influence the distribution\n",
    "1. What does $D_{pg}$ represent? How would you identify it from the chart?\n",
    "2. What does $\\sigma_{g}$ represent?\n",
    "3. Use the slider and the legend to verify that 68.21% of particles fall within the shaded area defined by ${D_{pg}}/{\\sigma_g} < D_p < D_{pg}\\sigma_g$. Verify for at least three combinations of$\\{N_t, D_{pg},\\sigma_g\\}$"
   ]
  },
  {
   "cell_type": "markdown",
   "metadata": {},
   "source": [
    "### 3e. Observations of Size Distributions\n",
    "\n",
    "Many techniques to measure size distributions exist. Two common instrument are the Scanning Mobility Particle Sizer (SMPS) and the Optical Particle Counter (OPC) and are introduced here.\n",
    "\n",
    "#### Scanning Mobility Particle Sizer (SMPS)\n",
    "\n",
    "Aerosol flows through an annulus gap. An electric potential is applied between the inner and outer column. The electric potential drags charged particles through a sheath flow. Charged particles within a narrow electrical mobility band are steered to a sample slit. The electric potential selects a narrow size range. Particles within this size range are counted using a condensation particle counter. Scanning the electric potential with time, usually over a 1-5 min period produces a particle size distribution. \n",
    "\n",
    "The SMPS technique can used to measure particles between 1-1000 nm. However, a single instrument us limited to a narrower range which is determined by the length of the column and the flow rate through the instrument.\n",
    "\n",
    "<table> <tr>\n",
    "  <td> <img src=\"figures/smps_schematic.png\" alt=\"Drawing\" style=\"width: 395px;\"/> </td>\n",
    "  <td> <img src=\"figures/smps.jpg\" alt=\"Drawing\" style=\"width: 300px;\"/> </td>\n",
    "</tr></table>\n",
    "<b> Figure 8. </b> (Left) Schematic of the SMPS. <i> Image Source:</i> Petters (2018), License CC BY-NC-ND 4.0. (Right) Commercial SMPS instrument. <i> Image Source: </i> manufacturer brochure.\n",
    "  \n",
    "\n",
    "\n",
    "#### Optical Particle Counter (OPC)\n",
    "\n",
    "Aerosol flow is directed through a laser beam. Particles scatter (redirect) light in the beam to photodetector. The intensity of the scattered light is related to the particle size. Concentration is obtained from the number of particles crossing the laser beam per unit time and the flow rate through the instrument. Particles are binned into size bins based on scattered light intensity. \n",
    "\n",
    "The OPC technique can be used to measure particles > 60 nm. However, most OPCs only detect particles > 400 nm. At large sizes concentrations become small and detection is limited by counting statistics. Thus the size range depends on the specific OPC model. The POPS particles 150 nm - 3000 nm. \n",
    "\n",
    "<table> <tr>\n",
    "  <td> <img src=\"figures/pops_schematic.png\" alt=\"Drawing\" style=\"width: 500px;\"/> </td>\n",
    "  <td> <img src=\"figures/pops.png\" alt=\"Drawing\" style=\"width: 300px;\"/> </td>\n",
    "</tr></table>\n",
    "<b> Figure 9. </b> (Left) Top and side view of an optical particle counter. The collimating lens (CL) is shown in green, the cylindrical lenses (CyLs) are shown in blue,the diode laser, DL, is in solid dark blue. (Right) A complete and functional instrument. Bottom panel: The optics box with the scattering signal digitizer board (shielded by a grounded brass EMI cover). <i> Image Source </i> Gao et al. (2018), License: Non-commercial re-use, distribution, and reproduction in any medium, provided the original work is properly attributed, cited, and is not altered, transformed, or built upon in any way, is permitted. \n"
   ]
  },
  {
   "cell_type": "code",
   "execution_count": null,
   "metadata": {},
   "outputs": [],
   "source": [
    "include(\"scripts/Aerosol Dynamics Figure 7.jl\")"
   ]
  },
  {
   "cell_type": "markdown",
   "metadata": {},
   "source": [
    "<b> Figure 10. </b> Two days of aerosol size distribution data collected in Raleigh, NC, November 2019. The observations are using two SMPS instruments and one POPS optical particle counter. The distributions are a 30 min time average. The composite size distribution is obtained by stiching the three instruments together. Shaded areas show the 5% to 95% interquartile range of the observations.\n",
    "\n",
    "### <font color='red'> H. Exercise  </font>\n",
    "Use the widget to explore how the size distribution changes during a 2 day period. Analyze the output and write down at minimum three conclusions you can make based the data."
   ]
  },
  {
   "cell_type": "code",
   "execution_count": null,
   "metadata": {},
   "outputs": [],
   "source": []
  },
  {
   "cell_type": "markdown",
   "metadata": {},
   "source": [
    "## References Cited\n",
    "\n",
    "Gao, R. S., H. Telg, R. J. McLaughlin, S. J. Ciciora, L. A. Watts, M. S. Richardson, J. P. Schwarz, A. E. Perring, T. D. Thornberry, A. W. Rollins, M. Z. Markovic, T. S. Bates, J. E. Johnson & D. W. Fahey (2016) A light-weight, high-sensitivity particle spectrometer for PM2.5 aerosol measurements, Aerosol Science and Technology, 50:1, 88-99, doi:10.1080/02786826.2015.1131809. \n",
    "\n",
    "Petters, M. D. (2018) A language to simplify computation of differential mobility analyzer response functions, Aerosol Science and Technology, 52:12, 1437-1451, doi:10.1080/02786826.2018.1530724\n"
   ]
  },
  {
   "cell_type": "markdown",
   "metadata": {},
   "source": [
    "# Licenses\n",
    "\n",
    "Author and Copyright: [Markus Petters](https://mdpetters.github.io/)\n",
    "\n",
    "The text of this notebook and images created by the author are licensed under the Creative Commons Attribution-NonCommercial-ShareAlike 4.0 International Public License [CC BY-NC-SA 4.0](https://creativecommons.org/licenses/by-nc-sa/4.0/). The scripts are licensed under the [GNU General Public License v3](https://www.gnu.org/licenses/gpl-3.0.en.html). \n",
    "\n",
    "Images and software from other sources are licensed as indicated."
   ]
  }
 ],
 "metadata": {
  "@webio": {
   "lastCommId": null,
   "lastKernelId": null
  },
  "kernelspec": {
   "display_name": "Julia 1.3.0-rc5",
   "language": "julia",
   "name": "julia-1.3"
  },
  "language_info": {
   "file_extension": ".jl",
   "mimetype": "application/julia",
   "name": "julia",
   "version": "1.3.0"
  }
 },
 "nbformat": 4,
 "nbformat_minor": 2
}
