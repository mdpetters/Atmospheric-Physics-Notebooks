{
 "cells": [
  {
   "cell_type": "code",
   "execution_count": 160,
   "metadata": {},
   "outputs": [
    {
     "data": {
      "text/plain": [
       "0-element Array{Float64,1}"
      ]
     },
     "execution_count": 160,
     "metadata": {},
     "output_type": "execute_result"
    }
   ],
   "source": [
    "using Interact, Compose, GR\n",
    "\n",
    "run = Observable(true)\n",
    "\n",
    "function fps(f)\n",
    "    run[] = false\n",
    "    timer = Observable(0.0)\n",
    "    run[] = true\n",
    "\n",
    "    @async while run[]\n",
    "        sleep(1.0./f)\n",
    "        timer[] = timer[]+1.0/f\n",
    "    end\n",
    "    \n",
    "    timer\n",
    "end \n",
    "\n"
   ]
  },
  {
   "cell_type": "code",
   "execution_count": 183,
   "metadata": {},
   "outputs": [
    {
     "data": {
      "application/vnd.webio.node+json": {
       "children": [
        {
         "children": [],
         "instanceArgs": {
          "namespace": "html",
          "tag": "div"
         },
         "nodeType": "DOM",
         "props": {
          "className": "webio-observable",
          "setInnerHtml": ""
         },
         "type": "node"
        }
       ],
       "instanceArgs": {
        "handlers": {
         "obs-output": [
          "function (value, scope) {\n    scope.setInnerHTML(value);\n}\n"
         ]
        },
        "id": "16264586383751368212",
        "imports": {
         "data": [],
         "type": "async_block"
        },
        "mount_callbacks": [],
        "observables": {
         "obs-output": {
          "id": "ob_322",
          "sync": false,
          "value": ""
         }
        },
        "systemjs_options": null
       },
       "nodeType": "Scope",
       "props": {},
       "type": "node"
      },
      "text/html": [
       "<div\n",
       "    class=\"webio-mountpoint\"\n",
       "    data-webio-mountpoint=\"4757815149673252714\"\n",
       ">\n",
       "    <script>\n",
       "    if (window.require && require.defined && require.defined(\"nbextensions/webio-jupyter-notebook\")) {\n",
       "        console.log(\"Jupyter WebIO extension detected, not mounting.\");\n",
       "    } else if (window.WebIO) {\n",
       "        WebIO.mount(\n",
       "            document.querySelector('[data-webio-mountpoint=\"4757815149673252714\"]'),\n",
       "            {\"props\":{},\"nodeType\":\"Scope\",\"type\":\"node\",\"instanceArgs\":{\"imports\":{\"data\":[],\"type\":\"async_block\"},\"id\":\"5075756653994058579\",\"handlers\":{\"obs-output\":[\"function (value, scope) {\\n    scope.setInnerHTML(value);\\n}\\n\"]},\"systemjs_options\":null,\"mount_callbacks\":[],\"observables\":{\"obs-output\":{\"sync\":false,\"id\":\"ob_321\",\"value\":\"\"}}},\"children\":[{\"props\":{\"className\":\"webio-observable\",\"setInnerHtml\":\"\"},\"nodeType\":\"DOM\",\"type\":\"node\",\"instanceArgs\":{\"namespace\":\"html\",\"tag\":\"div\"},\"children\":[]}]},\n",
       "            window,\n",
       "        );\n",
       "    } else {\n",
       "        document\n",
       "            .querySelector('[data-webio-mountpoint=\"4757815149673252714\"]')\n",
       "            .innerHTML = (\n",
       "                '<strong>WebIO not detected. Please read ' +\n",
       "                '<a href=\"https://juliagizmos.github.io/WebIO.jl/latest/troubleshooting/not-detected/\">the troubleshooting guide</a> ' +\n",
       "                'for more information on how to resolve this issue.' +\n",
       "                '</strong>'\n",
       "            );\n",
       "    }\n",
       "    </script>\n",
       "</div>\n"
      ],
      "text/plain": [
       "Observable{Any} with 0 listeners. Value:\n",
       "nothing"
      ]
     },
     "execution_count": 183,
     "metadata": {
      "application/vnd.webio.node+json": {
       "kernelId": "8ab1fc86-fb11-485a-82ef-2bda55dfd268"
      }
     },
     "output_type": "execute_result"
    }
   ],
   "source": [
    "set_default_graphic_size(30Compose.cm, 5Compose.cm)\n",
    "v = Float64[]\n",
    "tx = Float64[]\n",
    "\n",
    "dt = Observable(0.0)\n",
    "run[] = false\n",
    "r = rand(50)\n",
    "r1 = rand(10)\n",
    "timer = fps(10.0)\n",
    "anim = map(timer) do t \n",
    "    y = 1-abs(sin(t[])) \n",
    "    push!(tx, t)\n",
    "    push!(v, sin(t))\n",
    "    dt[] = t;\n",
    "    nothing\n",
    "    \n",
    "    #d = map(i->compose(context(), circle(i, 0.1*i + y, 0.005)),r)\n",
    "    #composition = compose(context(), d...)\n",
    "end\n"
   ]
  },
  {
   "cell_type": "code",
   "execution_count": 1,
   "metadata": {},
   "outputs": [],
   "source": [
    "using Makie\n",
    "using Colors\n",
    "\n",
    "x₀ =-5.\n",
    "#gateState = false\n",
    "xRange =  10\n",
    "\n",
    "#  deflection\n",
    "p₀(x) = x/2\n",
    "\n",
    "# plot\n",
    "nPts = 100.\n",
    "x = (x₀ .+ collect((-nPts/2.):(nPts/2.))/nPts*xRange)\n",
    "scene = lines(x,  p₀(x),\n",
    "             linewidth =4,\n",
    "             color = :darkcyan,\n",
    "             leg = false\n",
    "        )\n",
    "axis = scene[Axis]\n",
    "axis[:names][:axisnames] =  ( \"x\",\"y\")\n",
    "\n",
    "D = Node(x₀)\n",
    "HC_handle = scatter!(lift(x->[x],  D), [2], marker=:circle,\n",
    "          markersize = 1., color = :red)[end]\n",
    "\n",
    "s1 = slider(LinRange(-10.0, 0.0, 101),\n",
    "      raw = true, camera = campixel!, start = -10.0)\n",
    "kx = s1[end][:value]\n",
    "\n",
    "scatter!(scene, lift(x->[x; x],kx), lift(x-> [0.5; p₀(x)], kx),\n",
    "    marker = :hexagon,  color = RGBA(.5,0.,.5,.5),\n",
    "    markersize = .35, strokewidth = 1, strokecolor = :black)\n",
    "\n",
    "S = hbox(scene, s1, parent = Scene(resolution = (800, 600)))\n",
    "display(S) \n",
    "\n",
    "@async while isopen(S)\n",
    "  p = p₀((10.0+kx[])/10.)\n",
    "  gateState = rand(1)[]<p\n",
    "  HC_handle[:color] = gateState ? :gold1 : :dodgerblue1\n",
    "  push!(D, -3. + rand(1)[]/5.)\n",
    "  yield()\n",
    "end\n",
    "\n",
    "RecordEvents(S, \"output\");"
   ]
  },
  {
   "cell_type": "code",
   "execution_count": 185,
   "metadata": {},
   "outputs": [
    {
     "data": {
      "text/plain": [
       "false"
      ]
     },
     "execution_count": 185,
     "metadata": {},
     "output_type": "execute_result"
    }
   ],
   "source": [
    "run[] = false"
   ]
  },
  {
   "cell_type": "code",
   "execution_count": 187,
   "metadata": {},
   "outputs": [],
   "source": [
    "using Pkg"
   ]
  },
  {
   "cell_type": "code",
   "execution_count": 146,
   "metadata": {},
   "outputs": [
    {
     "data": {
      "text/plain": [
       "println (generic function with 3 methods)"
      ]
     },
     "execution_count": 146,
     "metadata": {},
     "output_type": "execute_result"
    }
   ],
   "source": [
    "using Makie\n",
    "\n",
    " N = 10\n",
    " r = [(rand(7, 2) .- 0.5) .* 25 for i = 1:N]\n",
    " scene = scatter(r[1][:, 1], r[1][:, 2], markersize = 1, limits = FRect(-25/2, -25/2, 25, 25))\n",
    " s = scene[end] # last plot in scene\n",
    " record(scene, \"output.mp4\", r) do m\n",
    "     s[1] = m[:, 1]\n",
    "     s[2] = m[:, 2]\n",
    "end\n"
   ]
  },
  {
   "cell_type": "code",
   "execution_count": null,
   "metadata": {},
   "outputs": [],
   "source": [
    "import GR\n",
    "\n",
    "const theta = 70.0   # initial angle\n",
    "const gamma = 0.1    # damping coefficient\n",
    "const L = 0.2        # wire length\n",
    "\n",
    "w, h, ball = GR.readimage(\"ball.png\")\n",
    "\n",
    "function rk4(x, h, y, f)\n",
    "  k1 = h * f(x, y)\n",
    "  k2 = h * f(x + 0.5 * h, y + 0.5 * k1)\n",
    "  k3 = h * f(x + 0.5 * h, y + 0.5 * k2)\n",
    "  k4 = h * f(x + h, y + k3)\n",
    "  return x + h, y + (k1 + 2 * (k2 + k3) + k4) / 6.0\n",
    "end\n",
    "\n",
    "function deriv(t, state)\n",
    "  theta, omega = state\n",
    "  return [omega, -gamma * omega - 9.81 / L * sin(theta)]\n",
    "end\n",
    "\n",
    "function draw_cradle(theta)\n",
    "  GR.clearws()\n",
    "  GR.setviewport(0, 1, 0, 1)\n",
    "  GR.setcolorrep(1, 0.7, 0.7, 0.7)\n",
    "  # draw pivot point\n",
    "  GR.fillarea([0.3, 0.7, 0.7, 0.3], [0.79, 0.79, 0.81, 0.81])\n",
    "  # draw balls\n",
    "  for i = -2:2\n",
    "    x = [0.5, 0.5] .+ i * 0.06\n",
    "    y = [0.8, 0.4]\n",
    "    if (theta < 0 && i == -2) || (theta > 0 && i == 2)\n",
    "      x[2] += sin(theta) * 0.4\n",
    "      y[2] = 0.8 - cos(theta) * 0.4\n",
    "    end\n",
    "    GR.polyline(x, y)               # draw wire\n",
    "    GR.drawimage(x[2]-0.03, x[2]+0.03, y[2]-0.03, y[2]+0.03, 50, 50, ball)\n",
    "  end\n",
    "  GR.updatews()\n",
    "end\n",
    "\n",
    "function main()\n",
    "  t = 0.0\n",
    "  dt = 0.01\n",
    "  state = [theta * pi / 180, 0]\n",
    "\n",
    "  start = refresh = time_ns()\n",
    "\n",
    "  while t < 30\n",
    "    t, state = rk4(t, dt, state, deriv)\n",
    "    theta, omega = state\n",
    "\n",
    "    if time_ns() - refresh > 20 * 1000000   # 20ms\n",
    "      draw_cradle(theta)\n",
    "      refresh = time_ns()\n",
    "    end\n",
    "\n",
    "    now = (time_ns() - start) / 1000000000\n",
    "    if t > now\n",
    "        sleep(t - now)\n",
    "    end\n",
    "  end\n",
    "end\n",
    "\n",
    "main()\n"
   ]
  },
  {
   "cell_type": "code",
   "execution_count": null,
   "metadata": {},
   "outputs": [],
   "source": [
    "main()\n"
   ]
  }
 ],
 "metadata": {
  "@webio": {
   "lastCommId": "032ade4d36344e2f88e449e7d23ceda9",
   "lastKernelId": "744ead31-7fcc-4197-837c-55013c220f56"
  },
  "kernelspec": {
   "display_name": "Julia 1.0.5",
   "language": "julia",
   "name": "julia-1.0"
  },
  "language_info": {
   "file_extension": ".jl",
   "mimetype": "application/julia",
   "name": "julia",
   "version": "1.0.5"
  }
 },
 "nbformat": 4,
 "nbformat_minor": 2
}
