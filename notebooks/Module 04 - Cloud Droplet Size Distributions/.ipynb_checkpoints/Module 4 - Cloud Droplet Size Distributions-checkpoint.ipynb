{
 "cells": [
  {
   "cell_type": "markdown",
   "metadata": {},
   "source": [
    "# <center> Module 4: Cloud Droplet Size Distributions </center>\n",
    "\n",
    "## 1. Learning Objectives\n",
    "\n",
    "<div class=\"alert alert-success\">\n",
    "\n",
    "- Describe influence of the parameters of the gamma probability density function on the shape of the droplet size distribution\n",
    "- Read histograms of droplet number concentration drawn using raw concentration and concentration density\n",
    "- Compute cloud liquid water content from droplet size distributions\n",
    "- Apply web-app to find fitting parameters for the Gamma PDF for observed droplet size distributions \n",
    "- Analyze the observations of droplet size distributions. Characterize similarities and difference between continental and marine droplet size distributions.\n",
    "\n",
    "</div>"
   ]
  },
  {
   "cell_type": "markdown",
   "metadata": {},
   "source": [
    "\n",
    "## 2. Cloud Droplet Size Distribution\n",
    "\n",
    "<img src=\"figures/fog_image.png\" width=\"1200\">  \n",
    "\n",
    "<b> Figure 1. </b> Picture of a cloud engulfing a mountain village. The cloud is a dispersion of droplets in the ~3-30 μm (3×10<sup>-6</sup> - 3×10<sup>-5</sup> m) diameter size range. \n",
    "\n",
    "### 2a. Overview\n",
    "\n",
    "<div class=\"alert alert-warning\">\n",
    "\n",
    "Measurements show that cloud droplets come in a range of sizes. The size distribution is important for a number of cloud microphysical processes related to precipitation formation. Clouds with larger cloud droplets and broader size distributions form precipitation more efficiently. The mathematical representation of the size distribution is of critical importance in numerical weather and climate models.\n",
    "\n",
    "</div>\n",
    "\n",
    "### 2b. Mathematical Representation of the Droplet Size Distribution\n",
    "\n",
    "The cloud droplet size distribution is described in meteorological models using the  the gamma probability distribution function <br><br>\n",
    "\n",
    "<center> $ n(D) = \\frac{N_t}{D_n^v \\Gamma(v)} D^{v-1} e^{-D/D_n} $ </center> \n",
    "\n",
    "where $N_t$ is the total number concentration of the hydrometeor species, $D$ is the droplet diameter, $D_n$ is\n",
    "the characteristic diameter, $v$ is the shape parameter, and $\\Gamma(v)$ is the [gamma function](https://en.wikipedia.org/wiki/Gamma_function)."
   ]
  },
  {
   "cell_type": "code",
   "execution_count": null,
   "metadata": {},
   "outputs": [],
   "source": [
    "using WebIO; WebIO.setup(:ijulia);\n",
    "include(\"scripts/Droplet Size Distribution App 1.jl\" )"
   ]
  },
  {
   "cell_type": "markdown",
   "metadata": {},
   "source": [
    "### <font color='red'> A. Exercises </font>\n",
    "\n",
    "<div class=\"alert alert-info\">\n",
    "    \n",
    "1. What does the sum of the bin-heights represent? \n",
    "2. Use the widgets to determine the influence of Nt, v, and Dn on the distribution.\n",
    "   - What is the effect of changing Nt on the distribution?\n",
    "   - What is the effect of changing v on the distribution?\n",
    "   - What is the effect of changing Dn on the distribution?\n",
    "   \n",
    "</div>"
   ]
  },
  {
   "cell_type": "markdown",
   "metadata": {},
   "source": [
    "### 2c. Liquid water content from droplet size distribution\n",
    "\n",
    "The liquid water content (LWC) in [g water m<sup>-3</sup> air]  can be obtained from the distribution via <br> <br>\n",
    "\n",
    "<center> $ LWC = \\sum_{i=1}^{n} \\frac{\\pi}{6} D_i^3 \\rho_w N_i $ </center>\n",
    "\n",
    "where $i$ denotes the bin number and $\\rho_w$ is the density of water."
   ]
  },
  {
   "cell_type": "markdown",
   "metadata": {},
   "source": [
    "### 2d. Observations of Droplet Size Distributions\n",
    "\n",
    "Droplet size distributions are generally measured using forward-scattering spectrometer (FSSP) probes. Droplet that cross a laser beam scatter light. The scattered light intensity is recorded and converted to a droplet diameter via calibration. Concentration is obtained from the number of droplets crossing the laser beam per unit time, the flow velocity, and the field of view.  \n",
    "\n",
    "<img src=\"figures/fssp.png\" width=\"800\">  \n",
    "\n",
    "<b> Figure 2. </b> Picture of Storm Peak Laboratory probe stand with FSSP-100 in the foreground, Cloud Imaging Probe (CIP) in the background, and sonic anemometer on top (a); view facing west over the railing (b). <b> Image source:</b> Lowenthal et al. (2019), Creative Commons Attribution 4.0 License. "
   ]
  },
  {
   "cell_type": "code",
   "execution_count": null,
   "metadata": {},
   "outputs": [],
   "source": [
    "include(\"scripts/Droplet Size Distribution App 2.jl\" )"
   ]
  },
  {
   "cell_type": "markdown",
   "metadata": {},
   "source": [
    "<b> Figure 3. </b> Measured cloud droplet size distributions using the cloud droplet probes for three clouds obtained from recent aircraft campaigns. Data source: WMO Expert Committee on Weather Modification Research (2017). \n",
    "\n",
    "### <font color='red'> B. Exercises </font>\n",
    "\n",
    "<div class=\"alert alert-info\">\n",
    "    \n",
    "1. Use the a calculator to determine the mode diameter, number concentration, and liquid water content of the three distributions (read appropriate values from the graph).\n",
    "\n",
    "</div>\n",
    "\n",
    "<center>\n",
    "<table style=\"width:65%\">\n",
    "    <caption> <b> </b> Properties of observed size distributions. </caption>\n",
    "  <tr>\n",
    "    <th align=\"justify\">Environment</th>\n",
    "    <th align=\"justify\">Number concentration <br> (cm-3)</th> \n",
    "    <th align=\"justify\">Mode diameter <br> (μm) </th>\n",
    "    <th align=\"justify\">Liquid water content <br> (g m-3) </th>\n",
    "</tr>\n",
    "  <tr>\n",
    "    <td align=\"justify\">Biomass Smoke Cloud</td>\n",
    "    <td align=\"justify\"></td>\n",
    "    <td align=\"justify\"></td> \n",
    "    <td align=\"justify\"></td> \n",
    "</tr>\n",
    "  <tr>\n",
    "    <td align=\"justify\">Industrial Polluted Cloud</td> \n",
    "    <td align=\"justify\"></td>\n",
    "    <td align=\"justify\"></td> \n",
    "    <td align=\"justify\"></td> \n",
    "</tr>\n",
    "  <tr>\n",
    "    <td align=\"justify\">Indian Ocean Cloud</td>\n",
    "    <td align=\"justify\"></td>\n",
    "    <td align=\"justify\"></td> \n",
    "    <td align=\"justify\"></td> \n",
    "</tr>\n",
    "</table>\n",
    "</center>\n",
    "\n",
    "<div class=\"alert alert-info\">\n",
    "    \n",
    "2.Compare the droplet concentrations to C values for CCN spectra that you would expect in the three environments.\n",
    "\n",
    "</div>"
   ]
  },
  {
   "cell_type": "markdown",
   "metadata": {},
   "source": [
    "### 2e. Raw Concentration versus Density\n",
    "\n",
    "Concentration histograms are useful because the sum of the bins represents the total number concentration. However, the measured number concentration per bin depends on the bin width. For the data shown, the bin-width is actually not constant. The biomass smoke cloud bins are wider than the industrial polluted cloud.\n",
    "\n",
    "To compare data from different campaigns, and to fit the data to a model, the droplet density is computed. (This is what the Gamma PDF in Section 2b computes). The droplet density is the measured concentration that is normalized by bin-width\n",
    "\n",
    "$n(D) = \\frac{N}{D_{i+1} - D_{i}}$ \n",
    "\n",
    "where $D_{i+1}$ and $D_i$ are the upper and lower diameter of the histogram bin. The resulting unit depends on the unit of $D$ used to perform the normalization."
   ]
  },
  {
   "cell_type": "code",
   "execution_count": null,
   "metadata": {},
   "outputs": [],
   "source": [
    "include(\"scripts/Droplet Size Distribution App 3.jl\" )"
   ]
  },
  {
   "cell_type": "markdown",
   "metadata": {},
   "source": [
    "### <font color='red'> C. Exercises </font>\n",
    "\n",
    "<div class=\"alert alert-info\">\n",
    "    \n",
    "1. Explain the difference between the y-axis in this figure and the y-axis in Figure 3.\n",
    "2. Use the widgets to determine Nt, Dn, and v to fit a Gamma PDF to the biomass smoke, industrial polluted, and Indian Ocean clouds. \n",
    "\n",
    "</div>\n",
    "\n",
    "<center>\n",
    "<table style=\"width:45%\">\n",
    "    <caption> <b> </b> Properties of observed size distributions. </caption>\n",
    "  <tr>\n",
    "    <th align=\"justify\">Environment</th>\n",
    "    <th align=\"justify\">Nt (cm-3)</th> \n",
    "    <th align=\"justify\">Dn (μm) </th>\n",
    "    <th align=\"justify\">v (-) </th>\n",
    "</tr>\n",
    "  <tr>\n",
    "    <td align=\"justify\">Biomass Smoke</td>\n",
    "    <td align=\"justify\"></td>\n",
    "    <td align=\"justify\"></td> \n",
    "    <td align=\"justify\"></td> \n",
    "</tr>\n",
    "  <tr>\n",
    "    <td align=\"justify\">Industrial Polluted</td> \n",
    "    <td align=\"justify\"></td>\n",
    "    <td align=\"justify\"></td> \n",
    "    <td align=\"justify\"></td> \n",
    "</tr>\n",
    "  <tr>\n",
    "    <td align=\"justify\">Indian Ocean</td>\n",
    "    <td align=\"justify\"></td>\n",
    "    <td align=\"justify\"></td> \n",
    "    <td align=\"justify\"></td> \n",
    "</tr>\n",
    "</table>\n",
    "</center>\n",
    "\n",
    "<div class=\"alert alert-info\">\n",
    "\n",
    "3. Does the fitted Nt correspond to the valued derived in the B. Exercises?\n",
    "4. Does the model represent all distributions equally well? If not, why not?\n",
    "\n",
    "</div>"
   ]
  },
  {
   "cell_type": "markdown",
   "metadata": {},
   "source": [
    "## References Cited\n",
    "\n",
    "Lowenthal, D. H., Hallar, A. G., David, R. O., McCubbin, I. B., Borys, R. D., and Mace, G. G.: Mixed-phase orographic cloud microphysics during StormVEx and IFRACS, Atmos. Chem. Phys., 19, 5387–5401, https://doi.org/10.5194/acp-19-5387-2019, 2019.\n",
    "\n",
    "WMO Expert Committee on Weather Modification Research (2017). Report. https://www.wmo.int/pages/prog/arep/wwrp/new/documents/WMO_Expert_Committee_on_Weather_Modification_Research_2017.pdf"
   ]
  },
  {
   "cell_type": "markdown",
   "metadata": {},
   "source": [
    "# Licenses\n",
    "\n",
    "<div class=\"alert alert-success\">\n",
    "\n",
    "Author and Copyright: [Markus Petters](https://mdpetters.github.io/)\n",
    "\n",
    "The text of this notebook and images created by the author are licensed under the Creative Commons Attribution-NonCommercial-ShareAlike 4.0 International Public License [CC BY-NC-SA 4.0](https://creativecommons.org/licenses/by-nc-sa/4.0/). The scripts are licensed under the [GNU General Public License v3](https://www.gnu.org/licenses/gpl-3.0.en.html). \n",
    "\n",
    "Images and software from other sources are licensed as indicated.\n",
    "\n",
    "</div>"
   ]
  }
 ],
 "metadata": {
  "@webio": {
   "lastCommId": null,
   "lastKernelId": null
  },
  "kernelspec": {
   "display_name": "Julia 1.4.0",
   "language": "julia",
   "name": "julia-1.4"
  },
  "language_info": {
   "file_extension": ".jl",
   "mimetype": "application/julia",
   "name": "julia",
   "version": "1.4.0"
  }
 },
 "nbformat": 4,
 "nbformat_minor": 2
}
