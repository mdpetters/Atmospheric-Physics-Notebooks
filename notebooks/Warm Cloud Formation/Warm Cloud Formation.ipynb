{
 "cells": [
  {
   "cell_type": "markdown",
   "metadata": {},
   "source": [
    " # <center> Module: First Stage of Cloud Formation </center>\n",
    "\n",
    "## 1. Review and Objectives\n",
    "\n",
    "As parcels of air ascend adiabatically, both temperature and dew-point temperature decrease. As a result, relative humidity increases. When the relative humidity is 100%, the parcel has reached its <i> lifted condensation level </i> (LCL). Ascend beyond the LCL results in condensation and a cloud forms. The temperature profile above the LCL follows the <i> saturated adiabatic lapse rate </i> (SALR). The <i> adiabatic liquid water mixing ratio </i> is liquid water mixing ratio that condenses due to adiabatic lifting. The adiabatic liquid water mixing ratio is zero at cloud base and increases with height. \n",
    "    \n",
    "<img src=\"figures/cloud_formation.png\" width=\"400\"> \n",
    "\n",
    "<b> Figure 1.</b> Schematic diagram of the steps involved in cloud formation. </b> <br>\n",
    "\n",
    "- Adiabatic ascent leads to a decrease in temperature and dewpoint temperature and an increase in saturation ratio. \n",
    "\n",
    "- The LCL is the thermodynamic cloud base and corresponds to the atmospheric pressure level where the saturation ratio $S$=1. \n",
    "\n",
    "- The height of the LCL is proportional to the dewpoint depression. \n",
    "\n",
    "- The SALR is the change in temperature and dewpoint temperature with height for adiabatic expansion above the LCL. \n",
    "\n",
    "- Adiabatic cloud liquid water mixing ratio is zero at cloud base and increases with height above cloud base. \n",
    "\n",
    "- The cloud liquid water is dispersed among numerous cloud droplets."
   ]
  },
  {
   "cell_type": "code",
   "execution_count": null,
   "metadata": {},
   "outputs": [],
   "source": [
    "@time include(\"scripts/Cloud Formation App 1.jl\")"
   ]
  },
  {
   "cell_type": "markdown",
   "metadata": {},
   "source": [
    "### <font color='red'> A. Exercises (use the widget to explore) </font>\n",
    "1. How does the difference between the surface temperature and dew-point temperature (a.k.a dew-point depression) influence the height of the LCL?\n",
    "2. How does the surface dew-point depression relate to the relative humidity at the surface?\n",
    "3. Why is the temperature and dew-point temperature identical above the LCL?\n",
    "4. Why does relative humidity increase with height below the LCL?\n",
    "5. Why is the relative humidity constant above the LCL?\n",
    "6. Why is the liquid water mixing ratio zero below the LCL?\n",
    "7. Why does the liquid water mixing ratio increase with height above the LCL?\n",
    "8. List the factors that go into the calculation of the liquid water mixing ratio. Then rank them by importance. "
   ]
  },
  {
   "cell_type": "markdown",
   "metadata": {},
   "source": [
    "### Influence of Droplet Number and Size on Cloud Properties\n",
    "\n",
    "The number concentration and mean droplet size determines the albedo of the cloud, and how readily the cloud precipitates. The number concentration and droplet size depends on the concentration of cloud condensation nuclei (CCN) and updraft velocity (w). \n",
    "\n",
    " <img src=\"figures/cloud12.png\" width=\"800\">  \n",
    "\n",
    "<b> Figure 2.</b> <i> Left: </i> Cumulus with low droplet number concentration and large drop diameter; fuzzy and precipitating. <i> Right: </i> Continental cumulus with high droplet number concentration and small drop diameter; sharp edges/no rain. <b> Photo credits. </b> Left: Versageek/CC BY-SA 3.0 via Wikimedia Commons. Right: Ximonic, Simo Räsänen/GFDL, via Wikimedia Commons.</b> <br>\n",
    "\n",
    "- The smaller droplets in continental clouds results in the boundaries of these clouds being well-defined, because the droplets evaporate quickly in the non-saturated ambient air\n",
    "- The absence of droplets much beyond the main boundary of continental cumulus clouds gives them a harder appearance\n",
    "- The larger droplets in marine clouds lead to the release of precipitation in shallower clouds, and with smaller updrafts, than in continental clouds\n",
    "- The larger number of droplets makes continental clouds brighter than marine clouds, resulting in more reflection back to space. \n",
    "\n",
    "### Questions to be explored in this Module \n",
    "- What are cloud condensation nuclei (CCN)?\n",
    "- How are CCN measured?\n",
    "- How can CCN be parameterized for use in models?\n",
    "- How do CCN spectra relate to cloud droplet number concentration (CDNC)?\n",
    "- How does CDNC influence the mean droplet diameter?\n",
    "- How does the mean droplet diameter influence rain rates?\n",
    "\n",
    "### Learning Objectives\n",
    "- Describe the concepts of water supersaturation (s), generation of water supersaturation in static CCN chambers, the measurement of CCN, the parameterization of CCN in terms of C and k, the parameterization of CDNC in terms of C, k, and w, the influence of CCN on CDNC.\n",
    "- Predict how changes in CCN properties leads to change in the supersaturation in clouds\n",
    "- Predict how changes in CCN properties leads to changes in CDNC\n",
    "- Predict how changes in updraft velocity lead to changes in CDNC\n",
    "- Predict how changes in CCN and updraft velocity lead to changes in warm rain rate\n",
    "- Analyze data to evaluate which environments/cloud types are more suceptible to changes in CCN"
   ]
  },
  {
   "cell_type": "markdown",
   "metadata": {},
   "source": [
    "## 2. Cloud Condensation Nuclei (CCN)\n",
    "\n",
    "- Water condensation does not occur at 100% RH but at slightly larger values.\n",
    "- The water supersaturation in percent is defined as \n",
    "<center> $s = (\\frac{RH}{100\\%} - 1)\\times100\\%$ </center>\n",
    "\n",
    "- When the air becomes supersaturated water condenses on on small suspended particles in the air. Only some of the suspended particles serve as condensation nuclei. Particles that serve as condensation nuclei under atmospheric supersaturations are termed \"cloud condensation nuclei\". \n",
    "\n",
    "### 2a. Measurement of Cloud Condensation Nuclei\n",
    "- Cloud condensation nuclei are measured using a Cloud Condensation Nuclei counter \n",
    "\n",
    "<img src=\"figures/ccn_chamber.png\" width=\"500\"> \n",
    "<b> Figure 3.</b> Left: Vertical cross-section through a static CCN chamber. \n",
    "\n",
    "- Air is drawn into the chamber and the chamber is sealed. A temperature differential between the top and bottom plate is established. This results in a linear temperature and vapor pressure profile. A controlled supersaturation forms in the center of the chamber, with the maximum near the centerline. \n",
    "\n",
    "- The number of visible cloud droplets that form near the centerline is the CCN number concentration    "
   ]
  },
  {
   "cell_type": "code",
   "execution_count": null,
   "metadata": {},
   "outputs": [],
   "source": [
    "include(\"scripts/CCN Instrument.jl\")"
   ]
  },
  {
   "cell_type": "markdown",
   "metadata": {},
   "source": [
    "### <font color='red'> B. Exercises (use the slider to change the temperature gradient) </font>\n",
    "1. How does the instrument supersaturation depend on the temperature difference between top and bottom plate? What is the range of supersaturations that is achievable with the given temperature range?\n",
    "2. Explain why the temperature profile is linear between the top and bottom plate.\n",
    "3. Explain how to calculate the vapor pressure at the top and bottom of the chamber.\n",
    "4. Explain why the vapor pressure profile is linear throughout the chamber.\n",
    "5. Explain why a supersaturation forms near the center of the instrument.\n",
    "6. Explain why the instrument is configured such that the temperature increases with height."
   ]
  },
  {
   "cell_type": "markdown",
   "metadata": {},
   "source": [
    "### 2b. Cumulative CCN Number Concentration"
   ]
  },
  {
   "cell_type": "code",
   "execution_count": null,
   "metadata": {},
   "outputs": [],
   "source": [
    "include(\"scripts/CCN data.jl\")"
   ]
  },
  {
   "cell_type": "markdown",
   "metadata": {},
   "source": [
    "<b> Figure 4.</b> CCN instruments measure CCN concentration at 7 supersaturaturations (s = 0.1, 0.2, 0.4, 0.6, 0.8, 1.0, and 1.2%. The graphed shown above is the cumulative supersaturation spectrum, which is defined as the graph of the number of CCN active (or cloud drops formed in the chamber) versus the imposed supersaturation.\n",
    "\n",
    "The cumulative number concentration of cloud condensation nuclei (CCN) monotonically increases with the applied supersaturation. The relationship is often described via the equation\n",
    "\n",
    "<center> $N_{CCN} = Cs^k$ </center>\n",
    "\n",
    "where $s$ is the supersaturation in %, and $C$ and $k$ are fitted coefficients to match the data."
   ]
  },
  {
   "cell_type": "code",
   "execution_count": null,
   "metadata": {},
   "outputs": [],
   "source": [
    "@time include(\"scripts/CCN App.jl\")"
   ]
  },
  {
   "cell_type": "markdown",
   "metadata": {},
   "source": [
    "### <font color='red'> C. Exercises (use the toggle-buttons to explore) </font>\n",
    "1. What effect has the \"C\" parameter on the relationship between supersaturation and CCN number? How does \"C\" relate to the CCN number concentration at s=1%?\n",
    "2. What effect has the \"k\" parameter on the relationship between supersaturation and CCN number?\n",
    "3. Explain why the relationship between supersaturation and CCN number is has concave curvature when graphed in linear-linear space (left) and is linear when graphed in log-log space (right).\n",
    "\n",
    "### 2c. Example Measurements"
   ]
  },
  {
   "cell_type": "code",
   "execution_count": null,
   "metadata": {},
   "outputs": [],
   "source": [
    "@time include(\"scripts/CCN Marine v Continental.jl\")"
   ]
  },
  {
   "cell_type": "markdown",
   "metadata": {},
   "source": [
    "<b> Figure 5. </b> Example CCN measurements obtained around the world. Data are taken from Hudson and Yum (2001).\n"
   ]
  },
  {
   "cell_type": "markdown",
   "metadata": {},
   "source": [
    "### <font color='red'> D. Exercises</font>\n",
    "\n",
    "1. Use the slider to find the $C$ and $k$ values for the different environments shown in Figure 5.  \n",
    "\n",
    "<center>\n",
    "<table style=\"width:45%\">\n",
    "    <caption> <b> </b> CCN parameters in different environments. </caption>\n",
    "  <tr>\n",
    "    <th align=\"justify\">Region</th>\n",
    "    <th align=\"justify\">Airmass</th>\n",
    "    <th align=\"justify\">C (cm<sup>-3</sup>)</sup></th> \n",
    "    <th align=\"justify\">k (-) </th>\n",
    "\n",
    "</tr>\n",
    "  <tr>\n",
    "    <td align=\"justify\">Easter Pacific</td>\n",
    "    <td align=\"justify\">Marine         </td>\n",
    "    <td align=\"justify\"></td> \n",
    "    <td align=\"justify\"></td> \n",
    "\n",
    "</tr>\n",
    "  <tr>\n",
    "    <td align=\"justify\">Eastern Atlantic</td> \n",
    "    <td align=\"justify\">Marine                </td>\n",
    "    <td align=\"justify\"></td> \n",
    "    <td align=\"justify\"></td>\n",
    "</tr>\n",
    "  <tr>\n",
    "    <td align=\"justify\">Southern Ocean </td>\n",
    "    <td align=\"justify\">Marine</td>\n",
    "    <td align=\"justify\"></td> \n",
    "    <td align=\"justify\"></td>\n",
    "\n",
    "</tr>\n",
    "  <tr>\n",
    "    <td align=\"justify\">Florida</td>\n",
    "    <td align=\"justify\">Coastal</td>\n",
    "    <td align=\"justify\"></td> \n",
    "    <td align=\"justify\"></td>\n",
    "  </tr>\n",
    "  <tr>\n",
    "    <td align=\"justify\">Florida</td>\n",
    "    <td align=\"justify\">Continental</td>\n",
    "    <td align=\"justify\"></td> \n",
    "    <td align=\"justify\"></td>\n",
    "\n",
    "  </tr>\n",
    "  <tr>\n",
    "    <td align=\"justify\">Eastern Atlantic</td>\n",
    "    <td align=\"justify\">Continental</td>\n",
    "    <td align=\"justify\"></td> \n",
    "    <td align=\"justify\"></td>\n",
    "\n",
    "  </tr>\n",
    "</table>\n",
    "</center>\n",
    "\n",
    "2. Use the table to identify ranges for $C$ and $k$ values in marine, continental, and coastal airmasses.\n",
    "3. Which environment (marine or continental) has more CCN available?"
   ]
  },
  {
   "cell_type": "markdown",
   "metadata": {},
   "source": [
    "## 3. Relationship between CCN and Cloud Droplets\n",
    "\n",
    "### 3a. Parcel Theory\n",
    "\n",
    "<img src=\"figures/parcel_theory.png\" width=\"900\"> \n",
    "\n",
    "<b> Figure 6. </b> The figure shows the conceptual ingredients of the link between CCN and cloud droplets. A population of CCN is present below cloud base and is characterized using the fit parameters $C$ and $k$. The CCN  are transported upward within an updraft moving at constant velocity, $w$. As the air expands, both temperature and dew point temperature (vapor pressure) decrease, having the net effect of raising the relative humidity. Once lifted above the lifted condensation level (LCL), a supersaturation forms and some particles activate and form cloud droplets. These cloud droplets grow by vapor deposition which will deplete the supersaturation. This process is described by a general supersaturation balance equation that contains the thermodynamic forcing and kinetic depletion terms.<br>\n",
    "\n",
    "<center> $\\frac{ds}{dt} = \\alpha_1 w - \\alpha_2 \\frac{dw_l}{dt}$ </center>\n",
    "\n",
    "Here $s$ is the supersaturation, $t$ is time, $\\alpha_1 w$ is the supersaturation generation rate from the updraft and $\\alpha_2 \\frac{dw_l}{dt}$ is the supersaturation depletion rate due to condensation on growing cloud drops. \n",
    "\n",
    "The term $\\alpha_1$ is given by\n",
    "\n",
    "<center> $\\alpha_1 = \\frac{\\epsilon l_v g}{R_d T^2 c_p} - \\frac{g}{R_d T}$ </center>\n",
    "\n",
    "where, $g$ is the acceleration due to gravity, $\\epsilon = 0.622$, $l_v$ is the latent heat of vaporization, $T$ is temperature, $c_p$ is the heat capacity of air at constant pressure, and $R_d$ is the specific gas constant of dry air. The term has units of fractional supersaturation per meter, and denotes the supersaturation that is generated by the expansion with. For $T = 280K$, $\\alpha_1 = 0.048\\%\\; m^{-1}$\n",
    "\n",
    "The general supersaturation balance equation is an ordinary differential equation that can be solved numerically. Example results from such a model are presented below. The calculations are performed using the [pyrcel model](https://pyrcel.readthedocs.io/en/latest/index.html) (Rothenberg and Wang, 2016). \n",
    "\n",
    "In addition to the supersaturation profile, the model predicts <i> cloud droplet number concentration </i> CDNC that is present in the cloud."
   ]
  },
  {
   "cell_type": "code",
   "execution_count": null,
   "metadata": {},
   "outputs": [],
   "source": [
    "@time include(\"scripts/Cloud Formation App 2.jl\")"
   ]
  },
  {
   "cell_type": "markdown",
   "metadata": {},
   "source": [
    "### <font color='red'> E. Exercises</font>\n",
    "\n",
    "1. What does the line $S = \\alpha_1z$ represent?\n",
    "2. Describe why the curve $S(z)$ follows a $S = \\alpha_1z$ below cloud base and just after passing the LCL but then reaches a maximum and decreases again?\n",
    "3. Explain why CDNC increases above the LCL but then becomes constant.\n",
    "4. How does increasing vertical velocity influence (a) maximum supersaturation, (b) maximum CDNC, and (c) height of maximum supersaturation above the LCL?  \n",
    "5. What is the range of height above the LCL before CDNC becomes constant? How does this compare to the vertical extent of a stratus and a cumulus cloud? \n",
    "6. How does CCN number influence (a) maximum supersaturation, (b) maximum CDNC, and (c) height of maximum supersaturation above the LCL?\n",
    "7. What is the ratio of CDNC/CCN? (A ratio of 1 implies that all CCN became cloud droplets). Under what conditions do you exect most CCN to activate into cloud droplets?\n",
    "8. Explain your observations in 4. and 5. based on the supersaturation balance equation: \n",
    "<center> $\\frac{ds}{dt} = \\alpha_1 w - \\alpha_2 \\frac{dw_l}{dt}$ </center> \n",
    "9. Explain why increasing Nccn increases CDNC, despite decreasing the maximum supersaturation.\n",
    "\n",
    "### 3b. Twomey Equation\n",
    "\n",
    "The general supersaturation balance equation can be approximated analytically to find the CDNC and the maximum supersaturation in the updraft of velocity $w$ and the parmeters $C$ and $k$:\n",
    "\n",
    "<center> $CDNC \\approx  C^{2/(k+2)} \\left(\\frac{1.63 \\times 10^{-3} w^{3/2}}{kB(k/2,3/2)}\\right)^{k/(k+2)}$ </center>\n",
    "\n",
    "<br>\n",
    "\n",
    "<center> $s_{max} \\approx \\left (\\frac{1.63\\times 10^{-3} w^{3/2}}{CkB(k/2,3/2)} \\right)^{1/(k+2)}$ </center>\n",
    "\n",
    "where $C$ is in units of $cm^{-3}$, $w$ in units of $cm$ $s^{-1}$, and $B(x,y)$ is the [beta function](https://en.wikipedia.org/wiki/Beta_function). The parameterization for CDNC is given from Twomy (1959) and valid for cloud base of 800 mb and 10°C. The CDNC prediction $CDNC = f(C,k,w)$ given above is commonly referred to as the Towmey Parameterization or Twomey Equation."
   ]
  },
  {
   "cell_type": "code",
   "execution_count": null,
   "metadata": {},
   "outputs": [],
   "source": [
    "@time include(\"scripts/Cloud Formation App 3.jl\")"
   ]
  },
  {
   "cell_type": "markdown",
   "metadata": {},
   "source": [
    "### <font color='red'> F. Exercises</font>\n",
    "\n",
    "1. What is the range of cloud supersaturations for the parameter range given, i.e. what is the smallest and largest supersaturation that you can create?\n",
    "2. The relationship between updraft velocity and CDNC is linear on a log-log graph. What mathematical relationship is therefore implied, e.g. exponential, power law, logarithmic law, linear relationship?. Is this consistent with the Twomey equation?\n",
    "3. The response of CDNC to changes in $C$ have been compared to a buffered solution. (A buffered solution contains acid and base in equal amounts. Small additions to acid lead to minimal changes in solution pH, because the acid is neutralized). Explain why the aerosol/cloud system is similar to a buffered solution.  \n",
    "4. Predict CDNC for marine, coastal and continental airmasses using appropriate $C$ and $k$ values derived in the previous exercise. Assume $w = 0.3$ $m$ $s^{-1}$ for stratiform clouds and $5$ $m$ $s^{-1}$ for cumulus clouds.\n",
    "\n",
    "<center>\n",
    "<table style=\"width:45%\">\n",
    "    <caption> <b> </b> Relationship between CCN and CDNC for different airmasses. </caption>\n",
    "  <tr>\n",
    "    <th align=\"justify\">Environment</th>\n",
    "    <th align=\"justify\">Stratiform Cloud</th> \n",
    "    <th align=\"justify\">Cumulus Cloud</th>\n",
    "</tr>\n",
    "  <tr>\n",
    "    <td align=\"justify\">Marine</td>\n",
    "    <td align=\"justify\"></td>\n",
    "    <td align=\"justify\"></td> \n",
    "\n",
    "</tr>\n",
    "  <tr>\n",
    "    <td align=\"justify\">Coastal</td> \n",
    "    <td align=\"justify\"></td>\n",
    "    <td align=\"justify\"></td> \n",
    "</tr>\n",
    "  <tr>\n",
    "    <td align=\"justify\">Continental</td>\n",
    "    <td align=\"justify\"></td>\n",
    "    <td align=\"justify\"></td> \n",
    "\n",
    "</tr>\n",
    "</table>\n",
    "</center>\n",
    "\n",
    "5. The $C$ value is a measure of the CCN concentration that is active at 1% supersaturation. Use the slider to explore the change in droplet number concentration if you change $C$. You can read the CDNC value from the legend. Fill the  following table\n",
    "\n",
    "<center>\n",
    "<table style=\"width:45%\">\n",
    "    <caption> <b> </b> Relationship between CCN and CDNC for k = 0.5. </caption>\n",
    "  <tr>\n",
    "    <th align=\"justify\">w m s<sup>-1</sup></th>\n",
    "    <th align=\"justify\">CDNC @ C <br> 1000 cm<sup>-3</sup></th> \n",
    "    <th align=\"justify\">CDNC @ C <br> 2000 cm<sup>-3</sup></th>\n",
    "    <th align=\"justify\">CDNC <br> change</th>  \n",
    "</tr>\n",
    "  <tr>\n",
    "    <td align=\"justify\">0.1 m s<sup>-1</sup></td>\n",
    "    <td align=\"justify\"></td>\n",
    "    <td align=\"justify\"></td> \n",
    "    <td align=\"justify\"></td> \n",
    "\n",
    "</tr>\n",
    "  <tr>\n",
    "    <td align=\"justify\">1 m s<sup>-1</sup></td> \n",
    "    <td align=\"justify\"></td>\n",
    "    <td align=\"justify\"></td> \n",
    "    <td align=\"justify\"></td>\n",
    "</tr>\n",
    "  <tr>\n",
    "    <td align=\"justify\">2 m s<sup>-1</sup></td>\n",
    "    <td align=\"justify\"></td>\n",
    "    <td align=\"justify\"></td> \n",
    "    <td align=\"justify\"></td>\n",
    "\n",
    "</tr>\n",
    "  <tr>\n",
    "    <td align=\"justify\">5 m s<sup>-1</sup></td>\n",
    "    <td align=\"justify\"></td>\n",
    "    <td align=\"justify\"></td> \n",
    "    <td align=\"justify\"></td>\n",
    "  </tr>\n",
    "  <tr>\n",
    "    <td align=\"justify\">10 m s<sup>-1</sup></td>\n",
    "    <td align=\"justify\"></td>\n",
    "    <td align=\"justify\"></td> \n",
    "    <td align=\"justify\"></td>\n",
    "\n",
    "  </tr>\n",
    "</table>\n",
    "</center>\n",
    "\n",
    "6. From the values in the table, if you double CCN number concentration, do you double CDNC? If not, how would you characterize the effect? Does the ratio of change in CDNC/original CDNC depend on the updraft?\n",
    "7. Repeat the exercise to explore the sensitivity of CDNC to doubling of CCN for a different value of $k$. How does the changed $k$ on the change in CDNC/original CDNC?"
   ]
  },
  {
   "cell_type": "markdown",
   "metadata": {},
   "source": [
    "### 3c. Observational Constraints of the effect of CCN on CDNC\n",
    "\n",
    "The above theory implies that \n",
    "\n",
    "<center> $CDNC \\propto C^{\\beta}w^{\\gamma}$ </center>\n",
    "    \n",
    "where $\\beta$ is between 0.6 and 0.9 and $\\gamma$ is between 0.15 and 0.5. As a result the increase in CDNC due to the addition of CCN should follow a power law. This is confirmed by observations.\n",
    "\n",
    "<img src=\"figures/Ramanathan.png\" width=\"500\"> \n",
    "\n",
    "<b> Figure 7. </b> Relationship between aerosol concentration (CCN) and CDNC (Ramanathan et al., 2001). "
   ]
  },
  {
   "cell_type": "markdown",
   "metadata": {},
   "source": [
    "### <font color='red'> G. Discussion </font>\n",
    "\n",
    "1. Estimate the observed change in CDNC (y-axis) to change in CCN (x-axis) for the Arabian Sea points from 1000 cm<sup>-3</sup> to 2000 cm<sup>-3</sup>. Compare the answer with your results above.\n",
    "2. Which environments maritime or continentally influenced show a larger relative change in CDNC? Usnig the theory above, explain why this might be the case. "
   ]
  },
  {
   "cell_type": "code",
   "execution_count": null,
   "metadata": {},
   "outputs": [],
   "source": [
    "@time include(\"scripts/Cloud Formation App 4.jl\")"
   ]
  },
  {
   "cell_type": "markdown",
   "metadata": {},
   "source": [
    "### <font color='red'> H. Exercises (Use the slider)</font>\n",
    "1. Explain why the mean droplet radius increases with height.\n",
    "2. Explain what the autoconversion threshold means.\n",
    "3. Explain why the mean droplet radius depends on the CDNC\n",
    "4. The height (or the cloud thickness defined as height of warm rain onset - height of the LCL) required for warm rain onset depends on the thermodynamic state (Temperature,Dew-point), the updraft velocity (w) and the CCN spectrum (C,k). Use the widgets to determine the Δz required for rain onset. You can read the CDNC, LCL, and Δz onset height values from the legends. Fill the  following table\n",
    "\n",
    "<center>\n",
    "<table style=\"width:45%\">\n",
    "    <caption> <b> </b> Relationship between thermodynamic conditions, updraft, CCN and onset of warm rain formation. Use the sliders to generate a range of conditions. </caption>\n",
    "  <tr>\n",
    "    <th align=\"justify\">Case</sup></th>\n",
    "    <th align=\"justify\">wl</th> \n",
    "    <th align=\"justify\">CDNC</sup></th>\n",
    "    <th align=\"justify\">Δz</th>  \n",
    "</tr>\n",
    "  <tr>\n",
    "    <td align=\"justify\">Case 1</td>\n",
    "    <td align=\"justify\"></td>\n",
    "    <td align=\"justify\"></td> \n",
    "    <td align=\"justify\"></td>\n",
    "</tr>\n",
    "  <tr>\n",
    "    <td align=\"justify\">Case 2</td> \n",
    "    <td align=\"justify\"></td>\n",
    "    <td align=\"justify\"></td> \n",
    "    <td align=\"justify\"></td>\n",
    "</tr>\n",
    "  <tr>\n",
    "    <td align=\"justify\">Case 3</td>\n",
    "    <td align=\"justify\"></td>\n",
    "    <td align=\"justify\"></td> \n",
    "    <td align=\"justify\"></td>\n",
    "\n",
    "</tr>\n",
    "  <tr>\n",
    "    <td align=\"justify\">Case 4</sup></td>\n",
    "    <td align=\"justify\"></td>\n",
    "    <td align=\"justify\"></td> \n",
    "    <td align=\"justify\"></td>\n",
    "  </tr>\n",
    "  <tr>\n",
    "    <td align=\"justify\">Case 5</sup></td>\n",
    "    <td align=\"justify\"></td>\n",
    "    <td align=\"justify\"></td> \n",
    "    <td align=\"justify\"></td>\n",
    "\n",
    "  </tr>\n",
    "</table>\n",
    "</center>\n",
    "\n",
    "5. For your test-cases, complete the following sentence. Clouds with higher droplet number concentration require ____________________________________ to precipitate\n"
   ]
  },
  {
   "cell_type": "markdown",
   "metadata": {},
   "source": [
    "## Experimental observations\n",
    "\n",
    "Cloud observations have shown how CCN number concentration affect the droplet radius and warm rain initiation    \n",
    "\n",
    "<img src=\"figures/Andreae.png\" width=\"500\"> \n",
    "\n",
    "<b> Figure 8. </b> The dependence of drop diameter on the distance above cloud base (LCL) for four aerosl regimes. The vertical line denotes the onset of warm rain (Andreae et al., 2004). "
   ]
  },
  {
   "cell_type": "markdown",
   "metadata": {},
   "source": [
    "## <font color='red'> H. Discussion </font>\n",
    "1. The green and blue lines correspond to the green ocean (Amazon rainforest) and blue ocean (maritime environment). The black purple and red lines correspond continental conditions. \n",
    "(a) Which environment leads to more readily precipitating clouds?\n",
    "(b) Use the observations from Figure 5 and your findings from the model above to explain how differences in CCN number concentration explain the observed differences between maritime and continental cases.\n",
    "\n",
    "2. Observations in shallow stratus clouds have shown that the rain rate at cloud base is proportional to H^3/N, where H is the cloud thickness and N is the number of available CCN (see graph below). Use the theory above to explain that behavior.\n",
    "\n",
    "<img src=\"figures/OGeoffrey.png\" width=\"500\"> "
   ]
  },
  {
   "cell_type": "markdown",
   "metadata": {},
   "source": [
    "## <font color='red'> I. Reflection </font>\n",
    "\n",
    "Pollution from vehicles and industry stacks increase the number of available CCN over continental regions. Write a summary paragraph on the potential impacts of pollution on clouds and precipitation."
   ]
  },
  {
   "cell_type": "markdown",
   "metadata": {},
   "source": [
    "## References Cited\n",
    "\n",
    "Andreae, M. O., D. Rosenfeld, P. Artaxo, A. A. Costa, G. P. Frank, K. M. Longo, and M. A. F. Silvia-Dias (2004), Smoking rain clouds over the Amazon, Science, 303, 1337–1342, doi:10.1126/science.1092779\n",
    "\n",
    "Hudson, J. G., and S. S. Yum, Maritime/continental drizzle contrasts in small cumuli, Journal Atmospheric Sciences,58, 915–926, 2001.\n",
    "\n",
    "Ramanathan, V., P. J. Crutzen, J. T. Kiehl, and D. Rosenfeld (2001),Atmosphere–Aerosols, climate, and the hydrological cycle, Science,294, 2119–2124.\n",
    "\n",
    "Rothenberg, D. and Wang, C. (2016), Metamodeling of Droplet Activation for Global Climate Models. J. Atmos. Sci., 73, 1255–1272, doi: http://dx.doi.org/10.1175/JAS-D-15-0223.1.\n",
    "\n",
    "Twomey, S., 1959a: The nuclei of natural cloud formation part II: The supersaturation in natural clouds\n",
    "and the variation of cloud droplet concentration. Geofisica pura e applicata, 43, 243-249."
   ]
  },
  {
   "cell_type": "markdown",
   "metadata": {},
   "source": [
    "# Licenses\n",
    "\n",
    "Author and Copyright: [Markus Petters](https://mdpetters.github.io/)\n",
    "\n",
    "The text of this notebook and images created by the author are licensed under the Creative Commons Attribution-NonCommercial-ShareAlike 4.0 International Public License [CC BY-NC-SA 4.0](https://creativecommons.org/licenses/by-nc-sa/4.0/). The scripts are licensed under the [GNU General Public License v3](https://www.gnu.org/licenses/gpl-3.0.en.html). \n",
    "\n",
    "The [pyrcel model](https://pyrcel.readthedocs.io/en/latest/index.html) is written by Daniel Rothenberg and distributed under the [BSD 3-Clause license](https://github.com/darothen/pyrcel/blob/master/LICENSE.md). \n",
    "\n",
    "Images and software from other sources are licensed as indicated."
   ]
  },
  {
   "cell_type": "code",
   "execution_count": null,
   "metadata": {},
   "outputs": [],
   "source": []
  }
 ],
 "metadata": {
  "@webio": {
   "lastCommId": null,
   "lastKernelId": null
  },
  "kernelspec": {
   "display_name": "Julia 1.0.5",
   "language": "julia",
   "name": "julia-1.0"
  },
  "language_info": {
   "file_extension": ".jl",
   "mimetype": "application/julia",
   "name": "julia",
   "version": "1.0.5"
  }
 },
 "nbformat": 4,
 "nbformat_minor": 2
}
