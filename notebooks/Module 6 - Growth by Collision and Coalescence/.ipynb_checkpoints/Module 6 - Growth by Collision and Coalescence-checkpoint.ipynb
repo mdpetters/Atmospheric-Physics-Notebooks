{
 "cells": [
  {
   "cell_type": "markdown",
   "metadata": {},
   "source": [
    "# <center> Module 6: Growth by Collision and Coalescence </center>\n",
    " \n",
    "## 1. Learning Objectives\n",
    "<div class=\"alert alert-success\">\n",
    "    \n",
    "- Describe the processes that give rise to the terminal settling velocity\n",
    "\n",
    " </div>"
   ]
  },
  {
   "cell_type": "markdown",
   "metadata": {},
   "source": [
    "## 2. Warm Rain Process\n",
    "\n",
    "\n",
    "\n",
    "<img src=\"figures/cloud1.jpg\" width=\"300\">  \n",
    "\n",
    "<b> Figure 1.</b> Cumulus with likely warm rain falling from the center. Image Credit: Versageek/CC BY-SA 3.0 via Wikimedia Commons. \n",
    "\n",
    "Observations show that warm rain can form within 15-30 min following cloud formation. Growth by condensation is too slow to explain this observation. Instead, the process by which warm rain forms is through collision and colescence. \n",
    "\n",
    "<div class=\"alert alert-warning\">\n",
    "\n",
    "<b> Definition of Warm Rain (AMS Glossary): </b> The process producing precipitation through collision between liquid particles (cloud droplets, drizzle drops, and raindrops). The warm rain process includes growth by collision–coalescence and limitations to growth by drop breakup. Precipitation produced by the warm rain process occurs in clouds having sufficient liquid water, updraft, and lifetime to sustain collision–coalescence growth to drizzle drop or raindrop sizes. Since warm base (>10°C) convective clouds of about 2 km depth typically have these features, the warm rain process is found to be active in both shallow and deep convection in the Tropics and midlatitudes. The major role of the warm rain process in thunderstorms is to transfer condensed water, in the form of cloud droplets, to precipitable water, in the the form of drizzle droplets and raindrops, by the collision–coalescence process. \n",
    "\n",
    "</div>\n",
    "\n",
    " "
   ]
  },
  {
   "cell_type": "markdown",
   "metadata": {},
   "source": [
    "## 3. Terminal Velocity\n",
    "\n",
    "<div class=\"alert alert-warning\">\n",
    "\n",
    "<b> Definition of Terminal Velocity (AMS Glossary): </b> The particular falling speed, for any given object moving through a fluid medium of specified physical properties, at which the drag forces and buoyant forces exerted by the fluid on the object just equal the gravitational force acting on the object. It falls at constant speed, unless it moves into air layers of different physical properties. In the atmosphere, the latter effect is so gradual that objects such as raindrops, which attain terminal velocity at great heights above the surface, may be regarded as continuously adjusting their speeds to remain at all times essentially in the terminal fall condition. \n",
    "<div>"
   ]
  },
  {
   "cell_type": "code",
   "execution_count": null,
   "metadata": {},
   "outputs": [],
   "source": [
    "include(\"scripts/Collision App 1.jl\") "
   ]
  },
  {
   "cell_type": "markdown",
   "metadata": {},
   "source": [
    "<b> Figure 1. </b> A 0.8 mm droplet is at rest initially. The force of gravity ($F_g$) accelerates the drop down. As the velcocity $v$ increases, the drag force ($F_d$) opposes gravity and slows the acceleration until force balance is reached ($F_d = F_g$).\n",
    "\n",
    "At force balance the drop continues to fall at its terminal velocity. The velocity increase with time is\n",
    "\n",
    "$v(t) = v_{ts} \\left [1 - \\exp(-t/\\tau) \\right ]$\n",
    "\n",
    "where $v_{ts}$ is the terminal settling velocity, $t$ is time, and $\\tau$ is the relaxation time. At $t \\gtrapprox 5\\tau$, the particle has reached $v_{ts}$. The relaxation time strongly varies with particle size.\n",
    "\n",
    "Use the toggle to turn on the simulation to observe the acceleration of the drop until force balance is reached."
   ]
  },
  {
   "cell_type": "code",
   "execution_count": null,
   "metadata": {},
   "outputs": [],
   "source": [
    "include(\"scripts/Collision App 2.jl\")"
   ]
  },
  {
   "cell_type": "markdown",
   "metadata": {},
   "source": [
    "<b> Figure 2. </b> Increase in velocity with time of a droplet after release from rest. \n",
    "    \n",
    "    \n",
    "### <font color='red'> A. Exercises </font>\n",
    "<div class=\"alert alert-info\">\n",
    "\n",
    "1. Estimate the time it takes for a 10 micron cloud drop to reach terminal velocity.\n",
    "2. Compute the fraction of terminal velocity that the particle has reached at $t = \\tau$.\n",
    "3. The distance a drop falls before reaching 99% of its terminal velocity is $z_{99\\%} \\approx 10^7 D^2 v$, where $D$ is in [m] and $v$ in [m s-1]. What is said distance for a 100 nm aerosol particle, 10 μm cloud drop, a 100 μm drizzle drop, and a 1 mm rain drop? What is the ratio of said distance to the initial droplet radius?\n",
    "\n",
    "</div>"
   ]
  },
  {
   "cell_type": "markdown",
   "metadata": {},
   "source": [
    "The terminal velocity can be computed from the force balance equating drag force and gravity. \n",
    "\n",
    "$v_t = \\sqrt{\\frac{4\\rho_pC_c(D)}{3C_d \\rho_a Re }} $\n",
    "\n",
    "where $v_t$ is the terminal velocity, $\\rho_p$ is the particle density, $C_c$ is the Cunningham slip flow correction factor, $D$ is the particle diameter, $C_d$ is the drag coefficient, $\\rho_a$ is the air density, and $Re$ is the Reynolds number. \n",
    "\n",
    "The slip flow correction factor depends on the mean free path of the molecules comprising the air. The Reynolds number depends on the velocity, the density of the gas, and viscosity of the gas. The drag coefficient is approximately constant for large diameters and increases strongly with decreasing diameter. These dependencies are well understood and the terminal velocity can be computed a short script."
   ]
  },
  {
   "cell_type": "code",
   "execution_count": null,
   "metadata": {},
   "outputs": [],
   "source": [
    "include(\"scripts/Collision App 3.jl\")"
   ]
  },
  {
   "cell_type": "markdown",
   "metadata": {},
   "source": [
    "<b> Figure 3. </b> Dependence of terminal velocity on particle diameter. \n",
    "\n",
    "### <font color='red'> B. Exercises  </font>\n",
    "<div class=\"alert alert-info\">\n",
    "\n",
    "1. If cloud base is 1 km above an observer and precipitation falling from the cloud is to reach the observer, what is the minimum velocity/droplet size required?\n",
    "2. Explain why decreasing pressure increases the fall velocity.\n",
    "3. Explain why increasing particle density increases the fall velocity.\n",
    "\n",
    "</div>"
   ]
  },
  {
   "cell_type": "markdown",
   "metadata": {},
   "source": [
    "# Licenses\n",
    "\n",
    "<div class=\"alert alert-success\">\n",
    "    \n",
    "Author and Copyright: [Markus Petters](https://mdpetters.github.io/)\n",
    "\n",
    "The text of this notebook and images created by the author are licensed under the Creative Commons Attribution-NonCommercial-ShareAlike 4.0 International Public License [CC BY-NC-SA 4.0](https://creativecommons.org/licenses/by-nc-sa/4.0/). The scripts are licensed under the [GNU General Public License v3](https://www.gnu.org/licenses/gpl-3.0.en.html). \n",
    "\n",
    "Images and software from other sources are licensed as indicated.\n",
    "\n",
    "</div>"
   ]
  }
 ],
 "metadata": {
  "@webio": {
   "lastCommId": null,
   "lastKernelId": null
  },
  "kernelspec": {
   "display_name": "Julia 1.3.0",
   "language": "julia",
   "name": "julia-1.3"
  },
  "language_info": {
   "file_extension": ".jl",
   "mimetype": "application/julia",
   "name": "julia",
   "version": "1.3.0"
  }
 },
 "nbformat": 4,
 "nbformat_minor": 2
}
