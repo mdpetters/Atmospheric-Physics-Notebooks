{
 "cells": [
  {
   "cell_type": "markdown",
   "metadata": {},
   "source": [
    "# <center> Module 6: Growth by Collision and Coalescence </center>\n",
    " \n",
    "## 1. Learning Objectives\n",
    "<div class=\"alert alert-success\">\n",
    "    \n",
    "- Describe the processes that give rise to the terminal settling velocity\n",
    "- Express the drag force mathematically\n",
    "- Express the terminal velocity force mathematically\n",
    "- Relate relaxation time, particle acceleration, and distance fallen before reaching terminal velocity\n",
    "- Apply parameterizations of terminal velocity.\n",
    "- Know the proportionality of terminal velocity with particle diameter in different regimes. \n",
    "    \n",
    "    \n",
    " </div>"
   ]
  },
  {
   "cell_type": "markdown",
   "metadata": {},
   "source": [
    "## 2. Warm Rain Process\n",
    "\n",
    "\n",
    "\n",
    "<img src=\"figures/cloud1.jpg\" width=\"300\">  \n",
    "\n",
    "<b> Figure 1.</b> Cumulus with likely warm rain falling from the center. Image Credit: Versageek/CC BY-SA 3.0 via Wikimedia Commons. \n",
    "\n",
    "Observations show that warm rain can form within 15-30 min following cloud formation. Growth by condensation is too slow to explain this observation. Instead, the process by which warm rain forms is through collision and colescence. \n",
    "\n",
    "<div class=\"alert alert-warning\">\n",
    "\n",
    "<b> Definition of Warm Rain (AMS Glossary): </b> The process producing precipitation through collision between liquid particles (cloud droplets, drizzle drops, and raindrops). The warm rain process includes growth by collision–coalescence and limitations to growth by drop breakup. Precipitation produced by the warm rain process occurs in clouds having sufficient liquid water, updraft, and lifetime to sustain collision–coalescence growth to drizzle drop or raindrop sizes. Since warm base (>10°C) convective clouds of about 2 km depth typically have these features, the warm rain process is found to be active in both shallow and deep convection in the Tropics and midlatitudes. The major role of the warm rain process in thunderstorms is to transfer condensed water, in the form of cloud droplets, to precipitable water, in the the form of drizzle droplets and raindrops, by the collision–coalescence process. \n",
    "\n",
    "</div>\n",
    "\n",
    " "
   ]
  },
  {
   "cell_type": "markdown",
   "metadata": {},
   "source": [
    "## 3. Terminal Velocity\n",
    "\n",
    "<div class=\"alert alert-warning\">\n",
    "\n",
    "<b> Definition of Terminal Velocity (AMS Glossary): </b> The particular falling speed, for any given object moving through a fluid medium of specified physical properties, at which the drag forces and buoyant forces exerted by the fluid on the object just equal the gravitational force acting on the object. It falls at constant speed, unless it moves into air layers of different physical properties. In the atmosphere, the latter effect is so gradual that objects such as raindrops, which attain terminal velocity at great heights above the surface, may be regarded as continuously adjusting their speeds to remain at all times essentially in the terminal fall condition. \n",
    "</div>\n",
    "    \n",
    "### 3a. Relaxation Time\n",
    "\n",
    "At force balance the drop continues to fall at its terminal velocity. After release, the velocity increase with time is\n",
    "\n",
    "$v(t) = v_{ts} \\left [1 - \\exp \\left(-\\frac{t}{\\tau} \\right) \\right ]$\n",
    "\n",
    "where $v_{ts}$ is the terminal settling velocity, $t$ is time, and $\\tau$ is the relaxation time. At $t \\gtrapprox 5\\tau$, the particle has reached $v_{ts}$. The relaxation time strongly varies with particle size and is controlled by the ratio of intertial and viscous forces acting on the particle.\n",
    "\n",
    "Use the toggle to turn on the simulation to observe the acceleration of the drop until force balance is reached."
   ]
  },
  {
   "cell_type": "code",
   "execution_count": null,
   "metadata": {},
   "outputs": [],
   "source": [
    "include(\"scripts/Collision App 1.jl\") "
   ]
  },
  {
   "cell_type": "markdown",
   "metadata": {},
   "source": [
    "<b> Figure 1. </b> A 0.8 mm droplet is at rest initially. The force of gravity ($F_g$) accelerates the drop down. As the velcocity $v$ increases, the drag force ($F_{drag}$) opposes gravity and slows the acceleration until force balance is reached ($F_{drag} = F_g$)."
   ]
  },
  {
   "cell_type": "code",
   "execution_count": null,
   "metadata": {},
   "outputs": [],
   "source": [
    "include(\"scripts/Collision App 2.jl\")"
   ]
  },
  {
   "cell_type": "markdown",
   "metadata": {},
   "source": [
    "<b> Figure 2. </b> Increase in velocity with time of a droplet after release from rest. \n",
    "    \n",
    "    \n",
    "### <font color='red'> A. Exercises </font>\n",
    "<div class=\"alert alert-info\">\n",
    "\n",
    "1. Estimate the time it takes for a 10 micron cloud drop to reach terminal velocity.\n",
    "2. Compute the fraction of terminal velocity that the particle has reached at $t = \\tau$.\n",
    "3. The distance a drop falls before reaching 99% of its terminal velocity is $z_{99\\%} \\approx 10^7 D^2 v$, where $D$ is in [m] and $v$ in [m s-1]. What is said distance for a 100 nm aerosol particle, 10 μm cloud drop, a 100 μm drizzle drop, and a 1 mm rain drop? What is the ratio of said distance to the initial droplet radius?\n",
    "\n",
    "</div>"
   ]
  },
  {
   "cell_type": "markdown",
   "metadata": {},
   "source": [
    "### 3b. Terminal Velocity\n",
    "\n",
    "The terminal velocity can be computed from the force balance equating drag force and gravity. \n",
    "\n",
    "$v_t = \\sqrt{\\frac{4\\rho_pC_c(D) D}{3C_d(Re(D,v))  \\rho_a  }} $\n",
    "\n",
    "where $v_t$ is the terminal velocity, $\\rho_p$ is the particle density, $C_c$ is the Cunningham slip flow correction factor, $D$ is the particle diameter, $C_d$ is the drag coefficient, $\\rho_a$ is the air density, and $Re$ is the Reynolds number. \n",
    "\n",
    "The slip flow correction factor depends on the mean free path of the molecules comprising the air. The Reynolds number depends on the velocity, the density of the gas, and viscosity of the gas. The drag coefficient is approximately constant for large diameters and increases strongly with decreasing diameter. These dependencies are well understood. However, solving the equation requires a numerical solution since $Re$ depends on velocity. For large spheres, $C_c(D) = 1$, $C_d \\approx 0.44$ and $v_t \\propto \\sqrt{D}$."
   ]
  },
  {
   "cell_type": "code",
   "execution_count": null,
   "metadata": {},
   "outputs": [],
   "source": [
    "include(\"scripts/Collision App 3.jl\")"
   ]
  },
  {
   "cell_type": "markdown",
   "metadata": {},
   "source": [
    "<b> Figure 3. </b> Dependence of terminal velocity on particle diameter. \n",
    "\n",
    "### <font color='red'> B. Exercises  </font>\n",
    "<div class=\"alert alert-info\">\n",
    "\n",
    "1. If cloud base is 1 km above an observer and precipitation falling from the cloud is to reach the observer, what is the minimum velocity/droplet size required to fall through the layer in a reasonable amount of time?\n",
    "2. Hypothesize why decreasing pressure increases the fall velocity.\n",
    "3. Hypothesize why increasing particle density increases the fall velocity.\n",
    "\n",
    "</div>"
   ]
  },
  {
   "cell_type": "markdown",
   "metadata": {},
   "source": [
    "### 3c. Parameterizations of Terminal Velocity\n",
    "\n",
    "Finding the relationship between particle diameter and settling velocity requires a numerical solution. Closed form parameterizations can be used for different size ranges\n",
    "\n",
    "$v_t = k_1 D^2\\;\\;\\;\\;\\;\\;\\;\\;\\;\\;\\;\\;\\;\\;\\;\\;\\;\\;\\;\\;\\;\\;\\;\\;\\;\\;\\;\\;\\;\\;\\;\\;\\;\\;\\;\\;\\;\\;\\;    1\\; \\mu m < D < 0.1\\; m m$\n",
    "\n",
    "$v_t = k_2 D^1\\;\\;\\;\\;\\;\\;\\;\\;\\;\\;\\;\\;\\;\\;\\;\\;\\;\\;\\;\\;\\;\\;\\;\\;\\;\\;\\;\\;\\;\\;\\;\\;\\;\\;\\;\\;  0.1\\;mm < D < 1\\; mm$\n",
    "\n",
    "$v_t = 9.65 - 10.3 \\exp(-600D)\\;\\;\\;\\;\\;\\;\\;\\;\\;\\;\\;\\;\\;  1\\;mm < D < 10\\; mm$\n",
    "\n",
    "where $k_1 = \\frac{1}{18}\\frac{\\rho_p g}{\\eta} = 3.7\\times10^7\\; m^{-1} s^{-1}$ (assuming water) and $k_2 = 4\\times10^{-3}\\; s^{-1}$\n",
    "\n",
    "<div class=\"alert alert-warning\">\n",
    "Note that the proprtionality on diameter switches from \n",
    "    \n",
    "- $v_t \\propto D^2$ for $D < 100\\mu m$\n",
    "- $v_t \\propto D$ for $0.1 mm < D < 1 mm$\n",
    "- $v_t \\propto \\sqrt{D}$ for $1 mm < D < 5 mm$\n",
    "- $v_t = const$ for $ D > 5 mm$\n",
    "</div>\n"
   ]
  },
  {
   "cell_type": "code",
   "execution_count": null,
   "metadata": {},
   "outputs": [],
   "source": [
    "include(\"scripts/Collision App 4.jl\")"
   ]
  },
  {
   "cell_type": "markdown",
   "metadata": {},
   "source": [
    "<b> Figure 4. </b> Parameterizations of settling velocity compared to the numerical solution at standard pressure and temperature for water droplets. The implemented numerical solution does not account for droplet deformation and is only valid to ~2 mm in diameter.    \n",
    "\n",
    "\n",
    "### <font color='red'> C. Exercises  </font>\n",
    "<div class=\"alert alert-info\">\n",
    "\n",
    "1. List at least two advantages and two disadvantages of using these parameterizations for modeling terminal velocity.\n",
    "2. For large hard spheres, $C_d \\approx 0.44$ and Newtons' theory predicts that $v_t \\propto \\sqrt{D}$. Propose an explanation why terminal velocity approaches a constant for drops with $D >> 5 mm$\n",
    "\n",
    "</div>"
   ]
  },
  {
   "cell_type": "markdown",
   "metadata": {},
   "source": [
    "### 3d. Raindrop Shape\n",
    "\n",
    "Drops with $D > 2\\; mm$ become aspherical. The asphericity $\\alpha$ is defined by the ratio of the length of the maximum vertical and length of maximum horizontal axis, $\\alpha = l_2/l_1$. For larger drops the shape  often oscillates ([link to video](https://www.youtube.com/watch?v=DK30Z7rDiUw)). Oscillations eventually lead to drop breakup ([link to video](https://www.youtube.com/watch?v=AYg4Y3mZ8cg)). Drop breakup limits the size of raindrops to $D < 8\\; mm$."
   ]
  },
  {
   "cell_type": "code",
   "execution_count": null,
   "metadata": {},
   "outputs": [],
   "source": [
    "include(\"scripts/Collision App 5.jl\")"
   ]
  },
  {
   "cell_type": "markdown",
   "metadata": {},
   "source": [
    "<b> Figure 5. </b> Measured raindrop shapes from a 2-D video disdrometer. Data digitized from Figure 21 in Beard et al. (2010).\n",
    "\n",
    "### <font color='red'> D. Exercises  </font>\n",
    "<div class=\"alert alert-info\">\n",
    "\n",
    "1. Hypothesize why drops become more aspherical with larger size. (And why small drops stay perfectly spherical). Start by considering the principle forces that act on the drop. \n",
    "2. Explain why Newton's drag force will increase for aspherical drops. \n",
    "3. The equilibrium drop aspherity can be paramaterized as $\\alpha = 1.030-0.062 D$, where $D$ is in $[mm]$. Fill out the table to compare predicted to observed $\\alpha$ based on the data.\n",
    "</div>\n",
    "\n",
    "<center>\n",
    "<table style=\"width:35%\">\n",
    "    <caption> <b> </b> Predicted versus observed asphericity. </caption>\n",
    "  <tr>\n",
    "    <th align=\"justify\">Drop size</th>\n",
    "    <th align=\"justify\">$\\alpha$ predicted</th>\n",
    "    <th align=\"justify\">$\\alpha$ measured</th> \n",
    "\n",
    "</tr>\n",
    "  <tr>\n",
    "    <td align=\"justify\">3 mm</td>\n",
    "    <td align=\"justify\"></td>\n",
    "    <td align=\"justify\"></td> \n",
    "\n",
    "</tr>\n",
    "  <tr>\n",
    "    <td align=\"justify\">4 mm</td> \n",
    "    <td align=\"justify\"></td> \n",
    "    <td align=\"justify\"></td>\n",
    "</tr>\n",
    "  <tr>\n",
    "    <td align=\"justify\">5 mm</td>\n",
    "    <td align=\"justify\"></td> \n",
    "    <td align=\"justify\"></td>\n",
    "\n",
    "</tr>\n",
    "  <tr>\n",
    "    <td align=\"justify\">6 mm</td>\n",
    "    <td align=\"justify\"></td> \n",
    "    <td align=\"justify\"></td>\n",
    "  </tr>\n",
    "</table>\n",
    "</center>\n",
    "\n"
   ]
  },
  {
   "cell_type": "markdown",
   "metadata": {},
   "source": [
    "## 4. Gravitational Collection\n",
    "\n",
    "A collector drop with radius $R$ grazes on collected drops with radius $r$. With each collision the mass of the collector drop increases, thus converting cloud water to rain water."
   ]
  },
  {
   "cell_type": "code",
   "execution_count": null,
   "metadata": {},
   "outputs": [],
   "source": [
    "include(\"scripts/Collision App 6.jl\")"
   ]
  },
  {
   "cell_type": "markdown",
   "metadata": {},
   "source": [
    "$\\frac{dM}{dt} = N_r \\pi (R+r)^2 (v_R-v_r) \\frac{4}{3} \\pi r^3  \\rho_l E_c$\n",
    "\n",
    "where $N_r$ is the cloud droplet number concentration $[\\# \\; m^{-3}]$, and $E_c$ is the collection efficiency"
   ]
  },
  {
   "cell_type": "code",
   "execution_count": null,
   "metadata": {},
   "outputs": [],
   "source": []
  },
  {
   "cell_type": "markdown",
   "metadata": {},
   "source": [
    "## References Cited\n",
    "\n",
    "Beard, K.V., V.N. Bringi, M. Thurai, A new understanding of raindrop shape, Atmospheric Research,\n",
    "97(4), 2010, 396-415, https://doi.org/10.1016/j.atmosres.2010.02.001."
   ]
  },
  {
   "cell_type": "markdown",
   "metadata": {},
   "source": [
    "# Licenses\n",
    "\n",
    "<div class=\"alert alert-success\">\n",
    "    \n",
    "Author and Copyright: [Markus Petters](https://mdpetters.github.io/)\n",
    "\n",
    "The text of this notebook and images created by the author are licensed under the Creative Commons Attribution-NonCommercial-ShareAlike 4.0 International Public License [CC BY-NC-SA 4.0](https://creativecommons.org/licenses/by-nc-sa/4.0/). The scripts are licensed under the [GNU General Public License v3](https://www.gnu.org/licenses/gpl-3.0.en.html). \n",
    "\n",
    "Images and software from other sources are licensed as indicated.\n",
    "\n",
    "</div>"
   ]
  }
 ],
 "metadata": {
  "@webio": {
   "lastCommId": null,
   "lastKernelId": null
  },
  "kernelspec": {
   "display_name": "Julia 1.3.0",
   "language": "julia",
   "name": "julia-1.3"
  },
  "language_info": {
   "file_extension": ".jl",
   "mimetype": "application/julia",
   "name": "julia",
   "version": "1.3.0"
  }
 },
 "nbformat": 4,
 "nbformat_minor": 2
}
