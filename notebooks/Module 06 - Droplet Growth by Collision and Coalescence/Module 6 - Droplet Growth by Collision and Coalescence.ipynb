{
 "cells": [
  {
   "cell_type": "markdown",
   "metadata": {},
   "source": [
    "# <center> Module 6: Growth by Collision and Coalescence </center>\n",
    " \n",
    "## 1. Learning Objectives\n",
    "<div class=\"alert alert-success\">\n",
    "    \n",
    "- Describe the processes that give rise to the terminal settling velocity\n",
    "- Express the drag force mathematically\n",
    "- Express the terminal velocity force mathematically\n",
    "- Relate relaxation time, particle acceleration, and distance fallen before reaching terminal velocity\n",
    "- Apply parameterizations of terminal velocity.\n",
    "- Know the proportionality of terminal velocity with particle diameter in different regimes. \n",
    "- Explain the deformation of raindrop settling at terminal velocity\n",
    "- Express droplet shape in terms of the asphericity parameter\n",
    "- Derive mathematical expression for the gravitational collection kernel\n",
    "- Explain the physical origin of the collision efficiency\n",
    "- Sketch the relationship between droplet size and collection efficiency\n",
    "- Quantitatively contrast growth rates by condensation and growth rates by collection\n",
    "- Create hypotheses about the relationship between convective activity and rain rate\n",
    "- Apply the model of rain formation by gravitational collection to explain the dependence of rain rate on cloud droplet diameter, liquid water content, and updraft velocity\n",
    " </div>"
   ]
  },
  {
   "cell_type": "markdown",
   "metadata": {},
   "source": [
    "## 2. Warm Rain Process\n",
    "\n",
    "\n",
    "\n",
    "<img src=\"figures/cloud1.jpg\" width=\"300\">  \n",
    "\n",
    "<b> Figure 1.</b> Cumulus with likely warm rain falling from the center. Image Credit: Versageek/CC BY-SA 3.0 via Wikimedia Commons. \n",
    "\n",
    "Observations show that warm rain can form within 15-30 min following cloud formation. Growth by condensation is too slow to explain this observation. Instead, the process by which warm rain forms is through collision and colescence. \n",
    "\n",
    "<div class=\"alert alert-warning\">\n",
    "\n",
    "<b> Definition of Warm Rain (AMS Glossary): </b> The process producing precipitation through collision between liquid particles (cloud droplets, drizzle drops, and raindrops). The warm rain process includes growth by collision–coalescence and limitations to growth by drop breakup. Precipitation produced by the warm rain process occurs in clouds having sufficient liquid water, updraft, and lifetime to sustain collision–coalescence growth to drizzle drop or raindrop sizes. Since warm base (>10°C) convective clouds of about 2 km depth typically have these features, the warm rain process is found to be active in both shallow and deep convection in the Tropics and midlatitudes. The major role of the warm rain process in thunderstorms is to transfer condensed water, in the form of cloud droplets, to precipitable water, in the form of drizzle droplets and raindrops, by the collision–coalescence process. \n",
    "\n",
    "</div>\n",
    "\n",
    " "
   ]
  },
  {
   "cell_type": "markdown",
   "metadata": {},
   "source": [
    "## 3. Terminal Velocity\n",
    "\n",
    "<div class=\"alert alert-warning\">\n",
    "\n",
    "<b> Definition of Terminal Velocity (AMS Glossary): </b> The particular falling speed, for any given object moving through a fluid medium of specified physical properties, at which the drag forces and buoyant forces exerted by the fluid on the object just equal the gravitational force acting on the object. It falls at constant speed, unless it moves into air layers of different physical properties. In the atmosphere, the latter effect is so gradual that objects such as raindrops, which attain terminal velocity at great heights above the surface, may be regarded as continuously adjusting their speeds to remain at all times essentially in the terminal fall condition. \n",
    "</div>\n",
    "    \n",
    "### 3a. Relaxation Time\n",
    "\n",
    "At force balance the drop continues to fall at its terminal velocity. After release, the velocity increase with time is\n",
    "\n",
    "$v(t) = v_{ts} \\left [1 - \\exp \\left(-\\frac{t}{\\tau} \\right) \\right ]$\n",
    "\n",
    "where $v_{ts}$ is the terminal settling velocity, $t$ is time, and $\\tau$ is the relaxation time. At $t \\gtrapprox 5\\tau$, the particle has reached $v_{ts}$. The relaxation time strongly varies with particle size and is controlled by the ratio of intertial and viscous forces acting on the particle.\n",
    "\n",
    "Use the toggle to turn on the simulation to observe the acceleration of the drop until force balance is reached."
   ]
  },
  {
   "cell_type": "code",
   "execution_count": null,
   "metadata": {},
   "outputs": [],
   "source": [
    "using WebIO; WebIO.setup(:ijulia);\n",
    "include(\"scripts/Collision App 1.jl\") "
   ]
  },
  {
   "cell_type": "markdown",
   "metadata": {},
   "source": [
    "<b> Figure 1. </b> A 0.8 mm droplet is at rest initially. The force of gravity ($F_g$) accelerates the drop down. As the velcocity $v$ increases, the drag force ($F_{drag}$) opposes gravity and slows the acceleration until force balance is reached ($F_{drag} = F_g$)."
   ]
  },
  {
   "cell_type": "code",
   "execution_count": null,
   "metadata": {},
   "outputs": [],
   "source": [
    "include(\"scripts/Collision App 2.jl\")"
   ]
  },
  {
   "cell_type": "markdown",
   "metadata": {},
   "source": [
    "<b> Figure 2. </b> Increase in velocity with time of a droplet after release from rest. \n",
    "    \n",
    "    \n",
    "### <font color='red'> A. Exercises </font>\n",
    "<div class=\"alert alert-info\">\n",
    "\n",
    "1. Estimate the time it takes for a 10 micron cloud drop to reach terminal velocity.\n",
    "2. Compute the fraction of terminal velocity that the particle has reached at $t = \\tau$.\n",
    "3. The distance a drop falls before reaching 99% of its terminal velocity is $z_{99\\%} = c D^2 v$, where $c \\approx 10^7$ [s m<sup>-2</sup>], $D$ is in [m] and $v$ in [m s<sup>-1</sup>]. What is said distance for a 100 nm aerosol particle, 10 μm cloud drop, a 100 μm drizzle drop, and a 1 mm rain drop? What is the ratio of said distance to the initial droplet radius?\n",
    "\n",
    "</div>\n",
    "\n",
    "<div class=\"alert alert-danger\">\n",
    "Note that $z_{99\\%} = c D^2 v$ is only strictly valid for $D < 80 \\mu m$ and will overestimate $z_{99\\%}$ for rain drops.\n",
    "</div>"
   ]
  },
  {
   "cell_type": "markdown",
   "metadata": {},
   "source": [
    "### 3b. Terminal Velocity\n",
    "\n",
    "The terminal velocity can be computed from the force balance equating drag force and gravity. \n",
    "\n",
    "$v_t = \\sqrt{\\frac{4\\rho_p g C_c(D) D }{3C_d(Re(D,v))  \\rho_a  }} $\n",
    "\n",
    "where $v_t$ is the terminal velocity, $\\rho_p$ is the particle density, $C_c$ is the Cunningham slip flow correction factor, $g$ is the acceleration due to gravity, $D$ is the particle diameter, $C_d$ is the drag coefficient, $\\rho_a$ is the air density, and $Re$ is the Reynolds number. \n",
    "\n",
    "The slip flow correction factor depends on the mean free path of the molecules comprising the air. The Reynolds number depends on the velocity, the density of the gas, and viscosity of the gas. The drag coefficient is approximately constant for large diameters and increases strongly with decreasing diameter. These dependencies are well understood. However, solving the equation requires a numerical solution since $Re$ depends on velocity. For large spheres, $C_c(D) = 1$, $C_d \\approx 0.44$ and $v_t \\propto \\sqrt{D}$."
   ]
  },
  {
   "cell_type": "code",
   "execution_count": null,
   "metadata": {},
   "outputs": [],
   "source": [
    "include(\"scripts/Collision App 3.jl\") "
   ]
  },
  {
   "cell_type": "markdown",
   "metadata": {},
   "source": [
    "<b> Figure 3. </b> Dependence of terminal velocity on particle diameter. \n",
    "\n",
    "### <font color='red'> B. Exercises  </font>\n",
    "<div class=\"alert alert-info\">\n",
    "\n",
    "1. If cloud base is 1 km above an observer and precipitation falling from the cloud is to reach the observer, what is the minimum velocity/droplet size required to fall through the layer in a reasonable amount of time?\n",
    "2. Hypothesize why decreasing pressure increases the fall velocity.\n",
    "3. Hypothesize why increasing particle density increases the fall velocity.\n",
    "\n",
    "</div>"
   ]
  },
  {
   "cell_type": "markdown",
   "metadata": {},
   "source": [
    "### 3c. Parameterizations of Terminal Velocity\n",
    "\n",
    "Finding the relationship between particle diameter and settling velocity requires a numerical solution. Closed form parameterizations can be used for different size ranges\n",
    "\n",
    "$v_t = k_1 D^2\\;\\;\\;\\;\\;\\;\\;\\;\\;\\;\\;\\;\\;\\;\\;\\;\\;\\;\\;\\;\\;\\;\\;\\;\\;\\;\\;\\;\\;\\;\\;\\;\\;\\;\\;\\;\\;\\;\\;    1\\; \\mu m < D < 0.1\\; m m$\n",
    "\n",
    "$v_t = k_2 D^1\\;\\;\\;\\;\\;\\;\\;\\;\\;\\;\\;\\;\\;\\;\\;\\;\\;\\;\\;\\;\\;\\;\\;\\;\\;\\;\\;\\;\\;\\;\\;\\;\\;\\;\\;\\;  0.1\\;mm < D < 1\\; mm$\n",
    "\n",
    "$v_t = 9.65 - 10.3 \\exp(-600D)\\;\\;\\;\\;\\;\\;\\;\\;\\;\\;\\;\\;\\;  1\\;mm < D < 10\\; mm$\n",
    "\n",
    "where $k_1 = \\frac{1}{18}\\frac{\\rho_p g}{\\eta} = 3.7\\times10^7\\; m^{-1} s^{-1}$ (assuming water) and $k_2 = 4\\times10^{-3}\\; s^{-1}$\n",
    "\n",
    "<div class=\"alert alert-warning\">\n",
    "Note that the proprtionality on diameter switches from \n",
    "    \n",
    "- $v_t \\propto D^2$ for $D < 100\\mu m$\n",
    "- $v_t \\propto D$ for $0.1 mm < D < 1 mm$\n",
    "- $v_t \\propto \\sqrt{D}$ for $1 mm < D < 5 mm$\n",
    "- $v_t \\approx const$ for $ D > 5 mm$\n",
    "</div>\n"
   ]
  },
  {
   "cell_type": "code",
   "execution_count": null,
   "metadata": {},
   "outputs": [],
   "source": [
    "include(\"scripts/Collision App 4.jl\")"
   ]
  },
  {
   "cell_type": "markdown",
   "metadata": {},
   "source": [
    "<b> Figure 4. </b> Parameterizations of settling velocity compared to the numerical solution at standard pressure and temperature for water droplets. The implemented numerical solution does not account for droplet deformation and is only valid to ~2 mm in diameter.    \n",
    "\n",
    "\n",
    "### <font color='red'> C. Exercises  </font>\n",
    "<div class=\"alert alert-info\">\n",
    "\n",
    "1. List at least two advantages and two disadvantages of using these parameterizations for modeling terminal velocity.\n",
    "2. For large hard spheres, $C_d \\approx 0.44$ and Newtons' theory predicts that $v_t \\propto \\sqrt{D}$. Propose an explanation why terminal velocity approaches a constant for drops with $D >> 5 mm$\n",
    "\n",
    "</div>"
   ]
  },
  {
   "cell_type": "markdown",
   "metadata": {},
   "source": [
    "### 3d. Raindrop Shape\n",
    "\n",
    "Drops with $D > 2\\; mm$ become aspherical. The asphericity $\\alpha$ is defined by the ratio of the length of the maximum vertical and length of maximum horizontal axis, $\\alpha = l_2/l_1$. For larger drops the shape  often oscillates ([link to video](https://www.youtube.com/watch?v=DK30Z7rDiUw)). Oscillations eventually lead to drop breakup. Drop breakup limits the size of raindrops to $D < 8\\; mm$."
   ]
  },
  {
   "cell_type": "code",
   "execution_count": null,
   "metadata": {},
   "outputs": [],
   "source": [
    "include(\"scripts/Collision App 5.jl\")"
   ]
  },
  {
   "cell_type": "markdown",
   "metadata": {},
   "source": [
    "<b> Figure 5. </b> Measured raindrop shapes from a 2-D video disdrometer. Data digitized from Figure 21 in Beard et al. (2010).\n",
    "\n",
    "### <font color='red'> D. Exercises  </font>\n",
    "<div class=\"alert alert-info\">\n",
    "\n",
    "1. Hypothesize why drops become more aspherical with larger size. (And why small drops stay perfectly spherical). Start by considering the principle forces that act on the drop. \n",
    "2. Explain why Newton's drag force will increase for aspherical drops. \n",
    "3. The equilibrium drop aspherity can be paramaterized as $\\alpha = 1.030-0.062 D$, where $D$ is in $[mm]$. Fill out the table to compare predicted to observed $\\alpha$ based on the data.\n",
    "</div>\n",
    "\n",
    "<center>\n",
    "<table style=\"width:35%\">\n",
    "    <caption> <b> </b> Predicted versus observed asphericity. </caption>\n",
    "  <tr>\n",
    "    <th align=\"justify\">Drop size</th>\n",
    "    <th align=\"justify\">$\\alpha$ predicted</th>\n",
    "    <th align=\"justify\">$\\alpha$ measured</th> \n",
    "\n",
    "</tr>\n",
    "  <tr>\n",
    "    <td align=\"justify\">3 mm</td>\n",
    "    <td align=\"justify\"></td>\n",
    "    <td align=\"justify\"></td> \n",
    "\n",
    "</tr>\n",
    "  <tr>\n",
    "    <td align=\"justify\">4 mm</td> \n",
    "    <td align=\"justify\"></td> \n",
    "    <td align=\"justify\"></td>\n",
    "</tr>\n",
    "  <tr>\n",
    "    <td align=\"justify\">5 mm</td>\n",
    "    <td align=\"justify\"></td> \n",
    "    <td align=\"justify\"></td>\n",
    "\n",
    "</tr>\n",
    "  <tr>\n",
    "    <td align=\"justify\">6 mm</td>\n",
    "    <td align=\"justify\"></td> \n",
    "    <td align=\"justify\"></td>\n",
    "  </tr>\n",
    "</table>\n",
    "</center>\n",
    "\n"
   ]
  },
  {
   "cell_type": "markdown",
   "metadata": {},
   "source": [
    "## 4. Gravitational Collection\n",
    "\n",
    "A collector drop with radius $R$ grazes on collected drops with radius $r$. With each collision the mass of the collector drop increases, thus converting cloud water to rain water."
   ]
  },
  {
   "cell_type": "code",
   "execution_count": null,
   "metadata": {},
   "outputs": [],
   "source": [
    "include(\"scripts/Collision App 6.jl\") "
   ]
  },
  {
   "cell_type": "markdown",
   "metadata": {},
   "source": [
    "<b> Figure 6. </b> Simulation of a 50 μm diameter collector drop (blue) falling through a cloud of 10 μm diameter cloud drops (gold). The domain dimensions are 500x500x5000 μm. Each simulation is 5 s long, recorded at a rate of 120 frames/s. The camera follows the collector drop as it falls. New cloud droplets appear at the bottom of the domain in accordance with the assumed droplet concentration.\n",
    "\n",
    "### <font color='red'> E. Exercise  </font>\n",
    "<div class=\"alert alert-info\">\n",
    "Evaluate which of the 9 simulations is the most realistic depiction of the process in our atmosphere. Provide clear arguments to prove your case.\n",
    "</div>\n",
    "\n",
    "### 4a. Collision Frequency"
   ]
  },
  {
   "cell_type": "code",
   "execution_count": null,
   "metadata": {},
   "outputs": [],
   "source": [
    "include(\"scripts/Collision App 7.jl\")"
   ]
  },
  {
   "cell_type": "markdown",
   "metadata": {},
   "source": [
    "<b> Figure 7. </b> 2D representation of the geometry of falling drops. All units are in μm.  $y$ is the horizontal separation between drop centers. $z$ is the vertical separation between drop centers. The camera location is fixed. Settling velocities are slowed down proportional to their respective terminal velocities. \n",
    "\n",
    "### <font color='red'> F. Exercises  </font>\n",
    "<div class=\"alert alert-info\">\n",
    "\n",
    "1. Derive a mathematical expression for the upper limit of $y$ for collisions to occur. \n",
    "2. If $R$ = $r$ will collisions occur? Why or why not?\n",
    "3. Derive a mathematical expression for the cylinder volume swept out by a collector drop with radius $R$ in a cloud with droplets of radius $r$. \n",
    "4. Derive a mathematical expression for the average number of droplets collected in unit time for a drop with radius $R$ falling through a cloud with droplets of radius $r$ and cloud droplet number concentration $N_r$. \n",
    "    \n",
    "</div>"
   ]
  },
  {
   "cell_type": "markdown",
   "metadata": {},
   "source": [
    "### 4b. Collision Efficiency\n",
    "\n",
    "<div class=\"alert alert-warning\">\n",
    "    <b> Definition. </b> The collision efficiency is the probability that a collision will occur with a droplet located at a random location within in the swept volume.\n",
    "</div>"
   ]
  },
  {
   "cell_type": "code",
   "execution_count": null,
   "metadata": {},
   "outputs": [],
   "source": [
    "include(\"scripts/Collision App 8.jl\")"
   ]
  },
  {
   "cell_type": "markdown",
   "metadata": {},
   "source": [
    "<b> Figure 8. </b>  Streamlines of air past a droplet traveling at terminal velocity in laminar flow. Although the golden cloud drop is well within the swept volume, the airflow deflects the particle around the drop. In contrast, the red drop is closer to the centerline and will be captured. Thus, some, but not all drops inside the swept volume will lead to collisions. Whether or not a drop will be captured depends on its position relative to the center line and the sizes of the two drops involved in the interaction. "
   ]
  },
  {
   "cell_type": "code",
   "execution_count": null,
   "metadata": {},
   "outputs": [],
   "source": [
    "include(\"scripts/Collision App 9.jl\")"
   ]
  },
  {
   "cell_type": "markdown",
   "metadata": {},
   "source": [
    "<b> Figure 9. </b> Collision efficiency for a collector drop of diameter $R$ colliding with collected drops of radius $r$. Data used to generate the plot are from Table 8.2 in Rogers and Yau (1989). \n",
    "\n",
    "### <font color='red'> G. Exercises  </font>\n",
    "\n",
    "<div class=\"alert alert-info\">\n",
    "\n",
    "1. The collision efficiency decreases strongly with decreasing particle diameter for $r < 5$ μm, irrespective of the size of the collector drop. Use the concept of relaxation time to explain why this is the case.\n",
    "2. Propose some implications of the fact that small cloud drops have a very low collision efficiency.\n",
    "3. On paper, sketch the relationship between the plateau of the collision efficiency and the size of the collector drop. Use your own words to describe the relationship. Propose some implications of the observed relationship to the process of precipitation formation.\n",
    "    \n",
    "</div>\n",
    "\n",
    "### 4c. Collection Efficiency\n",
    "\n",
    "Not all collisions result in coalescence. A droplets pass each other they modify the flow field around\n",
    "them. Inertia, charges, and, surface properties may cause colliding drops to coalesce, rebound, or disintegrate into smaller fragments ([link to video](https://www.youtube.com/watch?v=AYg4Y3mZ8cg)). The collection efficieny $E_c$ is the product of collision and coalescence efficiencies. \n",
    "\n",
    "### 4d. Mass Growth Rate\n",
    "\n",
    "The mass growth rate is the product of the collision frequency, $f = \\frac{1}{dt} = N_r \\pi (R+r)^2 (v_R-v_r)$, the water mass per drop  $\\frac{4}{3} \\pi r^3 \\rho_l$, and the collection efficency $E_c$ \n",
    "\n",
    "$\\frac{dM}{dt} = N_r \\pi (R+r)^2 (v_R-v_r) \\frac{4}{3} \\pi r^3  \\rho_l E_c$\n",
    "\n",
    "where $M$ is the mass and $N_r$ is the cloud droplet number concentration $[\\# \\; m^{-3}]$.\n",
    "\n",
    "### <font color='red'> H. Exercise  </font>\n",
    "\n",
    "<div class=\"alert alert-info\">\n",
    "\n",
    "Perform using analysis to show that the right hand side of the equation results in units $kg\\; s^{-1}$.\n",
    "    \n",
    "</div>\n",
    "\n",
    "### 4e. Radial Growth Rate\n",
    "<div class=\"alert alert-warning\">\n",
    "\n",
    "Assuming that: $R >> r$ and $R < 50\\; \\mu m$ and recognizing that \n",
    "* $R+r \\approx r$\n",
    "* $v_R - v_r \\approx v_R$\n",
    "* $v_R \\approx  \\frac{2}{9}\\frac{\\rho_l g}{\\eta} R^2$ (Terminal velocity)\n",
    "* $LWC = N_r \\frac{4}{3} \\pi r^3  \\rho_l$ (Cloud liquid water content)\n",
    "* $M = \\frac{4}{3} \\pi R^3 \\rho_l$ (Mass of collector drop)\n",
    "* $\\frac{dM}{dt} = 4\\pi \\rho_l R^2 \\frac{dR}{dt}$\n",
    "</div>\n",
    "\n",
    "The radial growth rate of the collector drop is then\n",
    "\n",
    "$\\frac{dR}{dt} = \\frac{ g }{18\\eta} \\times LWC \\times E_c \\times R^2 $\n",
    "\n",
    "The growth rate scales with cloud liquid water content and $R^2$ of the colletor drop size.\n",
    "\n",
    "### <font color='red'> I. Exercises  </font>\n",
    "\n",
    "\n",
    "<div class=\"alert alert-info\">\n",
    "\n",
    "1. Examine the assumptions and equations stated in the highlighted box. What stage of cloud development do they correspond to? \n",
    "2. Explain/trace the origin of each of the bullet points.\n",
    "3. Use the assumptions stated in the highlighted box. Then derive $\\frac{dR}{dt}$ from the $\\frac{dM}{dt}$ equation above. \n",
    "4. Perform using analysis to show that the right hand side of the $\\frac{dR}{dt}$ equation results in units $m\\; s^{-1}$.\n",
    "    \n",
    "</div>"
   ]
  },
  {
   "cell_type": "markdown",
   "metadata": {},
   "source": [
    "## 5. Growth by condensation vs. growth by collection \n",
    "\n",
    "Growth by condensation dominates for small drops, and growth by collection dominates for large drops. The growth rates can be compared directly:\n",
    "\n",
    "<center>\n",
    "<table style=\"width:45%\">\n",
    "    <caption> Comparison of growth rates. </caption>\n",
    "  <tr>\n",
    "    <th align=\"left\"> Condensation</th>\n",
    "    <th align=\"left\"> Collection </th> \n",
    "\n",
    "</tr>\n",
    "  <tr>\n",
    "    <td align=\"left\">$\\frac{dR}{dt} = \\frac{ G }{R} s$</td>\n",
    "    <td align=\"left\">$\\frac{dR}{dt} = \\frac{ g }{18\\eta} \\times LWC \\times E_c \\times R^2 $</td> \n",
    "\n",
    "</tr>\n",
    "</table>\n",
    "</center>\n",
    "\n",
    "<div class=\"alert alert-warning\">\n",
    "\n",
    "The growth rate by condensation scales with $1/R$ while the growth rate due to collection scales with $R^2$ or $R^4$, depending on whether the dependence of $E_c$ is included. \n",
    "    \n",
    "</div>"
   ]
  },
  {
   "cell_type": "code",
   "execution_count": null,
   "metadata": {},
   "outputs": [],
   "source": [
    "include(\"scripts/Collision App 10.jl\")"
   ]
  },
  {
   "cell_type": "markdown",
   "metadata": {},
   "source": [
    "<b> Figure 10. </b> Comparison of growth rates $\\frac{dR}{dt}$ as a function of $R$ for gravitational collection ad condensational growth.\n",
    "\n",
    "<div class=\"alert alert-danger\">\n",
    "Note that the shown calculation of $dR/dt$ by gravitational collection is only approximate.\n",
    "</div>\n",
    "\n",
    "The growth rate by gravitational collection dominates that of condensation for $R \\gtrapprox 20 \\; \\mu m$. The exact crossover point depends on cloud conditions.\n",
    "\n",
    "### <font color='red'> J. Exercises  </font>\n",
    "\n",
    "<div class=\"alert alert-info\">\n",
    "\n",
    "1. Use the widget to explore the dependency of $dR/dt$ on temperature, pressure, drop number concentration, cloud liquid water content, and assumed collection efficiency. \n",
    "2. Determine the range of $R$ where $dR/dt$ from both processes is equal (the crossover point in the graph). Only include conditions with LWC < 1 g/kg.\n",
    "3. Write computer code to reproduce Figure 10, assuming constant $E_c = 1$, $LWC = 1\\;g/kg$, $T = 10^\\circ C$, $p = 800\\; hPa$. Use Figure 10 to validate your code.\n",
    "    \n",
    "</div>\n"
   ]
  },
  {
   "cell_type": "markdown",
   "metadata": {},
   "source": [
    "## 6. The formation of rain by coalescence\n",
    "\n",
    "\n",
    "### <font color='red'> K. Exercises  </font>\n",
    "\n",
    "<div class=\"alert alert-info\">\n",
    "    \n",
    "1. What is the relationship between convective activity and vertical velocity?\n",
    "2. Hypothesize what the relationship between convective activity (vertical velocity) and rain drop size below cloud base might be. Reason to support your hypothesis.\n",
    "3. Hypothesize what the relationship between convective activity (vertical velocity) and time to onset of precipitation might be. Reason to support your hypothesis.\n",
    "4. Hypothesize what how the average raindrop size (rain intensity) varies with height inside a convective cloud. Reason to support your hypothesis.\n",
    "5. Hypothesize how the average cloud liquid water content (Florida rain versus Seattle rain) affect time to onset and rain drop diameter. Reason to support your hypothesis.\n",
    "6. Hypothesize how the cloud drop diameter affect time to onset and rain drop diameter. \n",
    "</div>\n",
    "\n",
    "Bowen (1950) formulated a simple model to explain the formation of rain by collision and coalescence. The basic assumptions are\n",
    "\n",
    "- The drops settle at terminal velocity, the fall velocity of cloud drops is negligible.\n",
    "- The cloud develops with a constant updraft of velocity $w$. \n",
    "- The cloud droplets have an assumed average radius $r$.\n",
    "- The collector drop starts with twice the mass of the cloud drops (obtained due to a random collision event of like-size drops). Thus  $R = \\sqrt[3]{2}\\times r \\approx 1.26r$. The collector drop grows by condensation and collision/coalescence. \n",
    "- The cloud has a constant liquid water content $LWC$. \n",
    "- The cloud has constant water supersaturation $s$. The is a linear function of updraft velocity ($s = 0.1w$, where $s$ is in percent, and $w$ in $m\\; s^{-1}$)\n",
    "\n",
    "The governing coupled equations describing the change in vertical position and change size of the collector drop are\n",
    "\n",
    "(1) $\\frac{dz}{dt} = w - v_R$\n",
    "\n",
    "(2) $\\frac{dR}{dt} = \\frac{ G }{R} s + \\frac{1}{4\\rho_l}\\times LWC \\times  E_c \\times v_R $\n",
    "\n",
    "Due to the dependence of terminal velocity and collection efficiency on size, the equations must be solved numerically. "
   ]
  },
  {
   "cell_type": "code",
   "execution_count": null,
   "metadata": {},
   "outputs": [],
   "source": [
    "include(\"scripts/Collision App 11.jl\")"
   ]
  },
  {
   "cell_type": "markdown",
   "metadata": {},
   "source": [
    "<b> Figure 11. </b> Left: Trajectory of a collector drop starting with twice the mass of the cloud droplet population. Initially the droplet grows slowly and is carried up with the updraft. After some time, the drop is large enough fall relative to the air and remain suspended in the updraft. Continuing growth results in downward motion until the drop emerges as rain below cloud base. Right: Variation of droplet diameter with height for the same trajectory.\n",
    "\n",
    "### <font color='red'> L. Exercises  </font>\n",
    "\n",
    "<div class=\"alert alert-info\">\n",
    "    \n",
    "1. For the displayed condition, what is the time until precipitation forms? What is the diameter of the rain leaving the cloud?\n",
    "2. Use the widgets to determine and sketch on paper:\n",
    "    1. The relationship between updraft velocity and time to rain formation.\n",
    "    2. The relationship between updraft velocity and raindrop diameter.\n",
    "    3. The relationship between liquid water content and time to rain formation.\n",
    "    4. The relationship between liquid water content and raindrop diameter.\n",
    "    5. The relationship between average cloud droplet diameter and raindrop size.\n",
    "    6. The relationship of rainfall intensity with height.\n",
    "3. Compare the obtained relationships with the hypotheses formulated earlier. Do they agree? Why or why not?\n",
    "\n",
    "</div>\n"
   ]
  },
  {
   "cell_type": "markdown",
   "metadata": {},
   "source": [
    "\n",
    "<div class=\"alert alert-warning\">\n",
    "\n",
    "The Bowen model results  are in qualitative agreement with observations. However, the estimated time to onset of precipitation of ~60 min is too slow. Observations show that such drops can be formed in less than half this time. Proposed explanations include\n",
    "\n",
    "1. Giant cloud condensation nuclei: Aerosol particles with D > 1μm may activate early and grow to large sizes. For example large dust particles or spume drop derived sea-spray aeorsol. Ultragiant particles (e.g. pollen) may act as embryos for the formation of the collection drops. \n",
    "2. Drop spectral preconditioning: Clouds can form in the wake of previous clouds. Cloud-droplets from a decaying cloud become incorporated into a newly developing cloud. The presence of pre-existing drops broadens the drop size distribution.\n",
    "3. Stochastic growth: Collisions are individual events distributed in statistically in space and time. Stochastic growth considers few larger drops which have made a coalescence collision after a rather short time. The next collisions are more favorable and broaden the drop size spectrum\n",
    "4. Turbulence: Turbulence has a number of effects, including inhomogeneous mixing of air producing localized pockets of high and low supersaturation and affecting the flow field between drops. Pockets of high supersaturation produce large drops that enhance collision efficiencies and collection.\n",
    "    \n",
    "<div>"
   ]
  },
  {
   "cell_type": "markdown",
   "metadata": {},
   "source": [
    "### <font color='red'> M. Reflection  </font>\n",
    "\n",
    "<div class=\"alert alert-info\">\n",
    "The vast majority of clouds do not generate rain. Reflect on meteorological and cloud microphysical conditions that must be met that rain forms in non-freezing clouds. Describe at minimum three conditions that must be satisfied. "
   ]
  },
  {
   "cell_type": "markdown",
   "metadata": {},
   "source": [
    "## References Cited\n",
    "\n",
    "Beard, K.V., V.N. Bringi, M. Thurai, A new understanding of raindrop shape, Atmospheric Research,\n",
    "97(4), 2010, 396-415, https://doi.org/10.1016/j.atmosres.2010.02.001.\n",
    "\n",
    "Bowen, E. G., The formation of rain by coalescence, Australian Journal of Scientific Research, Series A: Physical Sciences, vol. 3, p.193.\n",
    "\n",
    "Rogers, R. R. and Yau, M. K., A Short Course in Cloud Physics, Third Edition, 1989."
   ]
  },
  {
   "cell_type": "markdown",
   "metadata": {},
   "source": [
    "# Licenses\n",
    "\n",
    "<div class=\"alert alert-success\">\n",
    "    \n",
    "Author and Copyright: [Markus Petters](https://mdpetters.github.io/)\n",
    "\n",
    "The text of this notebook and images created by the author are licensed under the Creative Commons Attribution-NonCommercial-ShareAlike 4.0 International Public License [CC BY-NC-SA 4.0](https://creativecommons.org/licenses/by-nc-sa/4.0/). The scripts are licensed under the [GNU General Public License v3](https://www.gnu.org/licenses/gpl-3.0.en.html). \n",
    "\n",
    "Images and software from other sources are licensed as indicated. The \"easter-egg\" video is taken from https://www.sample-videos.com/. No license is specified from the source.\n",
    "\n",
    "</div>"
   ]
  }
 ],
 "metadata": {
  "@webio": {
   "lastCommId": null,
   "lastKernelId": null
  },
  "kernelspec": {
   "display_name": "Julia 1.4.0",
   "language": "julia",
   "name": "julia-1.4"
  },
  "language_info": {
   "file_extension": ".jl",
   "mimetype": "application/julia",
   "name": "julia",
   "version": "1.4.0"
  }
 },
 "nbformat": 4,
 "nbformat_minor": 2
}
