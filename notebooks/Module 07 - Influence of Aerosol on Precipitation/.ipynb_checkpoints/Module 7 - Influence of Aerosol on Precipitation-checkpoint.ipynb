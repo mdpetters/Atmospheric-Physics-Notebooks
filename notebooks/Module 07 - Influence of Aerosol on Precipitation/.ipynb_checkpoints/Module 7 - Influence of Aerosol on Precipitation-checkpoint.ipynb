{
 "cells": [
  {
   "cell_type": "markdown",
   "metadata": {},
   "source": [
    " # <center> Module 7: Influence of Aerosol on Warm Rain </center>\n",
    "\n",
    "## 1. Learning Objectives\n",
    "<div class=\"alert alert-success\">\n",
    "\n",
    "- Define autoconversion and warm rain\n",
    "- Explain vertical profiles of cloud liquid water content in g/kg\n",
    "- Explain how mean droplet diameter depends on height above the LCL and CDNC \n",
    "- Analyze how CCN spectra parameterized in terms of C and k influence mean droplet radius\n",
    "- Analyze data of the vertical profile of mean droplet radius in cumuli for clean and polluted airmasses \n",
    "- Analyze data relating aerosol number concentration to rain rates in stratus clouds\n",
    "\n",
    "</div>"
   ]
  },
  {
   "cell_type": "markdown",
   "metadata": {},
   "source": [
    "## 2. Influence of CCN and CDNC on Precipitation Initation \n",
    "\n",
    "### 2a. Autoconversion\n",
    "\n",
    "<div class=\"alert alert-warning\">\n",
    "\n",
    "<b> Definition (American Meteorological Society) </b> The initial stage of the collision–coalescence process whereby cloud droplets collide and coalesce to form drizzle drops. Originally a term for the rate equation to approximate the transfer of cloud drops to drizzle. Because of the low collection efficiencies among cloud drops, autoconversion can be the limiting factor in the formation of drizzle\n",
    "\n",
    "</div>\n",
    "\n",
    "In the absence of ice, formation of drizzle and rain occurs only when the mean droplet diameter exceeds a certain threshold value. Andreae et al. (2004) observed the onset of precipitation, defined as aircraft-radar rain echo and visible drops on the windshield when the modal droplet diameter exceeded 24 μm. The onset value is sometimes referred to as the autoconversion threshold. \n",
    "\n",
    "Without taking into account the distribution of droplet sizes, the droplet diameter is controlled by the number of available cloud droplets (i.e. CDNC) and the available liquid water content. CDNC thus influences the thickness a cloud must reach before rain can form."
   ]
  },
  {
   "cell_type": "code",
   "execution_count": null,
   "metadata": {},
   "outputs": [],
   "source": [
    "using WebIO; WebIO.setup(:ijulia);\n",
    "include(\"scripts/Cloud Formation App 4.jl\" )"
   ]
  },
  {
   "cell_type": "markdown",
   "metadata": {},
   "source": [
    "### <font color='red'> A. Exercises</font>\n",
    "\n",
    "<div class=\"alert alert-info\">\n",
    "\n",
    "1. Explain why liquid water content (g/kg) first increases with height above cloud base and then approaches a constant value.\n",
    "2. Use the widgets to create clouds with the same dew-point depression but warmer cloud base temperature. How does the maximum cloud liquid water content relate to the temperature at cloud base? Explain the origin of this trend.\n",
    "3. Explain why the mean droplet radius first increases with height, then approaches a constant.\n",
    "4. Explain what the autoconversion threshold means.\n",
    "5. Explain why the mean droplet radius depends on the CDNC\n",
    "6. The height (or the cloud thickness defined as height of warm rain onset - height of the LCL) required for warm rain onset depends on CDNC. Use the widgets to determine the Δz required for rain onset for a range of cloud conditions, varying C,k,w,T,and Tdew. You can read the CDNC, onset LWC, and onset Δz values from the legends. Fill the following table and sort the table in increasing order of CDNC.\n",
    "\n",
    "</div>\n",
    "\n",
    "<center>\n",
    "<table style=\"width:45%\">\n",
    "    <caption> <b> </b> Relationship between LWC at rain onset, CDNC, and height of rain onset. Use the sliders to generate a range of conditions. </caption>\n",
    "  <tr>\n",
    "    <th align=\"justify\">Case</th>\n",
    "    <th align=\"justify\">CDNC (cm<sup>-3</sup>)</th> \n",
    "    <th align=\"justify\">LWC (g/kg)</th>\n",
    "    <th align=\"justify\">Δz (m)</th>  \n",
    "</tr>\n",
    "  <tr>\n",
    "    <td align=\"justify\">Case 1</td>\n",
    "    <td align=\"justify\"></td>\n",
    "    <td align=\"justify\"></td> \n",
    "    <td align=\"justify\"></td>\n",
    "</tr>\n",
    "  <tr>\n",
    "    <td align=\"justify\">Case 2</td> \n",
    "    <td align=\"justify\"></td>\n",
    "    <td align=\"justify\"></td> \n",
    "    <td align=\"justify\"></td>\n",
    "</tr>\n",
    "  <tr>\n",
    "    <td align=\"justify\">Case 3</td>\n",
    "    <td align=\"justify\"></td>\n",
    "    <td align=\"justify\"></td> \n",
    "    <td align=\"justify\"></td>\n",
    "\n",
    "</tr>\n",
    "  <tr>\n",
    "    <td align=\"justify\">Case 4</sup></td>\n",
    "    <td align=\"justify\"></td>\n",
    "    <td align=\"justify\"></td> \n",
    "    <td align=\"justify\"></td>\n",
    "  </tr>\n",
    "  <tr>\n",
    "    <td align=\"justify\">Case 5</sup></td>\n",
    "    <td align=\"justify\"></td>\n",
    "    <td align=\"justify\"></td> \n",
    "    <td align=\"justify\"></td>\n",
    "\n",
    "  </tr>\n",
    "</table>\n",
    "</center>\n",
    "\n",
    "<div class=\"alert alert-info\">\n",
    "\n",
    "7. Complete the following sentence. Clouds with higher droplet number concentration require ____________________________________ to precipitate.\n",
    "8. Complete the following sentence. Clouds with colder cloud-base temperature are ____________________________________ likely to precipitate.\n",
    "\n",
    "</div>\n"
   ]
  },
  {
   "cell_type": "markdown",
   "metadata": {},
   "source": [
    "### 2b. Analyzing Observations\n",
    "\n",
    "Aircraft observations of droplet size distributions in clouds demonstrate that the Δz required to reach the autoconversion threshold varies significantly between environments. The figure below shows the dependence of drop diameter on the height above cloud base (LCL) for four clouds. \"Blue ocean\" refers to marine clouds, \"green ocean\" to remote clean clouds forming over the Amazon rainforest, and \"Thailand\" to clouds over a polluted region. The vertical line denotes the onset of warm rain. Data is from Andreae et al. (2004). "
   ]
  },
  {
   "cell_type": "code",
   "execution_count": null,
   "metadata": {},
   "outputs": [],
   "source": [
    "include(\"scripts/Cloud Formation App 5.jl\" )"
   ]
  },
  {
   "cell_type": "markdown",
   "metadata": {},
   "source": [
    "## <font color='red'> B. Exercises </font>\n",
    "\n",
    "<div class=\"alert alert-info\">\n",
    "\n",
    "1. Does temperature at the LCL increase or decrease the modal diameter? Explain why. \n",
    "2. Does increasing C increase or decrease the modal drop diameter? Explain why.\n",
    "3. Does increasing w increase or decrease the modal drop diameter? Explain why.\n",
    "4. Use the widget to find conditions that approximately match the \"blue ocean\", \"green ocean\", and \"Thailand\" cases. (Perform these exercises individually). Record values for C, k, w, and TLCL that match the observations.\n",
    "5. Compare the values to those of your group. Are they unique? If not, provide an explanation why.\n",
    "6. Contrast your C values with typical C values for clean marine and continental polluted conditions. Are they within your expectations?\n",
    "7. Which of the environments leads to more readily precipitating clouds?\n",
    "8. Does the shape of the model match the observations? If not, propose explanations why the model may not represent the data. \n",
    "\n",
    "</div>"
   ]
  },
  {
   "cell_type": "markdown",
   "metadata": {},
   "source": [
    "## <font color='red'> C. Reflection </font>\n",
    "\n",
    "<div class=\"alert alert-info\">\n",
    "Pollution from vehicles and industry stacks increase the number of available CCN over continental regions. Write a summary paragraph on the potential impacts of pollution on clouds and precipitation.\n",
    "    \n",
    "</div>"
   ]
  },
  {
   "cell_type": "markdown",
   "metadata": {},
   "source": [
    "## References Cited\n",
    "\n",
    "Andreae, M. O., D. Rosenfeld, P. Artaxo, A. A. Costa, G. P. Frank, K. M. Longo, and M. A. F. Silvia-Dias (2004), Smoking rain clouds over the Amazon, Science, 303, 1337–1342, doi:10.1126/science.1092779"
   ]
  },
  {
   "cell_type": "markdown",
   "metadata": {},
   "source": [
    "# Licenses\n",
    "\n",
    "<div class=\"alert alert-success\">\n",
    "\n",
    "Author and Copyright: [Markus Petters](https://mdpetters.github.io/)\n",
    "\n",
    "The text of this notebook and images created by the author are licensed under the Creative Commons Attribution-NonCommercial-ShareAlike 4.0 International Public License [CC BY-NC-SA 4.0](https://creativecommons.org/licenses/by-nc-sa/4.0/). The scripts are licensed under the [GNU General Public License v3](https://www.gnu.org/licenses/gpl-3.0.en.html). \n",
    "\n",
    "Images and software from other sources are licensed as indicated.\n",
    "\n",
    "</div>"
   ]
  }
 ],
 "metadata": {
  "@webio": {
   "lastCommId": null,
   "lastKernelId": null
  },
  "kernelspec": {
   "display_name": "Julia 1.3.1",
   "language": "julia",
   "name": "julia-1.3"
  },
  "language_info": {
   "file_extension": ".jl",
   "mimetype": "application/julia",
   "name": "julia",
   "version": "1.4.0"
  }
 },
 "nbformat": 4,
 "nbformat_minor": 2
}
